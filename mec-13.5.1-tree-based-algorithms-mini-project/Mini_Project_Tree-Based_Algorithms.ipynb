{
 "cells": [
  {
   "cell_type": "markdown",
   "metadata": {},
   "source": [
    "# Mini Project: Tree-Based Algorithms"
   ]
  },
  {
   "cell_type": "markdown",
   "metadata": {},
   "source": [
    "## The \"German Credit\" Dataset"
   ]
  },
  {
   "cell_type": "markdown",
   "metadata": {},
   "source": [
    "### Dataset Details"
   ]
  },
  {
   "cell_type": "markdown",
   "metadata": {},
   "source": [
    "This dataset has two classes (these would be considered labels in Machine Learning terms) to describe the worthiness of a personal loan: \"Good\" or \"Bad\". There are predictors related to attributes, such as: checking account status, duration, credit history, purpose of the loan, amount of the loan, savings accounts or bonds, employment duration, installment rate in percentage of disposable income, personal information, other debtors/guarantors, residence duration, property, age, other installment plans, housing, number of existing credits, job information, number of people being liable to provide maintenance for, telephone, and foreign worker status.\n",
    "\n",
    "Many of these predictors are discrete and have been expanded into several 0/1 indicator variables (a.k.a. they have been one-hot-encoded).\n",
    "\n",
    "This dataset has been kindly provided by Professor Dr. Hans Hofmann of the University of Hamburg, and can also be found on the UCI Machine Learning Repository."
   ]
  },
  {
   "cell_type": "markdown",
   "metadata": {},
   "source": [
    "\n",
    "\n",
    "\n"
   ]
  },
  {
   "cell_type": "markdown",
   "metadata": {},
   "source": [
    "## Decision Trees"
   ]
  },
  {
   "cell_type": "markdown",
   "metadata": {},
   "source": [
    " As we have learned in the previous lectures, Decision Trees as a family of algorithms (irrespective to the particular implementation) are powerful algorithms that can produce models with a predictive accuracy higher than that produced by linear models, such as Linear or Logistic Regression. Primarily, this is due to the fact the DT's can model nonlinear relationships, and also have a number of tuning paramters, that allow for the practicioner to achieve the best possible model. An added bonus is the ability to visualize the trained Decision Tree model, which allows for some insight into how the model has produced the predictions that it has. One caveat here, to keep in mind, is that sometimes, due to the size of the dataset (both in the sense of the number of records, as well as the number of features), the visualization might prove to be very large and complex, increasing the difficulty of interpretation."
   ]
  },
  {
   "cell_type": "markdown",
   "metadata": {},
   "source": [
    "To give you a very good example of how Decision Trees can be visualized and interpreted, we would strongly recommend that, before continuing on with solving the problems in this Mini Project, you take the time to read this fanstastic, detailed and informative blog post: http://explained.ai/decision-tree-viz/index.html"
   ]
  },
  {
   "cell_type": "markdown",
   "metadata": {},
   "source": [
    "## Building Your First Decision Tree Model"
   ]
  },
  {
   "cell_type": "markdown",
   "metadata": {},
   "source": [
    "So, now it's time to jump straight into the heart of the matter. Your first task, is to build a Decision Tree model, using the aforementioned \"German Credit\" dataset, which contains 1,000 records, and 62 columns (one of them presents the labels, and the other 61 present the potential features for the model.)"
   ]
  },
  {
   "cell_type": "markdown",
   "metadata": {},
   "source": [
    "For this task, you will be using the scikit-learn library, which comes already pre-installed with the Anaconda Python distribution. In case you're not using that, you can easily install it using pip."
   ]
  },
  {
   "cell_type": "markdown",
   "metadata": {},
   "source": [
    "Before embarking on creating your first model, we would strongly encourage you to read the short tutorial for Decision Trees in scikit-learn (http://scikit-learn.org/stable/modules/tree.html), and then dive a bit deeper into the documentation of the algorithm itself (http://scikit-learn.org/stable/modules/generated/sklearn.tree.DecisionTreeClassifier.html). "
   ]
  },
  {
   "cell_type": "markdown",
   "metadata": {},
   "source": [
    "Also, since you want to be able to present the results of your model, we suggest you take a look at the tutorial for accuracy metrics for classification models (http://scikit-learn.org/stable/modules/model_evaluation.html#classification-report) as well as the more detailed documentation (http://scikit-learn.org/stable/modules/generated/sklearn.metrics.classification_report.html).\n",
    "\n",
    "Finally, an *amazing* resource that explains the various classification model accuracy metrics, as well as the relationships between them, can be found on Wikipedia: https://en.wikipedia.org/wiki/Confusion_matrix"
   ]
  },
  {
   "cell_type": "markdown",
   "metadata": {},
   "source": [
    "(Note: as you've already learned in the Logistic Regression mini project, a standard practice in Machine Learning for achieving the best possible result when training a model is to use hyperparameter tuning, through Grid Search and k-fold Cross Validation. We strongly encourage you to use it here as well, not just because it's standard practice, but also becuase it's not going to be computationally to intensive, due to the size of the dataset that you're working with. Our suggestion here is that you split the data into 70% training, and 30% testing. Then, do the hyperparameter tuning and Cross Validation on the training set, and afterwards to a final test on the testing set.)"
   ]
  },
  {
   "cell_type": "markdown",
   "metadata": {},
   "source": [
    "### Now we pass the torch onto you! You can start building your first Decision Tree model! :)"
   ]
  },
  {
   "cell_type": "code",
   "execution_count": 16,
   "metadata": {},
   "outputs": [],
   "source": [
    "import pandas as pd\n",
    "import numpy as np\n",
    "from sklearn.tree import DecisionTreeClassifier\n",
    "from sklearn.metrics import classification_report\n",
    "from sklearn.model_selection import train_test_split\n",
    "from sklearn.model_selection import GridSearchCV"
   ]
  },
  {
   "cell_type": "code",
   "execution_count": 13,
   "metadata": {},
   "outputs": [
    {
     "name": "stdout",
     "output_type": "stream",
     "text": [
      "Fitting 10 folds for each of 648 candidates, totalling 6480 fits\n"
     ]
    },
    {
     "name": "stderr",
     "output_type": "stream",
     "text": [
      "/Users/will/Development/miniforge_x86/envs/mec-miniprojects/lib/python3.7/site-packages/sklearn/model_selection/_search.py:925: UserWarning: One or more of the test scores are non-finite: [       nan 0.70142857 0.70142857 0.70142857 0.70142857 0.70142857\n",
      " 0.70142857 0.70142857 0.70142857        nan 0.70142857 0.70142857\n",
      " 0.70142857 0.70142857 0.70142857 0.70142857 0.70142857 0.70142857\n",
      "        nan 0.70142857 0.70142857 0.70142857 0.70142857 0.70142857\n",
      " 0.70142857 0.70142857 0.70142857        nan 0.70142857 0.70142857\n",
      " 0.70142857 0.70142857 0.70142857 0.70142857 0.70142857 0.70142857\n",
      "        nan 0.69714286 0.69714286 0.69714286 0.69714286 0.69714286\n",
      " 0.69714286 0.69714286 0.69714286        nan 0.69714286 0.69714286\n",
      " 0.69714286 0.69714286 0.69714286 0.69714286 0.69714286 0.69714286\n",
      "        nan 0.69714286 0.69714286 0.69714286 0.69714286 0.69714286\n",
      " 0.69714286 0.69714286 0.69714286        nan 0.69714286 0.69714286\n",
      " 0.69714286 0.69714286 0.69714286 0.69714286 0.69714286 0.69714286\n",
      "        nan 0.71285714 0.71285714 0.71285714 0.71285714 0.71285714\n",
      " 0.71285714 0.71285714 0.71285714        nan 0.71285714 0.71285714\n",
      " 0.71285714 0.71285714 0.71285714 0.71285714 0.71285714 0.71285714\n",
      "        nan 0.71285714 0.71285714 0.71285714 0.71285714 0.71285714\n",
      " 0.71285714 0.71285714 0.71285714        nan 0.71285714 0.71285714\n",
      " 0.71285714 0.71285714 0.71285714 0.71285714 0.71285714 0.71285714\n",
      "        nan 0.72142857 0.72142857 0.72       0.72142857 0.72142857\n",
      " 0.72285714 0.72       0.71857143        nan 0.72285714 0.72428571\n",
      " 0.72285714 0.72142857 0.72428571 0.72428571 0.72142857 0.72142857\n",
      "        nan 0.72       0.72142857 0.72       0.72142857 0.72142857\n",
      " 0.72       0.72       0.71857143        nan 0.72142857 0.72142857\n",
      " 0.72142857 0.72142857 0.72142857 0.72142857 0.72142857 0.72142857\n",
      "        nan 0.71       0.71       0.71428571 0.71428571 0.71285714\n",
      " 0.71714286 0.71285714 0.71142857        nan 0.71714286 0.71857143\n",
      " 0.71714286 0.71714286 0.71714286 0.72       0.71428571 0.71571429\n",
      "        nan 0.71428571 0.71714286 0.71571429 0.71428571 0.71285714\n",
      " 0.71285714 0.71142857 0.71571429        nan 0.71285714 0.71428571\n",
      " 0.71428571 0.71428571 0.71571429 0.71428571 0.71571429 0.71857143\n",
      "        nan 0.69857143 0.7        0.70285714 0.69857143 0.7\n",
      " 0.69571429 0.69714286 0.69857143        nan 0.70285714 0.70857143\n",
      " 0.70285714 0.70285714 0.70142857 0.69714286 0.69857143 0.70428571\n",
      "        nan 0.70571429 0.70571429 0.69857143 0.70428571 0.70285714\n",
      " 0.70714286 0.69857143 0.7               nan 0.70285714 0.70142857\n",
      " 0.70428571 0.70428571 0.70285714 0.70428571 0.70285714 0.7\n",
      "        nan 0.70285714 0.70142857 0.69857143 0.70285714 0.69571429\n",
      " 0.70285714 0.69857143 0.69714286        nan 0.70428571 0.70857143\n",
      " 0.70571429 0.70571429 0.70142857 0.69857143 0.70142857 0.70142857\n",
      "        nan 0.69571429 0.69714286 0.70714286 0.70285714 0.69714286\n",
      " 0.70285714 0.70285714 0.70285714        nan 0.70142857 0.7\n",
      " 0.7        0.70142857 0.70285714 0.70571429 0.7        0.69857143\n",
      "        nan 0.70857143 0.70714286 0.70428571 0.70714286 0.70571429\n",
      " 0.71       0.70428571 0.70285714        nan 0.71571429 0.71428571\n",
      " 0.71714286 0.70571429 0.71714286 0.71714286 0.71571429 0.71285714\n",
      "        nan 0.70571429 0.70428571 0.70142857 0.71       0.71142857\n",
      " 0.71285714 0.71285714 0.70714286        nan 0.71       0.71285714\n",
      " 0.72142857 0.71142857 0.71571429 0.71285714 0.70857143 0.72285714\n",
      "        nan 0.70857143 0.70857143 0.70714286 0.70285714 0.70285714\n",
      " 0.70571429 0.69857143 0.70142857        nan 0.71285714 0.71428571\n",
      " 0.71714286 0.71857143 0.71       0.71428571 0.71857143 0.71142857\n",
      "        nan 0.71571429 0.70428571 0.70428571 0.71428571 0.71428571\n",
      " 0.71857143 0.71428571 0.71571429        nan 0.70571429 0.71285714\n",
      " 0.70857143 0.71       0.71571429 0.70857143 0.71571429 0.71285714\n",
      "        nan 0.70142857 0.70142857 0.70142857 0.70142857 0.70142857\n",
      " 0.70142857 0.70142857 0.70142857        nan 0.70142857 0.70142857\n",
      " 0.70142857 0.70142857 0.70142857 0.70142857 0.70142857 0.70142857\n",
      "        nan 0.70142857 0.70142857 0.70142857 0.70142857 0.70142857\n",
      " 0.70142857 0.70142857 0.70142857        nan 0.70142857 0.70142857\n",
      " 0.70142857 0.70142857 0.70142857 0.70142857 0.70142857 0.70142857\n",
      "        nan 0.69714286 0.69714286 0.69714286 0.69714286 0.69714286\n",
      " 0.69714286 0.69714286 0.69714286        nan 0.69714286 0.69714286\n",
      " 0.69714286 0.69714286 0.69714286 0.69714286 0.69714286 0.69714286\n",
      "        nan 0.69714286 0.69714286 0.69714286 0.69714286 0.69714286\n",
      " 0.69714286 0.69714286 0.69714286        nan 0.69714286 0.69714286\n",
      " 0.69714286 0.69714286 0.69714286 0.69714286 0.69714286 0.69714286\n",
      "        nan 0.71857143 0.71857143 0.71857143 0.71857143 0.71857143\n",
      " 0.71857143 0.71857143 0.71857143        nan 0.71857143 0.71857143\n",
      " 0.71857143 0.71857143 0.71857143 0.71857143 0.71857143 0.71857143\n",
      "        nan 0.71857143 0.71857143 0.71857143 0.71857143 0.71857143\n",
      " 0.71857143 0.71857143 0.71857143        nan 0.71857143 0.71857143\n",
      " 0.71857143 0.71857143 0.71857143 0.71857143 0.71857143 0.71857143\n",
      "        nan 0.72142857 0.72142857 0.72142857 0.72142857 0.72142857\n",
      " 0.72285714 0.72142857 0.72285714        nan 0.72428571 0.72142857\n",
      " 0.72142857 0.72285714 0.72142857 0.72285714 0.72285714 0.72285714\n",
      "        nan 0.72428571 0.72428571 0.72428571 0.72428571 0.72428571\n",
      " 0.72285714 0.72285714 0.72285714        nan 0.71857143 0.71857143\n",
      " 0.71857143 0.71857143 0.71857143 0.71857143 0.71857143 0.71857143\n",
      "        nan 0.7        0.69714286 0.69571429 0.69857143 0.69571429\n",
      " 0.69714286 0.7        0.7               nan 0.69857143 0.70142857\n",
      " 0.7        0.7        0.69714286 0.69857143 0.7        0.69857143\n",
      "        nan 0.69857143 0.70142857 0.69857143 0.69857143 0.69857143\n",
      " 0.69714286 0.7        0.70142857        nan 0.7        0.70142857\n",
      " 0.70428571 0.70285714 0.70285714 0.70428571 0.70285714 0.70285714\n",
      "        nan 0.69428571 0.69       0.69       0.69428571 0.69142857\n",
      " 0.68285714 0.68857143 0.68857143        nan 0.69285714 0.68714286\n",
      " 0.69142857 0.69       0.68857143 0.68285714 0.68714286 0.68571429\n",
      "        nan 0.69571429 0.69285714 0.69142857 0.69       0.69\n",
      " 0.69       0.69428571 0.69285714        nan 0.69285714 0.69285714\n",
      " 0.69285714 0.69428571 0.69142857 0.69142857 0.69285714 0.69142857\n",
      "        nan 0.70285714 0.69714286 0.7        0.7        0.69428571\n",
      " 0.69142857 0.69428571 0.69142857        nan 0.70142857 0.70142857\n",
      " 0.69857143 0.69714286 0.69857143 0.69       0.7        0.69285714\n",
      "        nan 0.70857143 0.70285714 0.70571429 0.70428571 0.70571429\n",
      " 0.71       0.71142857 0.70857143        nan 0.70428571 0.70285714\n",
      " 0.70857143 0.70571429 0.70142857 0.69714286 0.71       0.70285714\n",
      "        nan 0.69571429 0.68857143 0.68571429 0.68857143 0.68714286\n",
      " 0.68571429 0.68571429 0.68428571        nan 0.69142857 0.69\n",
      " 0.68142857 0.69       0.69285714 0.68857143 0.68285714 0.68857143\n",
      "        nan 0.68571429 0.69285714 0.69142857 0.69571429 0.68714286\n",
      " 0.68571429 0.7        0.69714286        nan 0.7        0.69428571\n",
      " 0.70285714 0.7        0.70428571 0.69857143 0.69714286 0.69714286\n",
      "        nan 0.69       0.68142857 0.68285714 0.68428571 0.68142857\n",
      " 0.68285714 0.67714286 0.66857143        nan 0.67714286 0.67571429\n",
      " 0.67857143 0.68       0.67714286 0.67571429 0.67571429 0.67714286\n",
      "        nan 0.67714286 0.68571429 0.67857143 0.67857143 0.68\n",
      " 0.68571429 0.68571429 0.68428571        nan 0.68857143 0.68571429\n",
      " 0.68428571 0.68285714 0.68571429 0.68857143 0.68857143 0.68285714]\n",
      "  category=UserWarning\n"
     ]
    },
    {
     "data": {
      "text/plain": [
       "{'criterion': 'gini',\n",
       " 'max_depth': 4,\n",
       " 'min_samples_leaf': 2,\n",
       " 'min_samples_split': 3}"
      ]
     },
     "execution_count": 13,
     "metadata": {},
     "output_type": "execute_result"
    }
   ],
   "source": [
    "# Your code here! :\n",
    "df = pd.read_csv('GermanCredit.csv.zip')\n",
    "X = df.drop('Class', axis=1)\n",
    "y = df['Class']\n",
    "x_train, x_test, y_train, y_test = train_test_split(X, y, test_size=0.3, random_state=42)\n",
    "\n",
    "param_dict = {\n",
    "    'criterion':['gini', 'entropy'],\n",
    "    'max_depth': range(1, 10),\n",
    "    'min_samples_split': range(1, 10),\n",
    "    'min_samples_leaf': range(1, 5),\n",
    "}\n",
    "clf = DecisionTreeClassifier()\n",
    "grid = GridSearchCV(clf,\n",
    "                    param_grid=param_dict,\n",
    "                    cv=10,\n",
    "                    verbose=1,\n",
    "                    n_jobs=-1)\n",
    "grid.fit(x_train, y_train)\n",
    "grid.best_estimator_\n",
    "grid.best_params_"
   ]
  },
  {
   "cell_type": "markdown",
   "metadata": {},
   "source": [
    "### After you've built the best model you can, now it's time to visualize it!"
   ]
  },
  {
   "cell_type": "markdown",
   "metadata": {},
   "source": [
    "Rememeber that amazing blog post from a few paragraphs ago, that demonstrated how to visualize and interpret the results of your Decision Tree model. We've seen that this can perform very well, but let's see how it does on the \"German Credit\" dataset that we're working on, due to it being a bit larger than the one used by the blog authors."
   ]
  },
  {
   "cell_type": "markdown",
   "metadata": {},
   "source": [
    "First, we're going to need to install their package. If you're using Anaconda, this can be done easily by running:"
   ]
  },
  {
   "cell_type": "markdown",
   "metadata": {},
   "source": [
    "If for any reason this way of installing doesn't work for you straight out of the box, please refer to the more detailed documentation here: https://github.com/parrt/dtreeviz"
   ]
  },
  {
   "cell_type": "markdown",
   "metadata": {},
   "source": [
    "Now you're ready to visualize your Decision Tree model! Please feel free to use the blog post for guidance and inspiration!"
   ]
  },
  {
   "cell_type": "code",
   "execution_count": 14,
   "metadata": {},
   "outputs": [
    {
     "ename": "AttributeError",
     "evalue": "'DecisionTreeClassifier' object has no attribute 'tree_'",
     "output_type": "error",
     "traceback": [
      "\u001b[0;31m---------------------------------------------------------------------------\u001b[0m",
      "\u001b[0;31mAttributeError\u001b[0m                            Traceback (most recent call last)",
      "\u001b[0;32m<ipython-input-14-22ab8ced72e4>\u001b[0m in \u001b[0;36m<module>\u001b[0;34m\u001b[0m\n\u001b[1;32m      8\u001b[0m                \u001b[0mfeature_names\u001b[0m\u001b[0;34m=\u001b[0m\u001b[0mdf\u001b[0m\u001b[0;34m.\u001b[0m\u001b[0mcolumns\u001b[0m\u001b[0;34m,\u001b[0m\u001b[0;34m\u001b[0m\u001b[0;34m\u001b[0m\u001b[0m\n\u001b[1;32m      9\u001b[0m                \u001b[0mclass_names\u001b[0m\u001b[0;34m=\u001b[0m\u001b[0;34m[\u001b[0m\u001b[0;34m\"Good\"\u001b[0m\u001b[0;34m,\u001b[0m \u001b[0;34m\"Bad\"\u001b[0m\u001b[0;34m]\u001b[0m\u001b[0;34m,\u001b[0m\u001b[0;34m\u001b[0m\u001b[0;34m\u001b[0m\u001b[0m\n\u001b[0;32m---> 10\u001b[0;31m                histtype= 'barstacked')\n\u001b[0m\u001b[1;32m     11\u001b[0m \u001b[0mviz\u001b[0m\u001b[0;34m\u001b[0m\u001b[0;34m\u001b[0m\u001b[0m\n",
      "\u001b[0;32m~/Development/miniforge_x86/envs/mec-miniprojects/lib/python3.7/site-packages/dtreeviz/trees.py\u001b[0m in \u001b[0;36mdtreeviz\u001b[0;34m(tree_model, x_data, y_data, feature_names, target_name, class_names, tree_index, precision, orientation, instance_orientation, show_root_edge_labels, show_node_labels, show_just_path, fancy, histtype, highlight_path, X, max_X_features_LR, max_X_features_TD, label_fontsize, ticks_fontsize, fontname, title, title_fontsize, colors, scale)\u001b[0m\n\u001b[1;32m    742\u001b[0m \u001b[0;34m\u001b[0m\u001b[0m\n\u001b[1;32m    743\u001b[0m     shadow_tree = ShadowDecTree.get_shadow_tree(tree_model, x_data, y_data, feature_names, target_name, class_names,\n\u001b[0;32m--> 744\u001b[0;31m                                                 tree_index)\n\u001b[0m\u001b[1;32m    745\u001b[0m     \u001b[0mcolors\u001b[0m \u001b[0;34m=\u001b[0m \u001b[0madjust_colors\u001b[0m\u001b[0;34m(\u001b[0m\u001b[0mcolors\u001b[0m\u001b[0;34m)\u001b[0m\u001b[0;34m\u001b[0m\u001b[0;34m\u001b[0m\u001b[0m\n\u001b[1;32m    746\u001b[0m \u001b[0;34m\u001b[0m\u001b[0m\n",
      "\u001b[0;32m~/Development/miniforge_x86/envs/mec-miniprojects/lib/python3.7/site-packages/dtreeviz/models/shadow_decision_tree.py\u001b[0m in \u001b[0;36mget_shadow_tree\u001b[0;34m(tree_model, x_data, y_data, feature_names, target_name, class_names, tree_index)\u001b[0m\n\u001b[1;32m    463\u001b[0m             \u001b[0;32mfrom\u001b[0m \u001b[0mdtreeviz\u001b[0m\u001b[0;34m.\u001b[0m\u001b[0mmodels\u001b[0m \u001b[0;32mimport\u001b[0m \u001b[0msklearn_decision_trees\u001b[0m\u001b[0;34m\u001b[0m\u001b[0;34m\u001b[0m\u001b[0m\n\u001b[1;32m    464\u001b[0m             return sklearn_decision_trees.ShadowSKDTree(tree_model, x_data, y_data, feature_names,\n\u001b[0;32m--> 465\u001b[0;31m                                                         target_name, class_names)\n\u001b[0m\u001b[1;32m    466\u001b[0m         \u001b[0;32melif\u001b[0m \u001b[0mstr\u001b[0m\u001b[0;34m(\u001b[0m\u001b[0mtype\u001b[0m\u001b[0;34m(\u001b[0m\u001b[0mtree_model\u001b[0m\u001b[0;34m)\u001b[0m\u001b[0;34m)\u001b[0m\u001b[0;34m.\u001b[0m\u001b[0mendswith\u001b[0m\u001b[0;34m(\u001b[0m\u001b[0;34m\"xgboost.core.Booster'>\"\u001b[0m\u001b[0;34m)\u001b[0m\u001b[0;34m:\u001b[0m\u001b[0;34m\u001b[0m\u001b[0;34m\u001b[0m\u001b[0m\n\u001b[1;32m    467\u001b[0m             \u001b[0;32mfrom\u001b[0m \u001b[0mdtreeviz\u001b[0m\u001b[0;34m.\u001b[0m\u001b[0mmodels\u001b[0m \u001b[0;32mimport\u001b[0m \u001b[0mxgb_decision_tree\u001b[0m\u001b[0;34m\u001b[0m\u001b[0;34m\u001b[0m\u001b[0m\n",
      "\u001b[0;32m~/Development/miniforge_x86/envs/mec-miniprojects/lib/python3.7/site-packages/dtreeviz/models/sklearn_decision_trees.py\u001b[0m in \u001b[0;36m__init__\u001b[0;34m(self, tree_model, x_data, y_data, feature_names, target_name, class_names)\u001b[0m\n\u001b[1;32m     17\u001b[0m \u001b[0;34m\u001b[0m\u001b[0m\n\u001b[1;32m     18\u001b[0m         \u001b[0mself\u001b[0m\u001b[0;34m.\u001b[0m\u001b[0mnode_to_samples\u001b[0m \u001b[0;34m=\u001b[0m \u001b[0;32mNone\u001b[0m\u001b[0;34m\u001b[0m\u001b[0;34m\u001b[0m\u001b[0m\n\u001b[0;32m---> 19\u001b[0;31m         \u001b[0msuper\u001b[0m\u001b[0;34m(\u001b[0m\u001b[0;34m)\u001b[0m\u001b[0;34m.\u001b[0m\u001b[0m__init__\u001b[0m\u001b[0;34m(\u001b[0m\u001b[0mtree_model\u001b[0m\u001b[0;34m,\u001b[0m \u001b[0mx_data\u001b[0m\u001b[0;34m,\u001b[0m \u001b[0my_data\u001b[0m\u001b[0;34m,\u001b[0m \u001b[0mfeature_names\u001b[0m\u001b[0;34m,\u001b[0m \u001b[0mtarget_name\u001b[0m\u001b[0;34m,\u001b[0m \u001b[0mclass_names\u001b[0m\u001b[0;34m)\u001b[0m\u001b[0;34m\u001b[0m\u001b[0;34m\u001b[0m\u001b[0m\n\u001b[0m\u001b[1;32m     20\u001b[0m \u001b[0;34m\u001b[0m\u001b[0m\n\u001b[1;32m     21\u001b[0m     \u001b[0;32mdef\u001b[0m \u001b[0mis_fit\u001b[0m\u001b[0;34m(\u001b[0m\u001b[0mself\u001b[0m\u001b[0;34m)\u001b[0m\u001b[0;34m:\u001b[0m\u001b[0;34m\u001b[0m\u001b[0;34m\u001b[0m\u001b[0m\n",
      "\u001b[0;32m~/Development/miniforge_x86/envs/mec-miniprojects/lib/python3.7/site-packages/dtreeviz/models/shadow_decision_tree.py\u001b[0m in \u001b[0;36m__init__\u001b[0;34m(self, tree_model, x_data, y_data, feature_names, target_name, class_names)\u001b[0m\n\u001b[1;32m     53\u001b[0m \u001b[0;34m\u001b[0m\u001b[0m\n\u001b[1;32m     54\u001b[0m         \u001b[0mself\u001b[0m\u001b[0;34m.\u001b[0m\u001b[0mtree_model\u001b[0m \u001b[0;34m=\u001b[0m \u001b[0mtree_model\u001b[0m\u001b[0;34m\u001b[0m\u001b[0;34m\u001b[0m\u001b[0m\n\u001b[0;32m---> 55\u001b[0;31m         \u001b[0;32mif\u001b[0m \u001b[0;32mnot\u001b[0m \u001b[0mself\u001b[0m\u001b[0;34m.\u001b[0m\u001b[0mis_fit\u001b[0m\u001b[0;34m(\u001b[0m\u001b[0;34m)\u001b[0m\u001b[0;34m:\u001b[0m\u001b[0;34m\u001b[0m\u001b[0;34m\u001b[0m\u001b[0m\n\u001b[0m\u001b[1;32m     56\u001b[0m             \u001b[0;32mraise\u001b[0m \u001b[0mException\u001b[0m\u001b[0;34m(\u001b[0m\u001b[0;34mf\"Model {tree_model} is not fit.\"\u001b[0m\u001b[0;34m)\u001b[0m\u001b[0;34m\u001b[0m\u001b[0;34m\u001b[0m\u001b[0m\n\u001b[1;32m     57\u001b[0m \u001b[0;34m\u001b[0m\u001b[0m\n",
      "\u001b[0;32m~/Development/miniforge_x86/envs/mec-miniprojects/lib/python3.7/site-packages/dtreeviz/models/sklearn_decision_trees.py\u001b[0m in \u001b[0;36mis_fit\u001b[0;34m(self)\u001b[0m\n\u001b[1;32m     20\u001b[0m \u001b[0;34m\u001b[0m\u001b[0m\n\u001b[1;32m     21\u001b[0m     \u001b[0;32mdef\u001b[0m \u001b[0mis_fit\u001b[0m\u001b[0;34m(\u001b[0m\u001b[0mself\u001b[0m\u001b[0;34m)\u001b[0m\u001b[0;34m:\u001b[0m\u001b[0;34m\u001b[0m\u001b[0;34m\u001b[0m\u001b[0m\n\u001b[0;32m---> 22\u001b[0;31m         \u001b[0;32mreturn\u001b[0m \u001b[0mgetattr\u001b[0m\u001b[0;34m(\u001b[0m\u001b[0mself\u001b[0m\u001b[0;34m.\u001b[0m\u001b[0mtree_model\u001b[0m\u001b[0;34m,\u001b[0m \u001b[0;34m'tree_'\u001b[0m\u001b[0;34m)\u001b[0m \u001b[0;32mis\u001b[0m \u001b[0;32mnot\u001b[0m \u001b[0;32mNone\u001b[0m\u001b[0;34m\u001b[0m\u001b[0;34m\u001b[0m\u001b[0m\n\u001b[0m\u001b[1;32m     23\u001b[0m \u001b[0;34m\u001b[0m\u001b[0m\n\u001b[1;32m     24\u001b[0m     \u001b[0;32mdef\u001b[0m \u001b[0mis_classifier\u001b[0m\u001b[0;34m(\u001b[0m\u001b[0mself\u001b[0m\u001b[0;34m)\u001b[0m\u001b[0;34m:\u001b[0m\u001b[0;34m\u001b[0m\u001b[0;34m\u001b[0m\u001b[0m\n",
      "\u001b[0;31mAttributeError\u001b[0m: 'DecisionTreeClassifier' object has no attribute 'tree_'"
     ]
    }
   ],
   "source": [
    "# Your code here! :)\n",
    "from dtreeviz.trees import dtreeviz\n",
    "\n",
    "viz = dtreeviz(decision_tree, \n",
    "               x_train,\n",
    "               y_train,\n",
    "               target_name='Class',\n",
    "               feature_names=df.columns, \n",
    "               class_names=[\"Good\", \"Bad\"], \n",
    "               histtype= 'barstacked')\n",
    "viz"
   ]
  },
  {
   "cell_type": "markdown",
   "metadata": {},
   "source": [
    "## Random Forests"
   ]
  },
  {
   "cell_type": "markdown",
   "metadata": {},
   "source": [
    "As discussed in the lecture videos, Decision Tree algorithms also have certain undesireable properties. Mainly the have low bias, which is good, but tend to have high variance - which is *not* so good (more about this problem here: https://en.wikipedia.org/wiki/Bias%E2%80%93variance_tradeoff)."
   ]
  },
  {
   "cell_type": "markdown",
   "metadata": {},
   "source": [
    "Noticing these problems, the late Professor Leo Breiman, in 2001, developed the Random Forests algorithm, which mitigates these problems, while at the same time providing even higher predictive accuracy than the majority of Decision Tree algorithm implementations. While the curriculum contains two excellent lectures on Random Forests, if you're interested, you can dive into the original paper here: https://link.springer.com/content/pdf/10.1023%2FA%3A1010933404324.pdf."
   ]
  },
  {
   "cell_type": "markdown",
   "metadata": {},
   "source": [
    "In the next part of this assignment, your are going to use the same \"German Credit\" dataset to train, tune, and measure the performance of a Random Forests model. You will also see certain functionalities that this model, even though it's a bit of a \"black box\", provides for some degree of interpretability."
   ]
  },
  {
   "cell_type": "markdown",
   "metadata": {},
   "source": [
    "First, let's build a Random Forests model, using the same best practices that you've used for your Decision Trees model. You can reuse the things you've already imported there, so no need to do any re-imports, new train/test splits, or loading up the data again."
   ]
  },
  {
   "cell_type": "code",
   "execution_count": 20,
   "metadata": {},
   "outputs": [],
   "source": [
    "from sklearn.ensemble import RandomForestClassifier\n",
    "from pprint import pprint"
   ]
  },
  {
   "cell_type": "code",
   "execution_count": 22,
   "metadata": {},
   "outputs": [
    {
     "name": "stdout",
     "output_type": "stream",
     "text": [
      "{'bootstrap': [True, False],\n",
      " 'max_depth': [10, 20, 30, 40, 50, 60, 70, 80, 90, 100, 110, None],\n",
      " 'max_features': ['auto', 'sqrt'],\n",
      " 'min_samples_leaf': [1, 2, 4],\n",
      " 'min_samples_split': [2, 5, 10],\n",
      " 'n_estimators': [200, 400, 600, 800, 1000, 1200, 1400, 1600, 1800, 2000]}\n",
      "Fitting 3 folds for each of 100 candidates, totalling 300 fits\n"
     ]
    },
    {
     "data": {
      "text/plain": [
       "{'n_estimators': 400,\n",
       " 'min_samples_split': 5,\n",
       " 'min_samples_leaf': 1,\n",
       " 'max_features': 'sqrt',\n",
       " 'max_depth': 30,\n",
       " 'bootstrap': True}"
      ]
     },
     "execution_count": 22,
     "metadata": {},
     "output_type": "execute_result"
    }
   ],
   "source": [
    "# Your code here! :)\n",
    "from sklearn.model_selection import RandomizedSearchCV\n",
    "# Number of trees in random forest\n",
    "n_estimators = [int(x) for x in np.linspace(start = 200, stop = 2000, num = 10)]\n",
    "# Number of features to consider at every split\n",
    "max_features = ['auto', 'sqrt']\n",
    "# Maximum number of levels in tree\n",
    "max_depth = [int(x) for x in np.linspace(10, 110, num = 11)]\n",
    "max_depth.append(None)\n",
    "# Minimum number of samples required to split a node\n",
    "min_samples_split = [2, 5, 10]\n",
    "# Minimum number of samples required at each leaf node\n",
    "min_samples_leaf = [1, 2, 4]\n",
    "# Method of selecting samples for training each tree\n",
    "bootstrap = [True, False]\n",
    "# Create the random grid\n",
    "random_grid = {'n_estimators': n_estimators,\n",
    "               'max_features': max_features,\n",
    "               'max_depth': max_depth,\n",
    "               'min_samples_split': min_samples_split,\n",
    "               'min_samples_leaf': min_samples_leaf,\n",
    "               'bootstrap': bootstrap}\n",
    "pprint(random_grid)\n",
    "{'bootstrap': [True, False],\n",
    " 'max_depth': [10, 20, 30, 40, 50, 60, 70, 80, 90, 100, None],\n",
    " 'max_features': ['auto', 'sqrt'],\n",
    " 'min_samples_leaf': [1, 2, 4],\n",
    " 'min_samples_split': [2, 5, 10],\n",
    " 'n_estimators': [200, 400, 600, 800, 1000, 1200, 1400, 1600, 1800, 2000]}\n",
    "\n",
    "rf = RandomForestClassifier()\n",
    "\n",
    "rf_random = RandomizedSearchCV(estimator = rf, \n",
    "                        param_distributions = random_grid, \n",
    "                        n_iter = 100, \n",
    "                        cv = 3, \n",
    "                        verbose=2, \n",
    "                        random_state=42, \n",
    "                        n_jobs = -1)\n",
    "\n",
    "rf_random.fit(x_train, y_train)\n",
    "rf_random.best_estimator_\n",
    "rf_random.best_params_"
   ]
  },
  {
   "cell_type": "markdown",
   "metadata": {},
   "source": [
    "As mentioned, there are certain ways to \"peek\" into a model created by the Random Forests algorithm. The first, and most popular one, is the Feature Importance calculation functionality. This allows the ML practitioner to see an ordering of the importance of the features that have contributed the most to the predictive accuracy of the model. \n",
    "\n",
    "You can see how to use this in the scikit-learn documentation (http://scikit-learn.org/stable/modules/generated/sklearn.ensemble.RandomForestClassifier.html#sklearn.ensemble.RandomForestClassifier.feature_importances_). Now, if you tried this, you would just get an ordered table of not directly interpretable numeric values. Thus, it's much more useful to show the feature importance in a visual way. You can see an example of how that's done here: http://scikit-learn.org/stable/auto_examples/ensemble/plot_forest_importances.html#sphx-glr-auto-examples-ensemble-plot-forest-importances-py\n",
    "\n",
    "Now you try! Let's visualize the importance of features from your Random Forests model!"
   ]
  },
  {
   "cell_type": "code",
   "execution_count": null,
   "metadata": {},
   "outputs": [],
   "source": [
    "# Your code here\n"
   ]
  },
  {
   "cell_type": "markdown",
   "metadata": {},
   "source": [
    "A final method for gaining some insight into the inner working of your Random Forests models is a so-called Partial Dependence Plot. The Partial Dependence Plot (PDP or PD plot) shows the marginal effect of a feature on the predicted outcome of a previously fit model. The prediction function is fixed at a few values of the chosen features and averaged over the other features. A partial dependence plot can show if the relationship between the target and a feature is linear, monotonic or more complex. \n",
    "\n",
    "In scikit-learn, PDPs are implemented and available for certain algorithms, but at this point (version 0.20.0) they are not yet implemented for Random Forests. Thankfully, there is an add-on package called **PDPbox** (https://pdpbox.readthedocs.io/en/latest/) which adds this functionality to Random Forests. The package is easy to install through pip."
   ]
  },
  {
   "cell_type": "code",
   "execution_count": null,
   "metadata": {},
   "outputs": [],
   "source": [
    "! pip install pdpbox"
   ]
  },
  {
   "cell_type": "markdown",
   "metadata": {},
   "source": [
    "While we encourage you to read the documentation for the package (and reading package documentation in general is a good habit to develop), the authors of the package have also written an excellent blog post on how to use it, showing examples on different algorithms from scikit-learn (the Random Forests example is towards the end of the blog post): https://briangriner.github.io/Partial_Dependence_Plots_presentation-BrianGriner-PrincetonPublicLibrary-4.14.18-updated-4.22.18.html"
   ]
  },
  {
   "cell_type": "markdown",
   "metadata": {},
   "source": [
    "So, armed with this new knowledge, feel free to pick a few features, and make a couple of Partial Dependence Plots of your own!"
   ]
  },
  {
   "cell_type": "code",
   "execution_count": null,
   "metadata": {},
   "outputs": [],
   "source": [
    "# Your code here!"
   ]
  },
  {
   "cell_type": "markdown",
   "metadata": {},
   "source": [
    "## (Optional) Advanced Boosting-Based Algorithms"
   ]
  },
  {
   "cell_type": "markdown",
   "metadata": {},
   "source": [
    "As explained in the video lectures, the next generation of algorithms after Random Forests (that use Bagging, a.k.a. Bootstrap Aggregation) were developed using Boosting, and the first one of these were Gradient Boosted Machines, which are implemented in scikit-learn (http://scikit-learn.org/stable/modules/ensemble.html#gradient-tree-boosting)."
   ]
  },
  {
   "cell_type": "markdown",
   "metadata": {},
   "source": [
    "Still, in recent years, a number of variations on GBMs have been developed by different research amd industry groups, all of them bringing improvements, both in speed, accuracy and functionality to the original Gradient Boosting algorithms.\n",
    "\n",
    "In no order of preference, these are:\n",
    "1. **XGBoost**: https://xgboost.readthedocs.io/en/latest/\n",
    "2. **CatBoost**: https://tech.yandex.com/catboost/\n",
    "3. **LightGBM**: https://lightgbm.readthedocs.io/en/latest/"
   ]
  },
  {
   "cell_type": "markdown",
   "metadata": {},
   "source": [
    "If you're using the Anaconda distribution, these are all very easy to install:"
   ]
  },
  {
   "cell_type": "code",
   "execution_count": null,
   "metadata": {},
   "outputs": [],
   "source": [
    "! conda install -c anaconda py-xgboost"
   ]
  },
  {
   "cell_type": "code",
   "execution_count": null,
   "metadata": {},
   "outputs": [],
   "source": [
    "! conda install -c conda-forge catboost"
   ]
  },
  {
   "cell_type": "code",
   "execution_count": null,
   "metadata": {},
   "outputs": [],
   "source": [
    "! conda install -c conda-forge lightgbm"
   ]
  },
  {
   "cell_type": "markdown",
   "metadata": {},
   "source": [
    "Your task in this optional section of the mini project is to read the documentation of these three libraries, and apply all of them to the \"German Credit\" dataset, just like you did in the case of Decision Trees and Random Forests."
   ]
  },
  {
   "cell_type": "markdown",
   "metadata": {},
   "source": [
    "The final deliverable of this section should be a table (can be a pandas DataFrame) which shows the accuracy of all the five algorthms taught in this mini project in one place."
   ]
  },
  {
   "cell_type": "markdown",
   "metadata": {},
   "source": [
    "Happy modeling! :)"
   ]
  },
  {
   "cell_type": "code",
   "execution_count": null,
   "metadata": {},
   "outputs": [],
   "source": []
  }
 ],
 "metadata": {
  "kernelspec": {
   "display_name": "Python 3",
   "language": "python",
   "name": "python3"
  },
  "language_info": {
   "codemirror_mode": {
    "name": "ipython",
    "version": 3
   },
   "file_extension": ".py",
   "mimetype": "text/x-python",
   "name": "python",
   "nbconvert_exporter": "python",
   "pygments_lexer": "ipython3",
   "version": "3.7.10"
  }
 },
 "nbformat": 4,
 "nbformat_minor": 4
}
