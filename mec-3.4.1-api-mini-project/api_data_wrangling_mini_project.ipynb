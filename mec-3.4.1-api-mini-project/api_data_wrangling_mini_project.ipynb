{
 "cells": [
  {
   "cell_type": "markdown",
   "metadata": {},
   "source": [
    "This exercise will require you to pull some data from the Qunadl API. Qaundl is currently the most widely used aggregator of financial market data."
   ]
  },
  {
   "cell_type": "markdown",
   "metadata": {},
   "source": [
    "As a first step, you will need to register a free account on the http://www.quandl.com website."
   ]
  },
  {
   "cell_type": "markdown",
   "metadata": {},
   "source": [
    "After you register, you will be provided with a unique API key, that you should store:"
   ]
  },
  {
   "cell_type": "code",
   "execution_count": 1,
   "metadata": {},
   "outputs": [],
   "source": [
    "# Store the API key as a string - according to PEP8, constants are always named in all upper case\n",
    "API_KEY = ''"
   ]
  },
  {
   "cell_type": "markdown",
   "metadata": {},
   "source": [
    "Qaundl has a large number of data sources, but, unfortunately, most of them require a Premium subscription. Still, there are also a good number of free datasets."
   ]
  },
  {
   "cell_type": "markdown",
   "metadata": {},
   "source": [
    "For this mini project, we will focus on equities data from the Frankfurt Stock Exhange (FSE), which is available for free. We'll try and analyze the stock prices of a company called Carl Zeiss Meditec, which manufactures tools for eye examinations, as well as medical lasers for laser eye surgery: https://www.zeiss.com/meditec/int/home.html. The company is listed under the stock ticker AFX_X."
   ]
  },
  {
   "cell_type": "markdown",
   "metadata": {},
   "source": [
    "You can find the detailed Quandl API instructions here: https://docs.quandl.com/docs/time-series"
   ]
  },
  {
   "cell_type": "markdown",
   "metadata": {},
   "source": [
    "While there is a dedicated Python package for connecting to the Quandl API, we would prefer that you use the *requests* package, which can be easily downloaded using *pip* or *conda*. You can find the documentation for the package here: http://docs.python-requests.org/en/master/ "
   ]
  },
  {
   "cell_type": "markdown",
   "metadata": {},
   "source": [
    "Finally, apart from the *requests* package, you are encouraged to not use any third party Python packages, such as *pandas*, and instead focus on what's available in the Python Standard Library (the *collections* module might come in handy: https://pymotw.com/3/collections/).\n",
    "Also, since you won't have access to DataFrames, you are encouraged to us Python's native data structures - preferably dictionaries, though some questions can also be answered using lists.\n",
    "You can read more on these data structures here: https://docs.python.org/3/tutorial/datastructures.html"
   ]
  },
  {
   "cell_type": "markdown",
   "metadata": {},
   "source": [
    "Keep in mind that the JSON responses you will be getting from the API map almost one-to-one to Python's dictionaries. Unfortunately, they can be very nested, so make sure you read up on indexing dictionaries in the documentation provided above."
   ]
  },
  {
   "cell_type": "code",
   "execution_count": 49,
   "metadata": {},
   "outputs": [],
   "source": [
    "# First, import the relevant modules\n",
    "import requests as rq\n",
    "import math as m\n"
   ]
  },
  {
   "cell_type": "code",
   "execution_count": 19,
   "metadata": {},
   "outputs": [
    {
     "name": "stdout",
     "output_type": "stream",
     "text": [
      "https://www.quandl.com/api/v3/datasets/XFRA/AGB2?start_date=2018-11-28&end_date=2018-11-30&api_key=yk5TQUa5zzYwafh9RdfX\n"
     ]
    },
    {
     "data": {
      "text/plain": [
       "{'dataset': {'id': 46157304,\n",
       "  'dataset_code': 'AGB2',\n",
       "  'database_code': 'XFRA',\n",
       "  'name': 'Agrana Beteiligungs AG (AGB2) Adjusted Stock Prices',\n",
       "  'description': ' <b>Ticker</b>: AGB2 <br> <br> <b>Exchange</b>: XFRA <br> <br> Columns: <br> <br> Open,High,Low,Close,Volume are adjusted and shown in EUR currency. <br> <br> Adjustment Factor shows the factor by which prices are adjusted on days which adjustments take place <br> <br> Adjustment Type is a number representing the type of adjustment. Refer to documentation for more information on these codes.',\n",
       "  'refreshed_at': '2021-08-05T01:58:32.476Z',\n",
       "  'newest_available_date': '2018-11-30',\n",
       "  'oldest_available_date': '2007-01-02',\n",
       "  'column_names': ['Date',\n",
       "   'Open',\n",
       "   'High',\n",
       "   'Low',\n",
       "   'Close',\n",
       "   'Volume',\n",
       "   'Adjustment Factor',\n",
       "   'Adjustment Type'],\n",
       "  'frequency': 'daily',\n",
       "  'type': 'Time Series',\n",
       "  'premium': True,\n",
       "  'limit': None,\n",
       "  'transform': None,\n",
       "  'column_index': None,\n",
       "  'start_date': '2018-11-28',\n",
       "  'end_date': '2018-11-30',\n",
       "  'data': [['2018-11-30',\n",
       "    15.258776,\n",
       "    15.258776,\n",
       "    15.258776,\n",
       "    15.258776,\n",
       "    0.0,\n",
       "    None,\n",
       "    None],\n",
       "   ['2018-11-29', 14.823805, 14.823805, 14.823805, 14.823805, 0.0, None, None],\n",
       "   ['2018-11-28',\n",
       "    15.119585,\n",
       "    15.119585,\n",
       "    15.119585,\n",
       "    15.119585,\n",
       "    0.0,\n",
       "    None,\n",
       "    None]],\n",
       "  'collapse': None,\n",
       "  'order': None,\n",
       "  'database_id': 15302}}"
      ]
     },
     "execution_count": 19,
     "metadata": {},
     "output_type": "execute_result"
    }
   ],
   "source": [
    "# Now, call the Quandl API and pull out a small sample of the data (only one day) to get a glimpse\n",
    "# into the JSON structure that will be returned\n",
    "equity = 'AGB2'\n",
    "start_date = '2018-11-28'\n",
    "end_date = '2018-11-30'\n",
    "query_tmpl = 'https://www.quandl.com/api/v3/datasets/XFRA/{equity}?start_date={start_date}&end_date={end_date}&api_key={API_KEY}'\n",
    "\n",
    "def build_query(start, end):\n",
    "    return query_tmpl.format(equity=equity, start_date=start, end_date=end, API_KEY=API_KEY)\n",
    "query = build_query(start_date, end_date)\n",
    "print(query)\n",
    "r = rq.get(query)\n",
    "r.json()"
   ]
  },
  {
   "cell_type": "code",
   "execution_count": null,
   "metadata": {
    "collapsed": true,
    "jupyter": {
     "outputs_hidden": true
    }
   },
   "outputs": [],
   "source": [
    "# Inspect the JSON structure of the object you created, and take note of how nested it is,\n",
    "# as well as the overall structure\n"
   ]
  },
  {
   "cell_type": "markdown",
   "metadata": {},
   "source": [
    "These are your tasks for this mini project:\n",
    "\n",
    "1. Collect data from the Franfurt Stock Exchange, for the ticker AFX_X, for the whole year 2017 (keep in mind that the date format is YYYY-MM-DD).\n",
    "2. Convert the returned JSON object into a Python dictionary.\n",
    "3. Calculate what the highest and lowest opening prices were for the stock in this period.\n",
    "4. What was the largest change in any one day (based on High and Low price)?\n",
    "5. What was the largest change between any two days (based on Closing Price)?\n",
    "6. What was the average daily trading volume during this year?\n",
    "7. (Optional) What was the median trading volume during this year. (Note: you may need to implement your own function for calculating the median.)"
   ]
  },
  {
   "cell_type": "code",
   "execution_count": 59,
   "metadata": {},
   "outputs": [
    {
     "name": "stdout",
     "output_type": "stream",
     "text": [
      "https://www.quandl.com/api/v3/datasets/XFRA/AGB2?start_date=2018-01-01&end_date=2018-12-31&api_key=yk5TQUa5zzYwafh9RdfX\n",
      "opening prices highest: 21.847837 lowest: 14.040858\n",
      "largest change: 1.6528889999999983\n",
      "largest change between 2 days: 1.0944569999999985\n",
      "atv: 303.56666666666666\n",
      "median: 450.0\n"
     ]
    }
   ],
   "source": [
    "start = '2018-01-01'\n",
    "end = '2018-12-31'\n",
    "query = build_query(start, end)\n",
    "print(query)\n",
    "r = rq.get(query)\n",
    "j = r.json()\n",
    "d = j['dataset']['data']\n",
    "openings = [day[1] for day in d]\n",
    "highest = max(openings)\n",
    "lowest = min(openings)\n",
    "print(f'opening prices highest: {highest} lowest: {lowest}')\n",
    "lchange = [day[2] - day[3] for day in d]\n",
    "# lchange = [day for day in d]\n",
    "print(f'largest change: {max(lchange)}')\n",
    "closes = [day[4] for day in d]\n",
    "l2change = []\n",
    "for idx in range(1, len(d) - 1):\n",
    "    l2change.append(closes[idx] - closes[idx-1])\n",
    "print(f'largest change between 2 days: {max(l2change)}')\n",
    "trading_vol = [day[5] for day in d]\n",
    "atv = sum(trading_vol)/len(d)\n",
    "print(f'atv: {atv}')\n",
    "trading_vol_set = set(trading_vol)\n",
    "size = len(trading_vol_set)\n",
    "l = list(trading_vol_set)\n",
    "l.sort()\n",
    "median = l[m.floor(len(l)/2) + 1]\n",
    "print(f'median: {median}')"
   ]
  },
  {
   "cell_type": "code",
   "execution_count": null,
   "metadata": {},
   "outputs": [],
   "source": []
  }
 ],
 "metadata": {
  "kernelspec": {
   "display_name": "Python 3",
   "language": "python",
   "name": "python3"
  },
  "language_info": {
   "codemirror_mode": {
    "name": "ipython",
    "version": 3
   },
   "file_extension": ".py",
   "mimetype": "text/x-python",
   "name": "python",
   "nbconvert_exporter": "python",
   "pygments_lexer": "ipython3",
   "version": "3.8.10"
  }
 },
 "nbformat": 4,
 "nbformat_minor": 4
}
