{
 "cells": [
  {
   "cell_type": "markdown",
   "metadata": {
    "application/vnd.databricks.v1+cell": {
     "inputWidgets": {},
     "nuid": "45d30b5a-8085-40c2-bf40-169a92b2ed3d",
     "showTitle": false,
     "title": ""
    },
    "colab_type": "text",
    "id": "q0ap-hmpXu-s"
   },
   "source": [
    "# Analyzing Web Server Logs with Apache Spark\n",
    "\n",
    "Apache Spark is an excellent and ideal framework for wrangling, analyzing and modeling on structured and unstructured data - at scale! In this mini-project, we will be focusing on one of the most popular use-cases in the industry - log analytics.\n",
    "\n",
    "Typically, server logs are a very common data source in enterprises and often contain a gold mine of actionable insights and information. Log data comes from many sources in an enterprise, such as the web, client and compute servers, applications, user-generated content, flat files. They can be used for monitoring servers, improving business and customer intelligence, building recommendation systems, fraud detection, and much more.\n",
    "\n",
    "Spark allows you to dump and store your logs in files on disk cheaply, while still providing rich APIs to perform data analysis at scale. This mini-project will show you how to use Apache Spark on real-world production logs from NASA.\n",
    "You will complete the extract, transform, and load (ETL) process in this Apache Spark enviroment. During this process, you will learn why the ETL process is so crucial to the quality of the machine learning work we will be doing later on.\n",
    "\n",
    "\n",
    "There is a total of 15 questions for you to solve along with some interactive examples which will help you learn aspects of leveraging spark for analyzing over 3 million logs at scale.\n",
    "\n",
    "Remember to focus on the __`# TODO: Replace <FILL IN> with appropriate code`__ sections to fill them up with necessary code to solve the desired questions in the notebook"
   ]
  },
  {
   "cell_type": "markdown",
   "metadata": {
    "application/vnd.databricks.v1+cell": {
     "inputWidgets": {},
     "nuid": "896e3039-fccc-46aa-a76f-c51ffafb58c4",
     "showTitle": false,
     "title": ""
    },
    "colab_type": "text",
    "id": "6IkR5OAXYBVV"
   },
   "source": [
    "# Data extraction:"
   ]
  },
  {
   "cell_type": "markdown",
   "metadata": {
    "application/vnd.databricks.v1+cell": {
     "inputWidgets": {},
     "nuid": "d324bdba-3ae3-496b-bebf-e1b009329ad5",
     "showTitle": false,
     "title": ""
    },
    "colab_type": "text",
    "id": "W4XXOPlzXu-7"
   },
   "source": [
    "# Step 1 - Loading up Dependencies"
   ]
  },
  {
   "cell_type": "code",
   "execution_count": null,
   "metadata": {
    "application/vnd.databricks.v1+cell": {
     "inputWidgets": {},
     "nuid": "ff50080d-c8eb-4c2e-a96d-1e2f43622da7",
     "showTitle": false,
     "title": ""
    },
    "colab": {},
    "colab_type": "code",
    "id": "zYGRL15uXu--",
    "outputId": "34c065c7-f451-4543-dde3-5ddbbcada8c6"
   },
   "outputs": [
    {
     "data": {
      "text/html": [
       "\n",
       "            <div>\n",
       "                <p><b>SparkSession - hive</b></p>\n",
       "                \n",
       "        <div>\n",
       "            <p><b>SparkContext</b></p>\n",
       "\n",
       "            <p><a href=\"/?o=131660041616649#setting/sparkui/0211-022738-yevbbzp4/driver-4944141179339592645\">Spark UI</a></p>\n",
       "\n",
       "            <dl>\n",
       "              <dt>Version</dt>\n",
       "                <dd><code>v3.1.2</code></dd>\n",
       "              <dt>Master</dt>\n",
       "                <dd><code>local[8]</code></dd>\n",
       "              <dt>AppName</dt>\n",
       "                <dd><code>Databricks Shell</code></dd>\n",
       "            </dl>\n",
       "        </div>\n",
       "        \n",
       "            </div>\n",
       "        "
      ]
     },
     "metadata": {
      "application/vnd.databricks.v1+output": {
       "addedWidgets": {},
       "arguments": {},
       "data": "\n            <div>\n                <p><b>SparkSession - hive</b></p>\n                \n        <div>\n            <p><b>SparkContext</b></p>\n\n            <p><a href=\"/?o=131660041616649#setting/sparkui/0211-022738-yevbbzp4/driver-4944141179339592645\">Spark UI</a></p>\n\n            <dl>\n              <dt>Version</dt>\n                <dd><code>v3.1.2</code></dd>\n              <dt>Master</dt>\n                <dd><code>local[8]</code></dd>\n              <dt>AppName</dt>\n                <dd><code>Databricks Shell</code></dd>\n            </dl>\n        </div>\n        \n            </div>\n        ",
       "datasetInfos": [],
       "metadata": {},
       "removedWidgets": [],
       "textData": null,
       "type": "htmlSandbox"
      }
     },
     "output_type": "display_data"
    }
   ],
   "source": [
    "spark"
   ]
  },
  {
   "cell_type": "code",
   "execution_count": null,
   "metadata": {
    "application/vnd.databricks.v1+cell": {
     "inputWidgets": {},
     "nuid": "43197b2e-d165-476e-b770-d05193cbf986",
     "showTitle": false,
     "title": ""
    },
    "colab": {},
    "colab_type": "code",
    "id": "TQ9VOjOGXu_N",
    "outputId": "8c2ee3dc-5d83-475e-c77a-3b83e98cff42"
   },
   "outputs": [
    {
     "data": {
      "text/plain": [
       "Out[8]: <pyspark.sql.context.SQLContext at 0x7f70cd05da00>"
      ]
     },
     "metadata": {
      "application/vnd.databricks.v1+output": {
       "addedWidgets": {},
       "arguments": {},
       "data": "Out[8]: <pyspark.sql.context.SQLContext at 0x7f70cd05da00>",
       "datasetInfos": [],
       "metadata": {},
       "removedWidgets": [],
       "type": "ansi"
      }
     },
     "output_type": "display_data"
    }
   ],
   "source": [
    "sqlContext"
   ]
  },
  {
   "cell_type": "code",
   "execution_count": null,
   "metadata": {
    "application/vnd.databricks.v1+cell": {
     "inputWidgets": {},
     "nuid": "86220b04-4f3c-4e69-a0d3-40e31e26cfc8",
     "showTitle": false,
     "title": ""
    },
    "colab": {},
    "colab_type": "code",
    "id": "IM6ajIMVXu_V",
    "outputId": "d49062e6-607c-42bf-e2de-5019dee77ce0"
   },
   "outputs": [],
   "source": [
    "if 'sc' not in locals():\n",
    "    from pyspark.context import SparkContext\n",
    "    from pyspark.sql.context import SQLContext\n",
    "    from pyspark.sql.session import SparkSession\n",
    "    \n",
    "    sc = SparkContext()\n",
    "    sqlContext = SQLContext(sc)\n",
    "    spark = SparkSession(sc)"
   ]
  },
  {
   "cell_type": "code",
   "execution_count": null,
   "metadata": {
    "application/vnd.databricks.v1+cell": {
     "inputWidgets": {},
     "nuid": "3e1896ef-60ae-4143-9aa0-0cf3801557a3",
     "showTitle": false,
     "title": ""
    },
    "colab": {},
    "colab_type": "code",
    "id": "r3E2N5WCXu_b",
    "outputId": "cb9f5a8a-06b5-407a-c634-a703b3e5b92b"
   },
   "outputs": [],
   "source": [
    "import re\n",
    "import pandas as pd"
   ]
  },
  {
   "cell_type": "code",
   "execution_count": null,
   "metadata": {
    "application/vnd.databricks.v1+cell": {
     "inputWidgets": {},
     "nuid": "3a8090b4-d1f8-46e4-9d0f-59910da70dad",
     "showTitle": false,
     "title": ""
    },
    "colab": {},
    "colab_type": "code",
    "id": "UupCPIruXu_i",
    "outputId": "ae83b30e-9b7e-458f-fd16-94d9d738e589"
   },
   "outputs": [
    {
     "data": {
      "text/plain": [
       "<re.Match object; span=(0, 25), match=\"I'm searching for a spark\">\n",
       "<re.Match object; span=(25, 36), match=' in PySpark'>\n"
      ]
     },
     "metadata": {
      "application/vnd.databricks.v1+output": {
       "addedWidgets": {},
       "arguments": {},
       "data": "<re.Match object; span=(0, 25), match=\"I'm searching for a spark\">\n<re.Match object; span=(25, 36), match=' in PySpark'>\n",
       "datasetInfos": [],
       "metadata": {},
       "removedWidgets": [],
       "type": "ansi"
      }
     },
     "output_type": "display_data"
    }
   ],
   "source": [
    "m = re.finditer(r'.*?(spark).*?', \"I'm searching for a spark in PySpark\", re.I)\n",
    "for match in m:\n",
    "    print(match)"
   ]
  },
  {
   "cell_type": "markdown",
   "metadata": {
    "application/vnd.databricks.v1+cell": {
     "inputWidgets": {},
     "nuid": "d177b0b2-7ef5-4bda-b339-efcaacdd4418",
     "showTitle": false,
     "title": ""
    },
    "colab_type": "text",
    "id": "Pln9za4iXu_n"
   },
   "source": [
    "For this mini-project, we will analyze datasets from NASA Kennedy Space Center web server in Florida. The full data set is freely available for download [__here__](http://ita.ee.lbl.gov/html/contrib/NASA-HTTP.html).\n",
    "\n",
    "These two traces contain two month's worth of all HTTP requests to the NASA Kennedy Space Center WWW server in Florida. You can head over to the [__website__](http://ita.ee.lbl.gov/html/contrib/NASA-HTTP.html) and download the following files if needed OR just upload the files we have already provided for you into Domino's Cloud Platform (unless you plan to use Spark locally).\n",
    "\n",
    "- Jul 01 to Jul 31, ASCII format, 20.7 MB gzip compressed, 205.2 MB uncompressed: [ftp://ita.ee.lbl.gov/traces/NASA_access_log_Jul95.gz](ftp://ita.ee.lbl.gov/traces/NASA_access_log_Jul95.gz)\n",
    "- Aug 04 to Aug 31, ASCII format, 21.8 MB gzip compressed, 167.8 MB uncompressed: [ftp://ita.ee.lbl.gov/traces/NASA_access_log_Aug95.gz](ftp://ita.ee.lbl.gov/traces/NASA_access_log_Aug95.gz)\n",
    "\n",
    "Make sure both the data files have been uploaded to Databricks under **\"Data\" > \"DBFS\" > \"Tables\"** as a **.txt** file\n",
    "\n",
    "\n",
    "![DBFS](https://drive.google.com/uc?id=1eE9_CgnUW7psBs_Nlk9qrdD2dXh1sU9A)"
   ]
  },
  {
   "cell_type": "markdown",
   "metadata": {
    "application/vnd.databricks.v1+cell": {
     "inputWidgets": {},
     "nuid": "3ece9cc0-4823-46ee-af9b-c2be7f498f75",
     "showTitle": false,
     "title": ""
    },
    "colab_type": "text",
    "id": "KESqVXmAXu_p"
   },
   "source": [
    "# Step 2 - Loading and Viewing the Log Dataset\n",
    "\n",
    "Given that our data is stored in the following mentioned path, let's load it into a DataFrame. We'll do this in steps. First, we'll use `sqlContext.read.text()` or `spark.read.text()` to read the text file. This will produce a DataFrame with a single string column called `value`."
   ]
  },
  {
   "cell_type": "markdown",
   "metadata": {
    "application/vnd.databricks.v1+cell": {
     "inputWidgets": {},
     "nuid": "93a8cd01-6232-4d98-b5a4-be8985e1beed",
     "showTitle": false,
     "title": ""
    },
    "colab_type": "text",
    "id": "pis2_lWcXu_u"
   },
   "source": [
    "### Taking a look at the metadata of our dataframe"
   ]
  },
  {
   "cell_type": "code",
   "execution_count": null,
   "metadata": {
    "application/vnd.databricks.v1+cell": {
     "inputWidgets": {},
     "nuid": "9bd44fb7-13b2-45e4-b899-77b5978f640e",
     "showTitle": false,
     "title": ""
    },
    "colab": {},
    "colab_type": "code",
    "id": "f4-znXsmXu_w",
    "outputId": "5c326d84-2124-47c4-c63f-e70665bfb820"
   },
   "outputs": [
    {
     "data": {
      "text/plain": [
       "root\n",
       " |-- value: string (nullable = true)\n",
       "\n"
      ]
     },
     "metadata": {
      "application/vnd.databricks.v1+output": {
       "addedWidgets": {},
       "arguments": {},
       "data": "root\n |-- value: string (nullable = true)\n\n",
       "datasetInfos": [],
       "metadata": {},
       "removedWidgets": [],
       "type": "ansi"
      }
     },
     "output_type": "display_data"
    }
   ],
   "source": [
    "# make sure you have upload NASA_access_log_Aug95.txt and NASA_access_log_Jul95.txt onto Spark before you run the following code\n",
    "\n",
    "import glob\n",
    "# base_df = spark.read.text('dbfs:/FileStore/tables/*.txt')\n",
    "base_df = spark.read.text('dbfs:/FileStore/tables/*5.gz')\n",
    "base_df.printSchema()"
   ]
  },
  {
   "cell_type": "code",
   "execution_count": null,
   "metadata": {
    "application/vnd.databricks.v1+cell": {
     "inputWidgets": {},
     "nuid": "d66626a9-24ca-4627-a9f9-fb18c0d34efa",
     "showTitle": false,
     "title": ""
    },
    "colab": {},
    "colab_type": "code",
    "id": "IBHQ8QQkXu_0",
    "outputId": "14c57eda-586c-4a28-9e1c-df9364bf0ff8"
   },
   "outputs": [
    {
     "data": {
      "text/plain": [
       "Out[28]: pyspark.sql.dataframe.DataFrame"
      ]
     },
     "metadata": {
      "application/vnd.databricks.v1+output": {
       "addedWidgets": {},
       "arguments": {},
       "data": "Out[28]: pyspark.sql.dataframe.DataFrame",
       "datasetInfos": [],
       "metadata": {},
       "removedWidgets": [],
       "type": "ansi"
      }
     },
     "output_type": "display_data"
    }
   ],
   "source": [
    "type(base_df)"
   ]
  },
  {
   "cell_type": "markdown",
   "metadata": {
    "application/vnd.databricks.v1+cell": {
     "inputWidgets": {},
     "nuid": "ee728367-4ea8-47e7-8fc0-c8654c710a55",
     "showTitle": false,
     "title": ""
    },
    "colab_type": "text",
    "id": "gOKkUBQvXu_5"
   },
   "source": [
    "You can also convert a dataframe to an RDD if needed"
   ]
  },
  {
   "cell_type": "code",
   "execution_count": null,
   "metadata": {
    "application/vnd.databricks.v1+cell": {
     "inputWidgets": {},
     "nuid": "ef353521-ad14-471a-9887-363699ab6814",
     "showTitle": false,
     "title": ""
    },
    "colab": {},
    "colab_type": "code",
    "id": "hMByB80sXu_6",
    "outputId": "29f8e5c6-aecf-4f81-d1e8-40a5ef92eb18"
   },
   "outputs": [
    {
     "data": {
      "text/plain": [
       "Out[29]: pyspark.rdd.RDD"
      ]
     },
     "metadata": {
      "application/vnd.databricks.v1+output": {
       "addedWidgets": {},
       "arguments": {},
       "data": "Out[29]: pyspark.rdd.RDD",
       "datasetInfos": [],
       "metadata": {},
       "removedWidgets": [],
       "type": "ansi"
      }
     },
     "output_type": "display_data"
    }
   ],
   "source": [
    "base_df_rdd = base_df.rdd\n",
    "type(base_df_rdd)"
   ]
  },
  {
   "cell_type": "markdown",
   "metadata": {
    "application/vnd.databricks.v1+cell": {
     "inputWidgets": {},
     "nuid": "51942b7c-a4ca-4b7f-8d67-9dc95b243a6f",
     "showTitle": false,
     "title": ""
    },
    "colab_type": "text",
    "id": "oi1QtXBhXvAB"
   },
   "source": [
    "### Viewing sample data in our dataframe\n",
    "Looks like it needs to be wrangled and parsed!"
   ]
  },
  {
   "cell_type": "code",
   "execution_count": null,
   "metadata": {
    "application/vnd.databricks.v1+cell": {
     "inputWidgets": {},
     "nuid": "0fe8d62b-bda0-4a87-abd4-84f0c0133a7a",
     "showTitle": false,
     "title": ""
    },
    "colab": {},
    "colab_type": "code",
    "id": "iertYldRXvAD",
    "outputId": "cf7a1843-1287-455e-a32c-e67a498a89c0"
   },
   "outputs": [
    {
     "data": {
      "text/plain": [
       "+-----------------------------------------------------------------------------------------------------------------------+\n",
       "|value                                                                                                                  |\n",
       "+-----------------------------------------------------------------------------------------------------------------------+\n",
       "|199.72.81.55 - - [01/Jul/1995:00:00:01 -0400] \"GET /history/apollo/ HTTP/1.0\" 200 6245                                 |\n",
       "|unicomp6.unicomp.net - - [01/Jul/1995:00:00:06 -0400] \"GET /shuttle/countdown/ HTTP/1.0\" 200 3985                      |\n",
       "|199.120.110.21 - - [01/Jul/1995:00:00:09 -0400] \"GET /shuttle/missions/sts-73/mission-sts-73.html HTTP/1.0\" 200 4085   |\n",
       "|burger.letters.com - - [01/Jul/1995:00:00:11 -0400] \"GET /shuttle/countdown/liftoff.html HTTP/1.0\" 304 0               |\n",
       "|199.120.110.21 - - [01/Jul/1995:00:00:11 -0400] \"GET /shuttle/missions/sts-73/sts-73-patch-small.gif HTTP/1.0\" 200 4179|\n",
       "|burger.letters.com - - [01/Jul/1995:00:00:12 -0400] \"GET /images/NASA-logosmall.gif HTTP/1.0\" 304 0                    |\n",
       "|burger.letters.com - - [01/Jul/1995:00:00:12 -0400] \"GET /shuttle/countdown/video/livevideo.gif HTTP/1.0\" 200 0        |\n",
       "|205.212.115.106 - - [01/Jul/1995:00:00:12 -0400] \"GET /shuttle/countdown/countdown.html HTTP/1.0\" 200 3985             |\n",
       "|d104.aa.net - - [01/Jul/1995:00:00:13 -0400] \"GET /shuttle/countdown/ HTTP/1.0\" 200 3985                               |\n",
       "|129.94.144.152 - - [01/Jul/1995:00:00:13 -0400] \"GET / HTTP/1.0\" 200 7074                                              |\n",
       "+-----------------------------------------------------------------------------------------------------------------------+\n",
       "only showing top 10 rows\n",
       "\n"
      ]
     },
     "metadata": {
      "application/vnd.databricks.v1+output": {
       "addedWidgets": {},
       "arguments": {},
       "data": "+-----------------------------------------------------------------------------------------------------------------------+\n|value                                                                                                                  |\n+-----------------------------------------------------------------------------------------------------------------------+\n|199.72.81.55 - - [01/Jul/1995:00:00:01 -0400] \"GET /history/apollo/ HTTP/1.0\" 200 6245                                 |\n|unicomp6.unicomp.net - - [01/Jul/1995:00:00:06 -0400] \"GET /shuttle/countdown/ HTTP/1.0\" 200 3985                      |\n|199.120.110.21 - - [01/Jul/1995:00:00:09 -0400] \"GET /shuttle/missions/sts-73/mission-sts-73.html HTTP/1.0\" 200 4085   |\n|burger.letters.com - - [01/Jul/1995:00:00:11 -0400] \"GET /shuttle/countdown/liftoff.html HTTP/1.0\" 304 0               |\n|199.120.110.21 - - [01/Jul/1995:00:00:11 -0400] \"GET /shuttle/missions/sts-73/sts-73-patch-small.gif HTTP/1.0\" 200 4179|\n|burger.letters.com - - [01/Jul/1995:00:00:12 -0400] \"GET /images/NASA-logosmall.gif HTTP/1.0\" 304 0                    |\n|burger.letters.com - - [01/Jul/1995:00:00:12 -0400] \"GET /shuttle/countdown/video/livevideo.gif HTTP/1.0\" 200 0        |\n|205.212.115.106 - - [01/Jul/1995:00:00:12 -0400] \"GET /shuttle/countdown/countdown.html HTTP/1.0\" 200 3985             |\n|d104.aa.net - - [01/Jul/1995:00:00:13 -0400] \"GET /shuttle/countdown/ HTTP/1.0\" 200 3985                               |\n|129.94.144.152 - - [01/Jul/1995:00:00:13 -0400] \"GET / HTTP/1.0\" 200 7074                                              |\n+-----------------------------------------------------------------------------------------------------------------------+\nonly showing top 10 rows\n\n",
       "datasetInfos": [],
       "metadata": {},
       "removedWidgets": [],
       "type": "ansi"
      }
     },
     "output_type": "display_data"
    }
   ],
   "source": [
    "base_df.show(10, truncate=False)"
   ]
  },
  {
   "cell_type": "markdown",
   "metadata": {
    "application/vnd.databricks.v1+cell": {
     "inputWidgets": {},
     "nuid": "4a9a9c04-814c-4653-8086-7bb1c97dd2e5",
     "showTitle": false,
     "title": ""
    },
    "colab_type": "text",
    "id": "T9aeiekzXvAJ"
   },
   "source": [
    "Getting data from an RDD is slightly different. You can see how the data representation is different in the following RDD"
   ]
  },
  {
   "cell_type": "code",
   "execution_count": null,
   "metadata": {
    "application/vnd.databricks.v1+cell": {
     "inputWidgets": {},
     "nuid": "2055f56a-c9bd-4394-a6e9-3c412b9177f5",
     "showTitle": false,
     "title": ""
    },
    "colab": {},
    "colab_type": "code",
    "id": "PCdKKlCeXvAK",
    "outputId": "58876be0-2960-4df1-cefa-75daa1462dbd"
   },
   "outputs": [
    {
     "data": {
      "text/plain": [
       "Out[31]: [Row(value='199.72.81.55 - - [01/Jul/1995:00:00:01 -0400] \"GET /history/apollo/ HTTP/1.0\" 200 6245'),\n",
       " Row(value='unicomp6.unicomp.net - - [01/Jul/1995:00:00:06 -0400] \"GET /shuttle/countdown/ HTTP/1.0\" 200 3985'),\n",
       " Row(value='199.120.110.21 - - [01/Jul/1995:00:00:09 -0400] \"GET /shuttle/missions/sts-73/mission-sts-73.html HTTP/1.0\" 200 4085'),\n",
       " Row(value='burger.letters.com - - [01/Jul/1995:00:00:11 -0400] \"GET /shuttle/countdown/liftoff.html HTTP/1.0\" 304 0'),\n",
       " Row(value='199.120.110.21 - - [01/Jul/1995:00:00:11 -0400] \"GET /shuttle/missions/sts-73/sts-73-patch-small.gif HTTP/1.0\" 200 4179'),\n",
       " Row(value='burger.letters.com - - [01/Jul/1995:00:00:12 -0400] \"GET /images/NASA-logosmall.gif HTTP/1.0\" 304 0'),\n",
       " Row(value='burger.letters.com - - [01/Jul/1995:00:00:12 -0400] \"GET /shuttle/countdown/video/livevideo.gif HTTP/1.0\" 200 0'),\n",
       " Row(value='205.212.115.106 - - [01/Jul/1995:00:00:12 -0400] \"GET /shuttle/countdown/countdown.html HTTP/1.0\" 200 3985'),\n",
       " Row(value='d104.aa.net - - [01/Jul/1995:00:00:13 -0400] \"GET /shuttle/countdown/ HTTP/1.0\" 200 3985'),\n",
       " Row(value='129.94.144.152 - - [01/Jul/1995:00:00:13 -0400] \"GET / HTTP/1.0\" 200 7074')]"
      ]
     },
     "metadata": {
      "application/vnd.databricks.v1+output": {
       "addedWidgets": {},
       "arguments": {},
       "data": "Out[31]: [Row(value='199.72.81.55 - - [01/Jul/1995:00:00:01 -0400] \"GET /history/apollo/ HTTP/1.0\" 200 6245'),\n Row(value='unicomp6.unicomp.net - - [01/Jul/1995:00:00:06 -0400] \"GET /shuttle/countdown/ HTTP/1.0\" 200 3985'),\n Row(value='199.120.110.21 - - [01/Jul/1995:00:00:09 -0400] \"GET /shuttle/missions/sts-73/mission-sts-73.html HTTP/1.0\" 200 4085'),\n Row(value='burger.letters.com - - [01/Jul/1995:00:00:11 -0400] \"GET /shuttle/countdown/liftoff.html HTTP/1.0\" 304 0'),\n Row(value='199.120.110.21 - - [01/Jul/1995:00:00:11 -0400] \"GET /shuttle/missions/sts-73/sts-73-patch-small.gif HTTP/1.0\" 200 4179'),\n Row(value='burger.letters.com - - [01/Jul/1995:00:00:12 -0400] \"GET /images/NASA-logosmall.gif HTTP/1.0\" 304 0'),\n Row(value='burger.letters.com - - [01/Jul/1995:00:00:12 -0400] \"GET /shuttle/countdown/video/livevideo.gif HTTP/1.0\" 200 0'),\n Row(value='205.212.115.106 - - [01/Jul/1995:00:00:12 -0400] \"GET /shuttle/countdown/countdown.html HTTP/1.0\" 200 3985'),\n Row(value='d104.aa.net - - [01/Jul/1995:00:00:13 -0400] \"GET /shuttle/countdown/ HTTP/1.0\" 200 3985'),\n Row(value='129.94.144.152 - - [01/Jul/1995:00:00:13 -0400] \"GET / HTTP/1.0\" 200 7074')]",
       "datasetInfos": [],
       "metadata": {},
       "removedWidgets": [],
       "type": "ansi"
      }
     },
     "output_type": "display_data"
    }
   ],
   "source": [
    "base_df_rdd.take(10)"
   ]
  },
  {
   "cell_type": "markdown",
   "metadata": {
    "application/vnd.databricks.v1+cell": {
     "inputWidgets": {},
     "nuid": "5def3aca-8198-4c90-9ec1-ff74d07de843",
     "showTitle": false,
     "title": ""
    },
    "colab_type": "text",
    "id": "asaanbGIYfR8"
   },
   "source": [
    "# Data transformation"
   ]
  },
  {
   "cell_type": "markdown",
   "metadata": {
    "application/vnd.databricks.v1+cell": {
     "inputWidgets": {},
     "nuid": "cc0629ee-9fcc-4771-952a-25f175e4fbab",
     "showTitle": false,
     "title": ""
    },
    "colab_type": "text",
    "id": "yv5kCt3xXvAP"
   },
   "source": [
    "# Step 1 - Data Wrangling\n",
    "\n",
    "In this section, we will try and clean and parse our log dataset to really extract structured attributes with meaningful information from each log message.\n",
    "\n",
    "### Data understanding\n",
    "If you're familiar with web server logs, you'll recognize that the above displayed data is in [Common Log Format](https://www.w3.org/Daemon/User/Config/Logging.html#common-logfile-format). \n",
    "\n",
    "The fields are:\n",
    "__`remotehost rfc931 authuser [date] \"request\" status bytes`__\n",
    "\n",
    "\n",
    "| field         | meaning                                                                |\n",
    "| ------------- | ---------------------------------------------------------------------- |\n",
    "| _remotehost_  | Remote hostname (or IP number if DNS hostname is not available or if [DNSLookup](https://www.w3.org/Daemon/User/Config/General.html#DNSLookup) is off).       |\n",
    "| _rfc931_      | The remote logname of the user if at all it is present. |\n",
    "| _authuser_    | The username of the remote user after authentication by the HTTP server.  |\n",
    "| _[date]_      | Date and time of the request.                                      |\n",
    "| _\"request\"_   | The request, exactly as it came from the browser or client.            |\n",
    "| _status_      | The [HTTP status code](https://en.wikipedia.org/wiki/List_of_HTTP_status_codes) the server sent back to the client.               |\n",
    "| _bytes_       | The number of bytes (`Content-Length`) transferred to the client.      |\n",
    "\n",
    "We will need to use some specific techniques to parse, match and extract these attributes from the log data"
   ]
  },
  {
   "cell_type": "markdown",
   "metadata": {
    "application/vnd.databricks.v1+cell": {
     "inputWidgets": {},
     "nuid": "b6ca587f-9cea-4a84-ab67-25c62b7be3a5",
     "showTitle": false,
     "title": ""
    },
    "colab_type": "text",
    "id": "9aCEcwBLXvAQ"
   },
   "source": [
    "## Data Parsing and Extraction with Regular Expressions\n",
    "\n",
    "Next, we have to parse it into individual columns. We'll use the special built-in [regexp\\_extract()](http://spark.apache.org/docs/latest/api/python/pyspark.sql.html#pyspark.sql.functions.regexp_extract)\n",
    "function to do the parsing. This function matches a column against a regular expression with one or more [capture groups](http://regexone.com/lesson/capturing_groups) and allows you to extract one of the matched groups. We'll use one regular expression for each field we wish to extract.\n",
    "\n",
    "You must have heard or used a fair bit of regular expressions by now. If you find regular expressions confusing (and they certainly _can_ be), and you want to learn more about them, we recommend checking out the\n",
    "[RegexOne web site](http://regexone.com/). You might also find [_Regular Expressions Cookbook_](http://shop.oreilly.com/product/0636920023630.do), by Goyvaerts and Levithan, to be useful as a reference."
   ]
  },
  {
   "cell_type": "markdown",
   "metadata": {
    "application/vnd.databricks.v1+cell": {
     "inputWidgets": {},
     "nuid": "f4650a34-4c66-4c3a-b9a1-891246f29d86",
     "showTitle": false,
     "title": ""
    },
    "colab_type": "text",
    "id": "a3TFNjb1XvAS"
   },
   "source": [
    "#### Let's take a look at our dataset dimensions"
   ]
  },
  {
   "cell_type": "code",
   "execution_count": null,
   "metadata": {
    "application/vnd.databricks.v1+cell": {
     "inputWidgets": {},
     "nuid": "95f36dac-a78f-4dec-87e2-50689b2521d6",
     "showTitle": false,
     "title": ""
    },
    "colab": {},
    "colab_type": "code",
    "id": "ncbKGPMJXvAT",
    "outputId": "2d0a17f7-5bd7-444a-9a65-f547bf601f09"
   },
   "outputs": [
    {
     "data": {
      "text/plain": [
       "(3461613, 1)\n"
      ]
     },
     "metadata": {
      "application/vnd.databricks.v1+output": {
       "addedWidgets": {},
       "arguments": {},
       "data": "(3461613, 1)\n",
       "datasetInfos": [],
       "metadata": {},
       "removedWidgets": [],
       "type": "ansi"
      }
     },
     "output_type": "display_data"
    }
   ],
   "source": [
    "print((base_df.count(), len(base_df.columns)))"
   ]
  },
  {
   "cell_type": "markdown",
   "metadata": {
    "application/vnd.databricks.v1+cell": {
     "inputWidgets": {},
     "nuid": "94673931-9f0d-4224-916f-6f80a885a4ed",
     "showTitle": false,
     "title": ""
    },
    "colab_type": "text",
    "id": "dtZOfHsVXvAZ"
   },
   "source": [
    "Let's extract and take a look at some sample log messages"
   ]
  },
  {
   "cell_type": "code",
   "execution_count": null,
   "metadata": {
    "application/vnd.databricks.v1+cell": {
     "inputWidgets": {},
     "nuid": "8a32390e-d9a8-4778-a0a1-591c28725e2e",
     "showTitle": false,
     "title": ""
    },
    "colab": {},
    "colab_type": "code",
    "id": "-3sfUy4NXvAa",
    "outputId": "056e2311-d4be-4c1b-e507-a4c6f1868ace"
   },
   "outputs": [
    {
     "data": {
      "text/plain": [
       "Out[33]: ['199.72.81.55 - - [01/Jul/1995:00:00:01 -0400] \"GET /history/apollo/ HTTP/1.0\" 200 6245',\n",
       " 'unicomp6.unicomp.net - - [01/Jul/1995:00:00:06 -0400] \"GET /shuttle/countdown/ HTTP/1.0\" 200 3985',\n",
       " '199.120.110.21 - - [01/Jul/1995:00:00:09 -0400] \"GET /shuttle/missions/sts-73/mission-sts-73.html HTTP/1.0\" 200 4085',\n",
       " 'burger.letters.com - - [01/Jul/1995:00:00:11 -0400] \"GET /shuttle/countdown/liftoff.html HTTP/1.0\" 304 0',\n",
       " '199.120.110.21 - - [01/Jul/1995:00:00:11 -0400] \"GET /shuttle/missions/sts-73/sts-73-patch-small.gif HTTP/1.0\" 200 4179',\n",
       " 'burger.letters.com - - [01/Jul/1995:00:00:12 -0400] \"GET /images/NASA-logosmall.gif HTTP/1.0\" 304 0',\n",
       " 'burger.letters.com - - [01/Jul/1995:00:00:12 -0400] \"GET /shuttle/countdown/video/livevideo.gif HTTP/1.0\" 200 0',\n",
       " '205.212.115.106 - - [01/Jul/1995:00:00:12 -0400] \"GET /shuttle/countdown/countdown.html HTTP/1.0\" 200 3985',\n",
       " 'd104.aa.net - - [01/Jul/1995:00:00:13 -0400] \"GET /shuttle/countdown/ HTTP/1.0\" 200 3985',\n",
       " '129.94.144.152 - - [01/Jul/1995:00:00:13 -0400] \"GET / HTTP/1.0\" 200 7074',\n",
       " 'unicomp6.unicomp.net - - [01/Jul/1995:00:00:14 -0400] \"GET /shuttle/countdown/count.gif HTTP/1.0\" 200 40310',\n",
       " 'unicomp6.unicomp.net - - [01/Jul/1995:00:00:14 -0400] \"GET /images/NASA-logosmall.gif HTTP/1.0\" 200 786',\n",
       " 'unicomp6.unicomp.net - - [01/Jul/1995:00:00:14 -0400] \"GET /images/KSC-logosmall.gif HTTP/1.0\" 200 1204',\n",
       " 'd104.aa.net - - [01/Jul/1995:00:00:15 -0400] \"GET /shuttle/countdown/count.gif HTTP/1.0\" 200 40310',\n",
       " 'd104.aa.net - - [01/Jul/1995:00:00:15 -0400] \"GET /images/NASA-logosmall.gif HTTP/1.0\" 200 786']"
      ]
     },
     "metadata": {
      "application/vnd.databricks.v1+output": {
       "addedWidgets": {},
       "arguments": {},
       "data": "Out[33]: ['199.72.81.55 - - [01/Jul/1995:00:00:01 -0400] \"GET /history/apollo/ HTTP/1.0\" 200 6245',\n 'unicomp6.unicomp.net - - [01/Jul/1995:00:00:06 -0400] \"GET /shuttle/countdown/ HTTP/1.0\" 200 3985',\n '199.120.110.21 - - [01/Jul/1995:00:00:09 -0400] \"GET /shuttle/missions/sts-73/mission-sts-73.html HTTP/1.0\" 200 4085',\n 'burger.letters.com - - [01/Jul/1995:00:00:11 -0400] \"GET /shuttle/countdown/liftoff.html HTTP/1.0\" 304 0',\n '199.120.110.21 - - [01/Jul/1995:00:00:11 -0400] \"GET /shuttle/missions/sts-73/sts-73-patch-small.gif HTTP/1.0\" 200 4179',\n 'burger.letters.com - - [01/Jul/1995:00:00:12 -0400] \"GET /images/NASA-logosmall.gif HTTP/1.0\" 304 0',\n 'burger.letters.com - - [01/Jul/1995:00:00:12 -0400] \"GET /shuttle/countdown/video/livevideo.gif HTTP/1.0\" 200 0',\n '205.212.115.106 - - [01/Jul/1995:00:00:12 -0400] \"GET /shuttle/countdown/countdown.html HTTP/1.0\" 200 3985',\n 'd104.aa.net - - [01/Jul/1995:00:00:13 -0400] \"GET /shuttle/countdown/ HTTP/1.0\" 200 3985',\n '129.94.144.152 - - [01/Jul/1995:00:00:13 -0400] \"GET / HTTP/1.0\" 200 7074',\n 'unicomp6.unicomp.net - - [01/Jul/1995:00:00:14 -0400] \"GET /shuttle/countdown/count.gif HTTP/1.0\" 200 40310',\n 'unicomp6.unicomp.net - - [01/Jul/1995:00:00:14 -0400] \"GET /images/NASA-logosmall.gif HTTP/1.0\" 200 786',\n 'unicomp6.unicomp.net - - [01/Jul/1995:00:00:14 -0400] \"GET /images/KSC-logosmall.gif HTTP/1.0\" 200 1204',\n 'd104.aa.net - - [01/Jul/1995:00:00:15 -0400] \"GET /shuttle/countdown/count.gif HTTP/1.0\" 200 40310',\n 'd104.aa.net - - [01/Jul/1995:00:00:15 -0400] \"GET /images/NASA-logosmall.gif HTTP/1.0\" 200 786']",
       "datasetInfos": [],
       "metadata": {},
       "removedWidgets": [],
       "type": "ansi"
      }
     },
     "output_type": "display_data"
    }
   ],
   "source": [
    "sample_logs = [item['value'] for item in base_df.take(15)]\n",
    "sample_logs"
   ]
  },
  {
   "cell_type": "markdown",
   "metadata": {
    "application/vnd.databricks.v1+cell": {
     "inputWidgets": {},
     "nuid": "976f6e7f-2cfe-4d84-9422-13942296e5ba",
     "showTitle": false,
     "title": ""
    },
    "colab_type": "text",
    "id": "0aPYBjkwXvAf"
   },
   "source": [
    "### Extracting host names\n",
    "\n",
    "Let's try and write some regular expressions to extract the host name from the logs"
   ]
  },
  {
   "cell_type": "code",
   "execution_count": null,
   "metadata": {
    "application/vnd.databricks.v1+cell": {
     "inputWidgets": {},
     "nuid": "6c5fd1ac-a606-45e9-8789-f9148fe802d7",
     "showTitle": false,
     "title": ""
    },
    "colab": {},
    "colab_type": "code",
    "id": "WarNo8bGXvAh",
    "outputId": "d8a548f2-335e-4ab4-8a9f-28f55060e540"
   },
   "outputs": [
    {
     "data": {
      "text/plain": [
       "Out[34]: ['199.72.81.55',\n",
       " 'unicomp6.unicomp.net',\n",
       " '199.120.110.21',\n",
       " 'burger.letters.com',\n",
       " '199.120.110.21',\n",
       " 'burger.letters.com',\n",
       " 'burger.letters.com',\n",
       " '205.212.115.106',\n",
       " 'd104.aa.net',\n",
       " '129.94.144.152',\n",
       " 'unicomp6.unicomp.net',\n",
       " 'unicomp6.unicomp.net',\n",
       " 'unicomp6.unicomp.net',\n",
       " 'd104.aa.net',\n",
       " 'd104.aa.net']"
      ]
     },
     "metadata": {
      "application/vnd.databricks.v1+output": {
       "addedWidgets": {},
       "arguments": {},
       "data": "Out[34]: ['199.72.81.55',\n 'unicomp6.unicomp.net',\n '199.120.110.21',\n 'burger.letters.com',\n '199.120.110.21',\n 'burger.letters.com',\n 'burger.letters.com',\n '205.212.115.106',\n 'd104.aa.net',\n '129.94.144.152',\n 'unicomp6.unicomp.net',\n 'unicomp6.unicomp.net',\n 'unicomp6.unicomp.net',\n 'd104.aa.net',\n 'd104.aa.net']",
       "datasetInfos": [],
       "metadata": {},
       "removedWidgets": [],
       "type": "ansi"
      }
     },
     "output_type": "display_data"
    }
   ],
   "source": [
    "host_pattern = r'(^\\S+\\.[\\S+\\.]+\\S+)\\s'\n",
    "hosts = [re.search(host_pattern, item).group(1)\n",
    "           if re.search(host_pattern, item)\n",
    "           else 'no match'\n",
    "           for item in sample_logs]\n",
    "hosts"
   ]
  },
  {
   "cell_type": "markdown",
   "metadata": {
    "application/vnd.databricks.v1+cell": {
     "inputWidgets": {},
     "nuid": "d6b54ea1-6f35-4196-a9e0-1f13eefad7fe",
     "showTitle": false,
     "title": ""
    },
    "colab_type": "text",
    "id": "TcZrGpgwXvAk"
   },
   "source": [
    "### Extracting timestamps \n",
    "\n",
    "Let's now try and use regular expressions to extract the timestamp fields from the logs"
   ]
  },
  {
   "cell_type": "code",
   "execution_count": null,
   "metadata": {
    "application/vnd.databricks.v1+cell": {
     "inputWidgets": {},
     "nuid": "4e830c01-efd6-4480-b449-c0c0833a2260",
     "showTitle": false,
     "title": ""
    },
    "colab": {},
    "colab_type": "code",
    "id": "GOot8niKXvAl",
    "outputId": "6ad3338e-8ff0-48f1-c4d0-ad52742232b9"
   },
   "outputs": [
    {
     "data": {
      "text/plain": [
       "Out[35]: ['01/Jul/1995:00:00:01 -0400',\n",
       " '01/Jul/1995:00:00:06 -0400',\n",
       " '01/Jul/1995:00:00:09 -0400',\n",
       " '01/Jul/1995:00:00:11 -0400',\n",
       " '01/Jul/1995:00:00:11 -0400',\n",
       " '01/Jul/1995:00:00:12 -0400',\n",
       " '01/Jul/1995:00:00:12 -0400',\n",
       " '01/Jul/1995:00:00:12 -0400',\n",
       " '01/Jul/1995:00:00:13 -0400',\n",
       " '01/Jul/1995:00:00:13 -0400',\n",
       " '01/Jul/1995:00:00:14 -0400',\n",
       " '01/Jul/1995:00:00:14 -0400',\n",
       " '01/Jul/1995:00:00:14 -0400',\n",
       " '01/Jul/1995:00:00:15 -0400',\n",
       " '01/Jul/1995:00:00:15 -0400']"
      ]
     },
     "metadata": {
      "application/vnd.databricks.v1+output": {
       "addedWidgets": {},
       "arguments": {},
       "data": "Out[35]: ['01/Jul/1995:00:00:01 -0400',\n '01/Jul/1995:00:00:06 -0400',\n '01/Jul/1995:00:00:09 -0400',\n '01/Jul/1995:00:00:11 -0400',\n '01/Jul/1995:00:00:11 -0400',\n '01/Jul/1995:00:00:12 -0400',\n '01/Jul/1995:00:00:12 -0400',\n '01/Jul/1995:00:00:12 -0400',\n '01/Jul/1995:00:00:13 -0400',\n '01/Jul/1995:00:00:13 -0400',\n '01/Jul/1995:00:00:14 -0400',\n '01/Jul/1995:00:00:14 -0400',\n '01/Jul/1995:00:00:14 -0400',\n '01/Jul/1995:00:00:15 -0400',\n '01/Jul/1995:00:00:15 -0400']",
       "datasetInfos": [],
       "metadata": {},
       "removedWidgets": [],
       "type": "ansi"
      }
     },
     "output_type": "display_data"
    }
   ],
   "source": [
    "ts_pattern = r'\\[(\\d{2}/\\w{3}/\\d{4}:\\d{2}:\\d{2}:\\d{2} -\\d{4})]'\n",
    "timestamps = [re.search(ts_pattern, item).group(1) for item in sample_logs]\n",
    "timestamps"
   ]
  },
  {
   "cell_type": "markdown",
   "metadata": {
    "application/vnd.databricks.v1+cell": {
     "inputWidgets": {},
     "nuid": "7affaa55-26b2-409e-b60d-14224de79a67",
     "showTitle": false,
     "title": ""
    },
    "colab_type": "text",
    "id": "CKJ5F8tCXvAo"
   },
   "source": [
    "### Extracting HTTP Request Method, URIs and Protocol \n",
    "\n",
    "Let's now try and use regular expressions to extract the HTTP request methods, URIs and Protocol patterns fields from the logs"
   ]
  },
  {
   "cell_type": "code",
   "execution_count": null,
   "metadata": {
    "application/vnd.databricks.v1+cell": {
     "inputWidgets": {},
     "nuid": "6bee54c9-eeef-4917-8403-f81bef76090b",
     "showTitle": false,
     "title": ""
    },
    "colab": {},
    "colab_type": "code",
    "id": "TZvnPVXeXvAp",
    "outputId": "f3cdd71d-0239-43a4-fd8f-245193f571c3"
   },
   "outputs": [
    {
     "data": {
      "text/plain": [
       "Out[36]: [('GET', '/history/apollo/', 'HTTP/1.0'),\n",
       " ('GET', '/shuttle/countdown/', 'HTTP/1.0'),\n",
       " ('GET', '/shuttle/missions/sts-73/mission-sts-73.html', 'HTTP/1.0'),\n",
       " ('GET', '/shuttle/countdown/liftoff.html', 'HTTP/1.0'),\n",
       " ('GET', '/shuttle/missions/sts-73/sts-73-patch-small.gif', 'HTTP/1.0'),\n",
       " ('GET', '/images/NASA-logosmall.gif', 'HTTP/1.0'),\n",
       " ('GET', '/shuttle/countdown/video/livevideo.gif', 'HTTP/1.0'),\n",
       " ('GET', '/shuttle/countdown/countdown.html', 'HTTP/1.0'),\n",
       " ('GET', '/shuttle/countdown/', 'HTTP/1.0'),\n",
       " ('GET', '/', 'HTTP/1.0'),\n",
       " ('GET', '/shuttle/countdown/count.gif', 'HTTP/1.0'),\n",
       " ('GET', '/images/NASA-logosmall.gif', 'HTTP/1.0'),\n",
       " ('GET', '/images/KSC-logosmall.gif', 'HTTP/1.0'),\n",
       " ('GET', '/shuttle/countdown/count.gif', 'HTTP/1.0'),\n",
       " ('GET', '/images/NASA-logosmall.gif', 'HTTP/1.0')]"
      ]
     },
     "metadata": {
      "application/vnd.databricks.v1+output": {
       "addedWidgets": {},
       "arguments": {},
       "data": "Out[36]: [('GET', '/history/apollo/', 'HTTP/1.0'),\n ('GET', '/shuttle/countdown/', 'HTTP/1.0'),\n ('GET', '/shuttle/missions/sts-73/mission-sts-73.html', 'HTTP/1.0'),\n ('GET', '/shuttle/countdown/liftoff.html', 'HTTP/1.0'),\n ('GET', '/shuttle/missions/sts-73/sts-73-patch-small.gif', 'HTTP/1.0'),\n ('GET', '/images/NASA-logosmall.gif', 'HTTP/1.0'),\n ('GET', '/shuttle/countdown/video/livevideo.gif', 'HTTP/1.0'),\n ('GET', '/shuttle/countdown/countdown.html', 'HTTP/1.0'),\n ('GET', '/shuttle/countdown/', 'HTTP/1.0'),\n ('GET', '/', 'HTTP/1.0'),\n ('GET', '/shuttle/countdown/count.gif', 'HTTP/1.0'),\n ('GET', '/images/NASA-logosmall.gif', 'HTTP/1.0'),\n ('GET', '/images/KSC-logosmall.gif', 'HTTP/1.0'),\n ('GET', '/shuttle/countdown/count.gif', 'HTTP/1.0'),\n ('GET', '/images/NASA-logosmall.gif', 'HTTP/1.0')]",
       "datasetInfos": [],
       "metadata": {},
       "removedWidgets": [],
       "type": "ansi"
      }
     },
     "output_type": "display_data"
    }
   ],
   "source": [
    "method_uri_protocol_pattern = r'\\\"(\\S+)\\s(\\S+)\\s*(\\S*)\\\"'\n",
    "method_uri_protocol = [re.search(method_uri_protocol_pattern, item).groups()\n",
    "               if re.search(method_uri_protocol_pattern, item)\n",
    "               else 'no match'\n",
    "              for item in sample_logs]\n",
    "method_uri_protocol"
   ]
  },
  {
   "cell_type": "markdown",
   "metadata": {
    "application/vnd.databricks.v1+cell": {
     "inputWidgets": {},
     "nuid": "c72cd1cf-c8e8-4f00-b699-9ba50c455872",
     "showTitle": false,
     "title": ""
    },
    "colab_type": "text",
    "id": "oaBizluJXvAu"
   },
   "source": [
    "### Building an intermediate parsed dataframe\n",
    "\n",
    "Let's try and use our regular expressions we have implemented so far into parsing and extracting the relevant entities in separate columns in a new dataframe"
   ]
  },
  {
   "cell_type": "code",
   "execution_count": null,
   "metadata": {
    "application/vnd.databricks.v1+cell": {
     "inputWidgets": {},
     "nuid": "646c5798-38c3-46d3-989b-1eb3c37af774",
     "showTitle": false,
     "title": ""
    },
    "colab": {},
    "colab_type": "code",
    "id": "MLI8LUVPXvAv",
    "outputId": "5c8becac-e3bb-4a61-cc8e-bba69c4169d6"
   },
   "outputs": [
    {
     "data": {
      "text/plain": [
       "+--------------------+--------------------------+------+-----------------------------------------------+--------+\n",
       "|host                |timestamp                 |method|endpoint                                       |protocol|\n",
       "+--------------------+--------------------------+------+-----------------------------------------------+--------+\n",
       "|199.72.81.55        |01/Jul/1995:00:00:01 -0400|GET   |/history/apollo/                               |HTTP/1.0|\n",
       "|unicomp6.unicomp.net|01/Jul/1995:00:00:06 -0400|GET   |/shuttle/countdown/                            |HTTP/1.0|\n",
       "|199.120.110.21      |01/Jul/1995:00:00:09 -0400|GET   |/shuttle/missions/sts-73/mission-sts-73.html   |HTTP/1.0|\n",
       "|burger.letters.com  |01/Jul/1995:00:00:11 -0400|GET   |/shuttle/countdown/liftoff.html                |HTTP/1.0|\n",
       "|199.120.110.21      |01/Jul/1995:00:00:11 -0400|GET   |/shuttle/missions/sts-73/sts-73-patch-small.gif|HTTP/1.0|\n",
       "|burger.letters.com  |01/Jul/1995:00:00:12 -0400|GET   |/images/NASA-logosmall.gif                     |HTTP/1.0|\n",
       "|burger.letters.com  |01/Jul/1995:00:00:12 -0400|GET   |/shuttle/countdown/video/livevideo.gif         |HTTP/1.0|\n",
       "|205.212.115.106     |01/Jul/1995:00:00:12 -0400|GET   |/shuttle/countdown/countdown.html              |HTTP/1.0|\n",
       "|d104.aa.net         |01/Jul/1995:00:00:13 -0400|GET   |/shuttle/countdown/                            |HTTP/1.0|\n",
       "|129.94.144.152      |01/Jul/1995:00:00:13 -0400|GET   |/                                              |HTTP/1.0|\n",
       "+--------------------+--------------------------+------+-----------------------------------------------+--------+\n",
       "only showing top 10 rows\n",
       "\n",
       "(3461613, 5)\n"
      ]
     },
     "metadata": {
      "application/vnd.databricks.v1+output": {
       "addedWidgets": {},
       "arguments": {},
       "data": "+--------------------+--------------------------+------+-----------------------------------------------+--------+\n|host                |timestamp                 |method|endpoint                                       |protocol|\n+--------------------+--------------------------+------+-----------------------------------------------+--------+\n|199.72.81.55        |01/Jul/1995:00:00:01 -0400|GET   |/history/apollo/                               |HTTP/1.0|\n|unicomp6.unicomp.net|01/Jul/1995:00:00:06 -0400|GET   |/shuttle/countdown/                            |HTTP/1.0|\n|199.120.110.21      |01/Jul/1995:00:00:09 -0400|GET   |/shuttle/missions/sts-73/mission-sts-73.html   |HTTP/1.0|\n|burger.letters.com  |01/Jul/1995:00:00:11 -0400|GET   |/shuttle/countdown/liftoff.html                |HTTP/1.0|\n|199.120.110.21      |01/Jul/1995:00:00:11 -0400|GET   |/shuttle/missions/sts-73/sts-73-patch-small.gif|HTTP/1.0|\n|burger.letters.com  |01/Jul/1995:00:00:12 -0400|GET   |/images/NASA-logosmall.gif                     |HTTP/1.0|\n|burger.letters.com  |01/Jul/1995:00:00:12 -0400|GET   |/shuttle/countdown/video/livevideo.gif         |HTTP/1.0|\n|205.212.115.106     |01/Jul/1995:00:00:12 -0400|GET   |/shuttle/countdown/countdown.html              |HTTP/1.0|\n|d104.aa.net         |01/Jul/1995:00:00:13 -0400|GET   |/shuttle/countdown/                            |HTTP/1.0|\n|129.94.144.152      |01/Jul/1995:00:00:13 -0400|GET   |/                                              |HTTP/1.0|\n+--------------------+--------------------------+------+-----------------------------------------------+--------+\nonly showing top 10 rows\n\n(3461613, 5)\n",
       "datasetInfos": [],
       "metadata": {},
       "removedWidgets": [],
       "type": "ansi"
      }
     },
     "output_type": "display_data"
    }
   ],
   "source": [
    "from pyspark.sql.functions import regexp_extract\n",
    "\n",
    "logs_df = base_df.select(regexp_extract('value', host_pattern, 1).alias('host'),\n",
    "                         regexp_extract('value', ts_pattern, 1).alias('timestamp'),\n",
    "                         regexp_extract('value', method_uri_protocol_pattern, 1).alias('method'),\n",
    "                         regexp_extract('value', method_uri_protocol_pattern, 2).alias('endpoint'),\n",
    "                         regexp_extract('value', method_uri_protocol_pattern, 3).alias('protocol'))\n",
    "logs_df.show(10, truncate=False)\n",
    "print((logs_df.count(), len(logs_df.columns)))"
   ]
  },
  {
   "cell_type": "markdown",
   "metadata": {
    "application/vnd.databricks.v1+cell": {
     "inputWidgets": {},
     "nuid": "50562ac6-5679-48f0-953c-78916a1d4a3e",
     "showTitle": false,
     "title": ""
    },
    "colab_type": "text",
    "id": "-c-LK4TNXvAy"
   },
   "source": [
    "### Extracting HTTP Status Codes\n",
    "\n",
    "Let's now try and use regular expressions to extract the HTTP status codes from the logs"
   ]
  },
  {
   "cell_type": "code",
   "execution_count": null,
   "metadata": {
    "application/vnd.databricks.v1+cell": {
     "inputWidgets": {},
     "nuid": "1a9dd3f7-0f31-465a-bb83-5688e9c95f13",
     "showTitle": false,
     "title": ""
    },
    "colab": {},
    "colab_type": "code",
    "id": "kvWWXeTcXvA1",
    "outputId": "5ffeabc8-ecff-4365-af5f-0b905f913115"
   },
   "outputs": [
    {
     "data": {
      "text/plain": [
       "['200', '200', '200', '304', '200', '304', '200', '200', '200', '200', '200', '200', '200', '200', '200']\n"
      ]
     },
     "metadata": {
      "application/vnd.databricks.v1+output": {
       "addedWidgets": {},
       "arguments": {},
       "data": "['200', '200', '200', '304', '200', '304', '200', '200', '200', '200', '200', '200', '200', '200', '200']\n",
       "datasetInfos": [],
       "metadata": {},
       "removedWidgets": [],
       "type": "ansi"
      }
     },
     "output_type": "display_data"
    }
   ],
   "source": [
    "status_pattern = r'\\s(\\d{3})\\s'\n",
    "status = [re.search(status_pattern, item).group(1) for item in sample_logs]\n",
    "print(status)"
   ]
  },
  {
   "cell_type": "markdown",
   "metadata": {
    "application/vnd.databricks.v1+cell": {
     "inputWidgets": {},
     "nuid": "e40bebaf-ff5e-43b1-b700-9d1f151e71cf",
     "showTitle": false,
     "title": ""
    },
    "colab_type": "text",
    "id": "jFemwBnSXvA4"
   },
   "source": [
    "### Extracting HTTP Response Content Size\n",
    "\n",
    "Let's now try and use regular expressions to extract the HTTP response content size from the logs"
   ]
  },
  {
   "cell_type": "code",
   "execution_count": null,
   "metadata": {
    "application/vnd.databricks.v1+cell": {
     "inputWidgets": {},
     "nuid": "637f449a-c6f0-429f-b0fd-9311a7fa6997",
     "showTitle": false,
     "title": ""
    },
    "colab": {},
    "colab_type": "code",
    "id": "l0kmQOqjXvA5",
    "outputId": "8b6c6d90-6897-4885-e527-0b815f4a977e"
   },
   "outputs": [
    {
     "data": {
      "text/plain": [
       "['6245', '3985', '4085', '0', '4179', '0', '0', '3985', '3985', '7074', '40310', '786', '1204', '40310', '786']\n"
      ]
     },
     "metadata": {
      "application/vnd.databricks.v1+output": {
       "addedWidgets": {},
       "arguments": {},
       "data": "['6245', '3985', '4085', '0', '4179', '0', '0', '3985', '3985', '7074', '40310', '786', '1204', '40310', '786']\n",
       "datasetInfos": [],
       "metadata": {},
       "removedWidgets": [],
       "type": "ansi"
      }
     },
     "output_type": "display_data"
    }
   ],
   "source": [
    "content_size_pattern = r'\\s(\\d+)$'\n",
    "content_size = [re.search(content_size_pattern, item).group(1) for item in sample_logs]\n",
    "print(content_size)"
   ]
  },
  {
   "cell_type": "markdown",
   "metadata": {
    "application/vnd.databricks.v1+cell": {
     "inputWidgets": {},
     "nuid": "578f9f2e-1005-4aae-95bd-c512ead16b6b",
     "showTitle": false,
     "title": ""
    },
    "colab_type": "text",
    "id": "DHPbsgMsXvA8"
   },
   "source": [
    "## Q1: Your Turn: Putting it all together \n",
    "\n",
    "Let's now try and leverage all the regular expression patterns we previously built and use the `regexp_extract(...)` method to build our dataframe with all the log attributes neatly extracted in their own separate columns.\n",
    "\n",
    "- You can reuse the code we used previously to build the intermediate dataframe\n",
    "- Remember to cast the HTTP status code and content size as integers. \n",
    "- You can cast data as integer type using the following: __`regexp_extract('value', ...., ...).cast('integer').alias(...)`__"
   ]
  },
  {
   "cell_type": "code",
   "execution_count": null,
   "metadata": {
    "application/vnd.databricks.v1+cell": {
     "inputWidgets": {},
     "nuid": "d3cc156e-54e1-4ead-b418-a0df376b5a4c",
     "showTitle": false,
     "title": ""
    },
    "colab": {},
    "colab_type": "code",
    "id": "bM4iBWjRXvA-",
    "outputId": "b826a364-3709-4c6f-eb67-541e08c535ac"
   },
   "outputs": [
    {
     "data": {
      "text/plain": [
       "+--------------------+--------------------+------+--------------------+--------+------+------------+\n",
       "|                host|           timestamp|method|            endpoint|protocol|status|content_size|\n",
       "+--------------------+--------------------+------+--------------------+--------+------+------------+\n",
       "|        199.72.81.55|01/Jul/1995:00:00...|   GET|    /history/apollo/|HTTP/1.0|   200|        6245|\n",
       "|unicomp6.unicomp.net|01/Jul/1995:00:00...|   GET| /shuttle/countdown/|HTTP/1.0|   200|        3985|\n",
       "|      199.120.110.21|01/Jul/1995:00:00...|   GET|/shuttle/missions...|HTTP/1.0|   200|        4085|\n",
       "|  burger.letters.com|01/Jul/1995:00:00...|   GET|/shuttle/countdow...|HTTP/1.0|   304|           0|\n",
       "|      199.120.110.21|01/Jul/1995:00:00...|   GET|/shuttle/missions...|HTTP/1.0|   200|        4179|\n",
       "|  burger.letters.com|01/Jul/1995:00:00...|   GET|/images/NASA-logo...|HTTP/1.0|   304|           0|\n",
       "|  burger.letters.com|01/Jul/1995:00:00...|   GET|/shuttle/countdow...|HTTP/1.0|   200|           0|\n",
       "|     205.212.115.106|01/Jul/1995:00:00...|   GET|/shuttle/countdow...|HTTP/1.0|   200|        3985|\n",
       "|         d104.aa.net|01/Jul/1995:00:00...|   GET| /shuttle/countdown/|HTTP/1.0|   200|        3985|\n",
       "|      129.94.144.152|01/Jul/1995:00:00...|   GET|                   /|HTTP/1.0|   200|        7074|\n",
       "+--------------------+--------------------+------+--------------------+--------+------+------------+\n",
       "only showing top 10 rows\n",
       "\n",
       "(3461613, 7)\n"
      ]
     },
     "metadata": {
      "application/vnd.databricks.v1+output": {
       "addedWidgets": {},
       "arguments": {},
       "data": "+--------------------+--------------------+------+--------------------+--------+------+------------+\n|                host|           timestamp|method|            endpoint|protocol|status|content_size|\n+--------------------+--------------------+------+--------------------+--------+------+------------+\n|        199.72.81.55|01/Jul/1995:00:00...|   GET|    /history/apollo/|HTTP/1.0|   200|        6245|\n|unicomp6.unicomp.net|01/Jul/1995:00:00...|   GET| /shuttle/countdown/|HTTP/1.0|   200|        3985|\n|      199.120.110.21|01/Jul/1995:00:00...|   GET|/shuttle/missions...|HTTP/1.0|   200|        4085|\n|  burger.letters.com|01/Jul/1995:00:00...|   GET|/shuttle/countdow...|HTTP/1.0|   304|           0|\n|      199.120.110.21|01/Jul/1995:00:00...|   GET|/shuttle/missions...|HTTP/1.0|   200|        4179|\n|  burger.letters.com|01/Jul/1995:00:00...|   GET|/images/NASA-logo...|HTTP/1.0|   304|           0|\n|  burger.letters.com|01/Jul/1995:00:00...|   GET|/shuttle/countdow...|HTTP/1.0|   200|           0|\n|     205.212.115.106|01/Jul/1995:00:00...|   GET|/shuttle/countdow...|HTTP/1.0|   200|        3985|\n|         d104.aa.net|01/Jul/1995:00:00...|   GET| /shuttle/countdown/|HTTP/1.0|   200|        3985|\n|      129.94.144.152|01/Jul/1995:00:00...|   GET|                   /|HTTP/1.0|   200|        7074|\n+--------------------+--------------------+------+--------------------+--------+------+------------+\nonly showing top 10 rows\n\n(3461613, 7)\n",
       "datasetInfos": [],
       "metadata": {},
       "removedWidgets": [],
       "type": "ansi"
      }
     },
     "output_type": "display_data"
    }
   ],
   "source": [
    "# TODO: Replace <FILL IN> with appropriate code\n",
    "\n",
    "logs_df = base_df.select(regexp_extract('value', host_pattern, 1).alias('host'),\n",
    "                         regexp_extract('value', ts_pattern, 1).alias('timestamp'),\n",
    "                         regexp_extract('value', method_uri_protocol_pattern, 1).alias('method'),\n",
    "                         regexp_extract('value', method_uri_protocol_pattern, 2).alias('endpoint'),\n",
    "                         regexp_extract('value', method_uri_protocol_pattern, 3).alias('protocol'),\n",
    "                         regexp_extract('value', status_pattern, 1).cast('integer').alias('status'),\n",
    "                         regexp_extract('value', content_size_pattern, 1).cast('integer').alias('content_size'))\n",
    "logs_df.show(10, truncate=True)\n",
    "print((logs_df.count(), len(logs_df.columns)))"
   ]
  },
  {
   "cell_type": "markdown",
   "metadata": {
    "application/vnd.databricks.v1+cell": {
     "inputWidgets": {},
     "nuid": "472af6b9-7537-49a4-9ebd-fa2aeb3cce19",
     "showTitle": false,
     "title": ""
    },
    "colab_type": "text",
    "id": "EgLGxYRYXvBB"
   },
   "source": [
    "## Finding Missing Values\n",
    "\n",
    "Missing and null values are the bane of data analysis and machine learning. Let's see how well our data parsing and extraction logic worked. First, let's verify that there are no null rows in the original dataframe."
   ]
  },
  {
   "cell_type": "code",
   "execution_count": null,
   "metadata": {
    "application/vnd.databricks.v1+cell": {
     "inputWidgets": {},
     "nuid": "46104a8d-16fc-467b-ad39-2188bc604969",
     "showTitle": false,
     "title": ""
    },
    "colab": {},
    "colab_type": "code",
    "id": "O4ppVUoJXvBC",
    "outputId": "18c683c1-5f0d-4f62-9545-e9bd27088c80"
   },
   "outputs": [
    {
     "data": {
      "text/plain": [
       "Out[41]: 0"
      ]
     },
     "metadata": {
      "application/vnd.databricks.v1+output": {
       "addedWidgets": {},
       "arguments": {},
       "data": "Out[41]: 0",
       "datasetInfos": [],
       "metadata": {},
       "removedWidgets": [],
       "type": "ansi"
      }
     },
     "output_type": "display_data"
    }
   ],
   "source": [
    "base_df.filter(base_df['value'].isNull()).count()"
   ]
  },
  {
   "cell_type": "markdown",
   "metadata": {
    "application/vnd.databricks.v1+cell": {
     "inputWidgets": {},
     "nuid": "24c3c537-3095-4f03-a77c-e6f36669e205",
     "showTitle": false,
     "title": ""
    },
    "colab_type": "text",
    "id": "7V0g6vHcXvBG"
   },
   "source": [
    "If our data parsing and extraction worked properly, we should not have any rows with potential null values. Let's try and put that to test!"
   ]
  },
  {
   "cell_type": "code",
   "execution_count": null,
   "metadata": {
    "application/vnd.databricks.v1+cell": {
     "inputWidgets": {},
     "nuid": "8b8255ad-8fd2-4378-aebb-b46012e3a758",
     "showTitle": false,
     "title": ""
    },
    "colab": {},
    "colab_type": "code",
    "id": "4NFuk6QTXvBH",
    "outputId": "a8238a74-51c8-48ac-fe83-b67f42d0a78c"
   },
   "outputs": [
    {
     "data": {
      "text/plain": [
       "Out[42]: 33905"
      ]
     },
     "metadata": {
      "application/vnd.databricks.v1+output": {
       "addedWidgets": {},
       "arguments": {},
       "data": "Out[42]: 33905",
       "datasetInfos": [],
       "metadata": {},
       "removedWidgets": [],
       "type": "ansi"
      }
     },
     "output_type": "display_data"
    }
   ],
   "source": [
    "bad_rows_df = logs_df.filter(logs_df['host'].isNull()| \n",
    "                             logs_df['timestamp'].isNull() | \n",
    "                             logs_df['method'].isNull() |\n",
    "                             logs_df['endpoint'].isNull() |\n",
    "                             logs_df['status'].isNull() |\n",
    "                             logs_df['content_size'].isNull()|\n",
    "                             logs_df['protocol'].isNull())\n",
    "bad_rows_df.count()"
   ]
  },
  {
   "cell_type": "markdown",
   "metadata": {
    "application/vnd.databricks.v1+cell": {
     "inputWidgets": {},
     "nuid": "a417cb9c-7bbd-42c3-af82-42f5704ad0e8",
     "showTitle": false,
     "title": ""
    },
    "colab_type": "text",
    "id": "CIqr5XvhXvBM"
   },
   "source": [
    "Ouch! Looks like we have over 30K missing values in our data! Can we handle this?"
   ]
  },
  {
   "cell_type": "markdown",
   "metadata": {
    "application/vnd.databricks.v1+cell": {
     "inputWidgets": {},
     "nuid": "22f6c4ff-bd76-4933-87ad-e5a4125b058d",
     "showTitle": false,
     "title": ""
    },
    "colab_type": "text",
    "id": "g8iWYrBoXvBN"
   },
   "source": [
    "Do remember, this is not a regular pandas dataframe which you can directly query and get which columns have null. Our so-called _big dataset_ is residing on disk which can potentially be present in multiple nodes in a spark cluster. So how do we find out which columns have potential nulls? \n",
    "\n",
    "### Finding Null Counts\n",
    "\n",
    "We can typically use the following technique to find out which columns have null values. \n",
    "\n",
    "(__Note:__ This approach is adapted from an [excellent answer](http://stackoverflow.com/a/33901312) on StackOverflow.)"
   ]
  },
  {
   "cell_type": "code",
   "execution_count": null,
   "metadata": {
    "application/vnd.databricks.v1+cell": {
     "inputWidgets": {},
     "nuid": "e9d95e7c-7a8c-49f8-a962-89afe530e7c8",
     "showTitle": false,
     "title": ""
    },
    "colab": {},
    "colab_type": "code",
    "id": "h0TWdnaPXvBP",
    "outputId": "8a7abfda-2629-4f36-cb9c-3e00a13efa83"
   },
   "outputs": [
    {
     "data": {
      "text/plain": [
       "Out[43]: ['host',\n",
       " 'timestamp',\n",
       " 'method',\n",
       " 'endpoint',\n",
       " 'protocol',\n",
       " 'status',\n",
       " 'content_size']"
      ]
     },
     "metadata": {
      "application/vnd.databricks.v1+output": {
       "addedWidgets": {},
       "arguments": {},
       "data": "Out[43]: ['host',\n 'timestamp',\n 'method',\n 'endpoint',\n 'protocol',\n 'status',\n 'content_size']",
       "datasetInfos": [],
       "metadata": {},
       "removedWidgets": [],
       "type": "ansi"
      }
     },
     "output_type": "display_data"
    }
   ],
   "source": [
    "logs_df.columns"
   ]
  },
  {
   "cell_type": "code",
   "execution_count": null,
   "metadata": {
    "application/vnd.databricks.v1+cell": {
     "inputWidgets": {},
     "nuid": "48d8e3c1-9c13-4529-a3c1-2b8c8e7dc031",
     "showTitle": false,
     "title": ""
    },
    "colab": {},
    "colab_type": "code",
    "id": "LtNLdagZXvBT",
    "outputId": "e9fba1ca-d183-4728-9f7c-135ebcd78ec9"
   },
   "outputs": [
    {
     "data": {
      "text/plain": [
       "+----+---------+------+--------+--------+------+------------+\n",
       "|host|timestamp|method|endpoint|protocol|status|content_size|\n",
       "+----+---------+------+--------+--------+------+------------+\n",
       "|   0|        0|     0|       0|       0|     1|       33905|\n",
       "+----+---------+------+--------+--------+------+------------+\n",
       "\n"
      ]
     },
     "metadata": {
      "application/vnd.databricks.v1+output": {
       "addedWidgets": {},
       "arguments": {},
       "data": "+----+---------+------+--------+--------+------+------------+\n|host|timestamp|method|endpoint|protocol|status|content_size|\n+----+---------+------+--------+--------+------+------------+\n|   0|        0|     0|       0|       0|     1|       33905|\n+----+---------+------+--------+--------+------+------------+\n\n",
       "datasetInfos": [],
       "metadata": {},
       "removedWidgets": [],
       "type": "ansi"
      }
     },
     "output_type": "display_data"
    }
   ],
   "source": [
    "from pyspark.sql.functions import col\n",
    "from pyspark.sql.functions import sum as spark_sum\n",
    "\n",
    "def count_null(col_name):\n",
    "    return spark_sum(col(col_name).isNull().cast('integer')).alias(col_name)\n",
    "\n",
    "# Build up a list of column expressions, one per column.\n",
    "exprs = [count_null(col_name) for col_name in logs_df.columns]\n",
    "\n",
    "# Run the aggregation. The *exprs converts the list of expressions into\n",
    "# variable function arguments.\n",
    "logs_df.agg(*exprs).show()"
   ]
  },
  {
   "cell_type": "markdown",
   "metadata": {
    "application/vnd.databricks.v1+cell": {
     "inputWidgets": {},
     "nuid": "fe1a2828-08fd-41cc-9065-602cd011da33",
     "showTitle": false,
     "title": ""
    },
    "colab_type": "text",
    "id": "g5z_B22MXvBX"
   },
   "source": [
    "Well, looks like we have one missing value in the `status` column and everything else is in the `content_size` column. \n",
    "Let's see if we can figure out what's wrong!"
   ]
  },
  {
   "cell_type": "markdown",
   "metadata": {
    "application/vnd.databricks.v1+cell": {
     "inputWidgets": {},
     "nuid": "d658aadd-170e-4cbf-b8b5-652b2720e7e2",
     "showTitle": false,
     "title": ""
    },
    "colab_type": "text",
    "id": "jGoLzGeEXvBZ"
   },
   "source": [
    "### Handling nulls in HTTP status\n",
    "\n",
    "If you had solved it correctly, our original parsing regular expression for the `status` column was:\n",
    "\n",
    "```\n",
    "regexp_extract('value', r'\\s(\\d{3})\\s', 1).cast('integer').alias('status')\n",
    "``` \n",
    "\n",
    "Could it be that there are more digits making our regular expression wrong? or is the data point itself bad? Let's try and find out!\n",
    "\n",
    "**Note**: In the expression below, `~` means \"not\"."
   ]
  },
  {
   "cell_type": "code",
   "execution_count": null,
   "metadata": {
    "application/vnd.databricks.v1+cell": {
     "inputWidgets": {},
     "nuid": "61098bdb-8568-4d9d-8f25-a85cafaa18ae",
     "showTitle": false,
     "title": ""
    },
    "colab": {},
    "colab_type": "code",
    "id": "tscbB01GXvBb",
    "outputId": "97996e0a-5e21-441f-b742-3e898e691c43"
   },
   "outputs": [
    {
     "data": {
      "text/plain": [
       "Out[45]: 1"
      ]
     },
     "metadata": {
      "application/vnd.databricks.v1+output": {
       "addedWidgets": {},
       "arguments": {},
       "data": "Out[45]: 1",
       "datasetInfos": [],
       "metadata": {},
       "removedWidgets": [],
       "type": "ansi"
      }
     },
     "output_type": "display_data"
    }
   ],
   "source": [
    "null_status_df = base_df.filter(~base_df['value'].rlike(r'\\s(\\d{3})\\s'))\n",
    "null_status_df.count()"
   ]
  },
  {
   "cell_type": "code",
   "execution_count": null,
   "metadata": {
    "application/vnd.databricks.v1+cell": {
     "inputWidgets": {},
     "nuid": "355d50a9-7901-44e2-b1e5-f28372809f55",
     "showTitle": false,
     "title": ""
    },
    "colab": {},
    "colab_type": "code",
    "id": "KMRiPoTXXvBe",
    "outputId": "8bf8cf96-643f-42fd-c593-0dcadf950f74"
   },
   "outputs": [
    {
     "data": {
      "text/plain": [
       "+--------+\n",
       "|value   |\n",
       "+--------+\n",
       "|alyssa.p|\n",
       "+--------+\n",
       "\n"
      ]
     },
     "metadata": {
      "application/vnd.databricks.v1+output": {
       "addedWidgets": {},
       "arguments": {},
       "data": "+--------+\n|value   |\n+--------+\n|alyssa.p|\n+--------+\n\n",
       "datasetInfos": [],
       "metadata": {},
       "removedWidgets": [],
       "type": "ansi"
      }
     },
     "output_type": "display_data"
    }
   ],
   "source": [
    "null_status_df.show(truncate=False)"
   ]
  },
  {
   "cell_type": "code",
   "execution_count": null,
   "metadata": {
    "application/vnd.databricks.v1+cell": {
     "inputWidgets": {},
     "nuid": "1929e0dc-1d81-44b5-853f-c7020f8134e0",
     "showTitle": false,
     "title": ""
    },
    "colab": {},
    "colab_type": "code",
    "id": "-ec9HtGwXvBh",
    "outputId": "9bc09049-3dff-4b65-8fec-5b7edf2cda39"
   },
   "outputs": [
    {
     "data": {
      "text/plain": [
       "+----+---------+------+--------+--------+------+------------+\n",
       "|host|timestamp|method|endpoint|protocol|status|content_size|\n",
       "+----+---------+------+--------+--------+------+------------+\n",
       "|    |         |      |        |        |null  |null        |\n",
       "+----+---------+------+--------+--------+------+------------+\n",
       "\n"
      ]
     },
     "metadata": {
      "application/vnd.databricks.v1+output": {
       "addedWidgets": {},
       "arguments": {},
       "data": "+----+---------+------+--------+--------+------+------------+\n|host|timestamp|method|endpoint|protocol|status|content_size|\n+----+---------+------+--------+--------+------+------------+\n|    |         |      |        |        |null  |null        |\n+----+---------+------+--------+--------+------+------------+\n\n",
       "datasetInfos": [],
       "metadata": {},
       "removedWidgets": [],
       "type": "ansi"
      }
     },
     "output_type": "display_data"
    }
   ],
   "source": [
    "bad_status_df = null_status_df.select(regexp_extract('value', host_pattern, 1).alias('host'),\n",
    "                                      regexp_extract('value', ts_pattern, 1).alias('timestamp'),\n",
    "                                      regexp_extract('value', method_uri_protocol_pattern, 1).alias('method'),\n",
    "                                      regexp_extract('value', method_uri_protocol_pattern, 2).alias('endpoint'),\n",
    "                                      regexp_extract('value', method_uri_protocol_pattern, 3).alias('protocol'),\n",
    "                                      regexp_extract('value', status_pattern, 1).cast('integer').alias('status'),\n",
    "                                      regexp_extract('value', content_size_pattern, 1).cast('integer').alias('content_size'))\n",
    "bad_status_df.show(truncate=False)"
   ]
  },
  {
   "cell_type": "markdown",
   "metadata": {
    "application/vnd.databricks.v1+cell": {
     "inputWidgets": {},
     "nuid": "df99cd31-6776-48db-81a0-fe4e36758e2b",
     "showTitle": false,
     "title": ""
    },
    "colab_type": "text",
    "id": "wS7tZXIUXvBk"
   },
   "source": [
    "Looks like the record itself is an incomplete record with no useful information, the best option would be to drop this record as follows!"
   ]
  },
  {
   "cell_type": "code",
   "execution_count": null,
   "metadata": {
    "application/vnd.databricks.v1+cell": {
     "inputWidgets": {},
     "nuid": "b48b1ac7-420b-4c1e-874e-05de1ef06db6",
     "showTitle": false,
     "title": ""
    },
    "colab": {},
    "colab_type": "code",
    "id": "zb6wxLWuXvBl",
    "outputId": "b4f36a5a-9679-4830-91fc-80388aac54e2"
   },
   "outputs": [
    {
     "data": {
      "text/plain": [
       "Out[48]: 3461613"
      ]
     },
     "metadata": {
      "application/vnd.databricks.v1+output": {
       "addedWidgets": {},
       "arguments": {},
       "data": "Out[48]: 3461613",
       "datasetInfos": [],
       "metadata": {},
       "removedWidgets": [],
       "type": "ansi"
      }
     },
     "output_type": "display_data"
    }
   ],
   "source": [
    "logs_df.count()"
   ]
  },
  {
   "cell_type": "code",
   "execution_count": null,
   "metadata": {
    "application/vnd.databricks.v1+cell": {
     "inputWidgets": {},
     "nuid": "4a88809f-98e7-4598-83fb-fd410448951b",
     "showTitle": false,
     "title": ""
    },
    "colab": {},
    "colab_type": "code",
    "id": "RQogALLJXvBo",
    "outputId": "41034dca-c862-48e7-9a3d-548738bebbff"
   },
   "outputs": [
    {
     "data": {
      "text/plain": [
       "Out[49]: 3461612"
      ]
     },
     "metadata": {
      "application/vnd.databricks.v1+output": {
       "addedWidgets": {},
       "arguments": {},
       "data": "Out[49]: 3461612",
       "datasetInfos": [],
       "metadata": {},
       "removedWidgets": [],
       "type": "ansi"
      }
     },
     "output_type": "display_data"
    }
   ],
   "source": [
    "logs_df = logs_df[logs_df['status'].isNotNull()]\n",
    "logs_df.count()"
   ]
  },
  {
   "cell_type": "code",
   "execution_count": null,
   "metadata": {
    "application/vnd.databricks.v1+cell": {
     "inputWidgets": {},
     "nuid": "2efb2274-c275-4605-b27a-eeae5dad15ee",
     "showTitle": false,
     "title": ""
    },
    "colab": {},
    "colab_type": "code",
    "id": "_rHsvCeeXvBs",
    "outputId": "a58d88c2-94cc-4c58-bf1f-bf12abc0e822"
   },
   "outputs": [
    {
     "data": {
      "text/plain": [
       "+----+---------+------+--------+--------+------+------------+\n",
       "|host|timestamp|method|endpoint|protocol|status|content_size|\n",
       "+----+---------+------+--------+--------+------+------------+\n",
       "|   0|        0|     0|       0|       0|     0|       33904|\n",
       "+----+---------+------+--------+--------+------+------------+\n",
       "\n"
      ]
     },
     "metadata": {
      "application/vnd.databricks.v1+output": {
       "addedWidgets": {},
       "arguments": {},
       "data": "+----+---------+------+--------+--------+------+------------+\n|host|timestamp|method|endpoint|protocol|status|content_size|\n+----+---------+------+--------+--------+------+------------+\n|   0|        0|     0|       0|       0|     0|       33904|\n+----+---------+------+--------+--------+------+------------+\n\n",
       "datasetInfos": [],
       "metadata": {},
       "removedWidgets": [],
       "type": "ansi"
      }
     },
     "output_type": "display_data"
    }
   ],
   "source": [
    "exprs = [count_null(col_name) for col_name in logs_df.columns]\n",
    "logs_df.agg(*exprs).show()"
   ]
  },
  {
   "cell_type": "markdown",
   "metadata": {
    "application/vnd.databricks.v1+cell": {
     "inputWidgets": {},
     "nuid": "30a3361b-c99e-4d70-8462-61ad283985b4",
     "showTitle": false,
     "title": ""
    },
    "colab_type": "text",
    "id": "8k4-PjEFXvBv"
   },
   "source": [
    "### Handling nulls in HTTP content size\n",
    "\n",
    "Again based on our previous regular expression and assuming you were able to solve it correctly, our original parsing regular expression for the `content_size` column was:\n",
    "\n",
    "```\n",
    "regexp_extract('value', r'\\s(\\d+)$', 1).cast('integer').alias('content_size')\n",
    "``` \n",
    "\n",
    "Could there be missing data in our original dataset itself? Let's try and find out!"
   ]
  },
  {
   "cell_type": "markdown",
   "metadata": {
    "application/vnd.databricks.v1+cell": {
     "inputWidgets": {},
     "nuid": "4a22672d-7f8d-4645-94e9-0b38fbac2917",
     "showTitle": false,
     "title": ""
    },
    "colab_type": "text",
    "id": "MMjHfm1aXvBw"
   },
   "source": [
    "### Q2: Your Turn: Find out the records in our base data frame with potential missing content sizes\n",
    "\n",
    "- Use the `r'\\s\\d+$'` regex pattern with the `rlike()` function like we demonstrated in the previous example\n",
    "- Remember to work on `base_df` since we are searching on the raw records NOT the parsed `logs_df`\n",
    "- Find the total count of the records with missing content size in `base_df` using the `count()` function"
   ]
  },
  {
   "cell_type": "code",
   "execution_count": null,
   "metadata": {
    "application/vnd.databricks.v1+cell": {
     "inputWidgets": {},
     "nuid": "2dd8a788-8181-40df-966c-33ccc091dd02",
     "showTitle": false,
     "title": ""
    },
    "colab": {},
    "colab_type": "code",
    "id": "ki7G6daTXvBx",
    "outputId": "8a7230f3-f87b-4681-fcfc-b5d9503a441d"
   },
   "outputs": [
    {
     "data": {
      "text/plain": [
       "Out[51]: 33905"
      ]
     },
     "metadata": {
      "application/vnd.databricks.v1+output": {
       "addedWidgets": {},
       "arguments": {},
       "data": "Out[51]: 33905",
       "datasetInfos": [],
       "metadata": {},
       "removedWidgets": [],
       "type": "ansi"
      }
     },
     "output_type": "display_data"
    }
   ],
   "source": [
    "# TODO: Replace <FILL IN> with appropriate code\n",
    "\n",
    "null_content_size_df = base_df.filter(~base_df['value'].rlike(r'\\s\\d+$'))\n",
    "null_content_size_df.count()"
   ]
  },
  {
   "cell_type": "markdown",
   "metadata": {
    "application/vnd.databricks.v1+cell": {
     "inputWidgets": {},
     "nuid": "1231fa31-2424-4816-b08a-aec64df0f69c",
     "showTitle": false,
     "title": ""
    },
    "colab_type": "text",
    "id": "6te6fSfCXvB0"
   },
   "source": [
    "### Q3: Your Turn: Display the top ten records of your data frame having missing content sizes"
   ]
  },
  {
   "cell_type": "code",
   "execution_count": null,
   "metadata": {
    "application/vnd.databricks.v1+cell": {
     "inputWidgets": {},
     "nuid": "b940e8c5-e8ea-4f98-af7c-abe2bc9a15db",
     "showTitle": false,
     "title": ""
    },
    "colab": {},
    "colab_type": "code",
    "id": "P1vwVWX4XvB1",
    "outputId": "c11b52c6-ed73-421f-8988-8eb6296c7e7a"
   },
   "outputs": [
    {
     "data": {
      "text/plain": [
       "+--------------------+--------------------+------+--------------------+--------+------+------------+\n",
       "|                host|           timestamp|method|            endpoint|protocol|status|content_size|\n",
       "+--------------------+--------------------+------+--------------------+--------+------+------------+\n",
       "|dd15-062.compuser...|01/Jul/1995:00:01...|   GET|/news/sci.space.s...|HTTP/1.0|   404|        null|\n",
       "|     dynip42.efn.org|01/Jul/1995:00:02...|   GET|           /software|HTTP/1.0|   302|        null|\n",
       "|ix-or10-06.ix.net...|01/Jul/1995:00:02...|   GET|     /software/winvn|HTTP/1.0|   302|        null|\n",
       "|ix-or10-06.ix.net...|01/Jul/1995:00:03...|   GET|           /software|HTTP/1.0|   302|        null|\n",
       "|link097.txdirect.net|01/Jul/1995:00:05...|   GET|            /shuttle|HTTP/1.0|   302|        null|\n",
       "|ix-war-mi1-20.ix....|01/Jul/1995:00:05...|   GET|/shuttle/missions...|HTTP/1.0|   302|        null|\n",
       "|ix-war-mi1-20.ix....|01/Jul/1995:00:05...|   GET|/shuttle/missions...|HTTP/1.0|   302|        null|\n",
       "|   netport-27.iu.net|01/Jul/1995:00:10...|   GET|/pub/winvn/readme...|HTTP/1.0|   404|        null|\n",
       "|   netport-27.iu.net|01/Jul/1995:00:10...|   GET|/pub/winvn/readme...|HTTP/1.0|   404|        null|\n",
       "|     dynip38.efn.org|01/Jul/1995:00:10...|   GET|           /software|HTTP/1.0|   302|        null|\n",
       "+--------------------+--------------------+------+--------------------+--------+------+------------+\n",
       "only showing top 10 rows\n",
       "\n",
       "(33905, 7)\n"
      ]
     },
     "metadata": {
      "application/vnd.databricks.v1+output": {
       "addedWidgets": {},
       "arguments": {},
       "data": "+--------------------+--------------------+------+--------------------+--------+------+------------+\n|                host|           timestamp|method|            endpoint|protocol|status|content_size|\n+--------------------+--------------------+------+--------------------+--------+------+------------+\n|dd15-062.compuser...|01/Jul/1995:00:01...|   GET|/news/sci.space.s...|HTTP/1.0|   404|        null|\n|     dynip42.efn.org|01/Jul/1995:00:02...|   GET|           /software|HTTP/1.0|   302|        null|\n|ix-or10-06.ix.net...|01/Jul/1995:00:02...|   GET|     /software/winvn|HTTP/1.0|   302|        null|\n|ix-or10-06.ix.net...|01/Jul/1995:00:03...|   GET|           /software|HTTP/1.0|   302|        null|\n|link097.txdirect.net|01/Jul/1995:00:05...|   GET|            /shuttle|HTTP/1.0|   302|        null|\n|ix-war-mi1-20.ix....|01/Jul/1995:00:05...|   GET|/shuttle/missions...|HTTP/1.0|   302|        null|\n|ix-war-mi1-20.ix....|01/Jul/1995:00:05...|   GET|/shuttle/missions...|HTTP/1.0|   302|        null|\n|   netport-27.iu.net|01/Jul/1995:00:10...|   GET|/pub/winvn/readme...|HTTP/1.0|   404|        null|\n|   netport-27.iu.net|01/Jul/1995:00:10...|   GET|/pub/winvn/readme...|HTTP/1.0|   404|        null|\n|     dynip38.efn.org|01/Jul/1995:00:10...|   GET|           /software|HTTP/1.0|   302|        null|\n+--------------------+--------------------+------+--------------------+--------+------+------------+\nonly showing top 10 rows\n\n(33905, 7)\n",
       "datasetInfos": [],
       "metadata": {},
       "removedWidgets": [],
       "type": "ansi"
      }
     },
     "output_type": "display_data"
    }
   ],
   "source": [
    "# TODO: Replace <FILL IN> with appropriate code\n",
    "\n",
    "# null_content_size_df.<FILL IN>\n",
    "\n",
    "zeros_df = null_content_size_df.select(regexp_extract('value', host_pattern, 1).alias('host'),\n",
    "                         regexp_extract('value', ts_pattern, 1).alias('timestamp'),\n",
    "                         regexp_extract('value', method_uri_protocol_pattern, 1).alias('method'),\n",
    "                         regexp_extract('value', method_uri_protocol_pattern, 2).alias('endpoint'),\n",
    "                         regexp_extract('value', method_uri_protocol_pattern, 3).alias('protocol'),\n",
    "                         regexp_extract('value', status_pattern, 1).cast('integer').alias('status'),\n",
    "                         regexp_extract('value', content_size_pattern, 1).cast('integer').alias('content_size'))\n",
    "zeros_df.show(10, truncate=True)\n",
    "print((zeros_df.count(), len(zeros_df.columns)))"
   ]
  },
  {
   "cell_type": "markdown",
   "metadata": {
    "application/vnd.databricks.v1+cell": {
     "inputWidgets": {},
     "nuid": "933d46c1-d1de-4160-ac1e-4123f89697c0",
     "showTitle": false,
     "title": ""
    },
    "colab_type": "text",
    "id": "Rl3J6c5sXvB8"
   },
   "source": [
    "Assuming you were able to get to the missing records above, it is quite evident that the bad raw data records correspond to error responses, where no content was sent back and the server emitted a \"`-`\" for the `content_size` field. \n",
    "\n",
    "Since we don't want to discard those rows from our analysis, let's impute or fill them to 0."
   ]
  },
  {
   "cell_type": "markdown",
   "metadata": {
    "application/vnd.databricks.v1+cell": {
     "inputWidgets": {},
     "nuid": "181294a3-4058-467d-813b-3ffaac0a92bc",
     "showTitle": false,
     "title": ""
    },
    "colab_type": "text",
    "id": "2y3iD47fXvCB"
   },
   "source": [
    "### Q4: Your Turn: Fix the rows with null content\\_size\n",
    "\n",
    "The easiest solution is to replace the null values in `logs_df` with 0 like we discussed earlier. The Spark DataFrame API provides a set of functions and fields specifically designed for working with null values, among them:\n",
    "\n",
    "* [fillna()](http://spark.apache.org/docs/latest/api/python/pyspark.sql.html#pyspark.sql.DataFrame.fillna), which fills null values with specified non-null values.\n",
    "* [na](http://spark.apache.org/docs/latest/api/python/pyspark.sql.html#pyspark.sql.DataFrame.na), which returns a [DataFrameNaFunctions](http://spark.apache.org/docs/latest/api/python/pyspark.sql.html#pyspark.sql.DataFrameNaFunctions) object with many functions for operating on null columns.\n",
    "\n",
    "There are several ways to invoke this function. The easiest is just to replace _all_ null columns with known values. But, for safety, it's better to pass a Python dictionary containing (column\\_name, value) mappings. That's what we'll do. A sample example from the documentation is depicted below\n",
    "\n",
    "```\n",
    ">>> df4.na.fill({'age': 50, 'name': 'unknown'}).show()\n",
    "+---+------+-------+\n",
    "|age|height|   name|\n",
    "+---+------+-------+\n",
    "| 10|    80|  Alice|\n",
    "|  5|  null|    Bob|\n",
    "| 50|  null|    Tom|\n",
    "| 50|  null|unknown|\n",
    "+---+------+-------+\n",
    "```\n",
    "\n",
    "Now use this function and fill all the missing values in the `content_size` field with 0!"
   ]
  },
  {
   "cell_type": "code",
   "execution_count": null,
   "metadata": {
    "application/vnd.databricks.v1+cell": {
     "inputWidgets": {},
     "nuid": "66243a45-347e-480f-8f6f-1dc215e8b996",
     "showTitle": false,
     "title": ""
    },
    "colab": {},
    "colab_type": "code",
    "collapsed": true,
    "id": "_2w5KTE0XvCC",
    "jupyter": {
     "outputs_hidden": true
    },
    "outputId": "df4d371c-1376-4616-e2c7-9e35ddccf80e"
   },
   "outputs": [],
   "source": [
    "# TODO: Replace <FILL IN> with appropriate code\n",
    "\n",
    "# logs_df = <FILL IN>\n",
    "logs_df = logs_df.na.fill({'content_size': '0'})"
   ]
  },
  {
   "cell_type": "markdown",
   "metadata": {
    "application/vnd.databricks.v1+cell": {
     "inputWidgets": {},
     "nuid": "dc826152-f5ed-467b-bd57-be015e84888f",
     "showTitle": false,
     "title": ""
    },
    "colab_type": "text",
    "id": "zdjkzs6UXvCJ"
   },
   "source": [
    "Now assuming you were able to fill in the missing values successfully in the previous question, we should have no missing values \\ nulls in our dataset. Let's verify this!"
   ]
  },
  {
   "cell_type": "code",
   "execution_count": null,
   "metadata": {
    "application/vnd.databricks.v1+cell": {
     "inputWidgets": {},
     "nuid": "18281767-cb65-4a05-afb7-8fa18d4bde46",
     "showTitle": false,
     "title": ""
    },
    "colab": {},
    "colab_type": "code",
    "id": "wDaLqVZOXvCK",
    "outputId": "a3097bef-1d37-4213-a6e8-a52b08c27947"
   },
   "outputs": [
    {
     "data": {
      "text/plain": [
       "+----+---------+------+--------+--------+------+------------+\n",
       "|host|timestamp|method|endpoint|protocol|status|content_size|\n",
       "+----+---------+------+--------+--------+------+------------+\n",
       "|   0|        0|     0|       0|       0|     0|           0|\n",
       "+----+---------+------+--------+--------+------+------------+\n",
       "\n"
      ]
     },
     "metadata": {
      "application/vnd.databricks.v1+output": {
       "addedWidgets": {},
       "arguments": {},
       "data": "+----+---------+------+--------+--------+------+------------+\n|host|timestamp|method|endpoint|protocol|status|content_size|\n+----+---------+------+--------+--------+------+------------+\n|   0|        0|     0|       0|       0|     0|           0|\n+----+---------+------+--------+--------+------+------------+\n\n",
       "datasetInfos": [],
       "metadata": {},
       "removedWidgets": [],
       "type": "ansi"
      }
     },
     "output_type": "display_data"
    }
   ],
   "source": [
    "exprs = [count_null(col_name) for col_name in logs_df.columns]\n",
    "logs_df.agg(*exprs).show()"
   ]
  },
  {
   "cell_type": "markdown",
   "metadata": {
    "application/vnd.databricks.v1+cell": {
     "inputWidgets": {},
     "nuid": "7f43c2ce-7775-461b-a3c1-8d74571d8255",
     "showTitle": false,
     "title": ""
    },
    "colab_type": "text",
    "id": "Bjr1f1m2XvCN"
   },
   "source": [
    "Look at that, no missing values!"
   ]
  },
  {
   "cell_type": "markdown",
   "metadata": {
    "application/vnd.databricks.v1+cell": {
     "inputWidgets": {},
     "nuid": "1da37dd3-3944-4be0-8e70-70cee4fb3f5d",
     "showTitle": false,
     "title": ""
    },
    "colab_type": "text",
    "id": "UFtYMGZhXvCN"
   },
   "source": [
    "## Handling Temporal Fields (Timestamp)\n",
    "\n",
    "Now that we have a clean, parsed DataFrame, we have to parse the timestamp field into an actual timestamp. The Common Log Format time is somewhat non-standard. A User-Defined Function (UDF) is the most straightforward way to parse it."
   ]
  },
  {
   "cell_type": "code",
   "execution_count": null,
   "metadata": {
    "application/vnd.databricks.v1+cell": {
     "inputWidgets": {},
     "nuid": "b497ddd2-ecf7-40bb-8558-93dd164d0c9d",
     "showTitle": false,
     "title": ""
    },
    "colab": {},
    "colab_type": "code",
    "id": "k5t5VysnXvCS",
    "outputId": "bebe2bb0-65ec-4d43-dbc9-24cda3c32de0"
   },
   "outputs": [],
   "source": [
    "from pyspark.sql.functions import udf\n",
    "\n",
    "month_map = {\n",
    "  'Jan': 1, 'Feb': 2, 'Mar':3, 'Apr':4, 'May':5, 'Jun':6, 'Jul':7,\n",
    "  'Aug':8,  'Sep': 9, 'Oct':10, 'Nov': 11, 'Dec': 12\n",
    "}\n",
    "\n",
    "def parse_clf_time(text):\n",
    "    \"\"\" Convert Common Log time format into a Python datetime object\n",
    "    Args:\n",
    "        text (str): date and time in Apache time format [dd/mmm/yyyy:hh:mm:ss (+/-)zzzz]\n",
    "    Returns:\n",
    "        a string suitable for passing to CAST('timestamp')\n",
    "    \"\"\"\n",
    "    # NOTE: We're ignoring time zone here. In a production application, you'd want to handle that.\n",
    "    return \"{0:04d}-{1:02d}-{2:02d} {3:02d}:{4:02d}:{5:02d}\".format(\n",
    "      int(text[7:11]),\n",
    "      month_map[text[3:6]],\n",
    "      int(text[0:2]),\n",
    "      int(text[12:14]),\n",
    "      int(text[15:17]),\n",
    "      int(text[18:20])\n",
    "    )"
   ]
  },
  {
   "cell_type": "code",
   "execution_count": null,
   "metadata": {
    "application/vnd.databricks.v1+cell": {
     "inputWidgets": {},
     "nuid": "1fdbd3de-9f96-4246-aa22-c8b99a1976e4",
     "showTitle": false,
     "title": ""
    },
    "colab": {},
    "colab_type": "code",
    "id": "RLJHPXHwXvCW",
    "outputId": "2e58d673-3c1b-45fa-f283-886c698cfc6d"
   },
   "outputs": [
    {
     "data": {
      "text/plain": [
       "Out[58]: ['01/Jul/1995:00:00:01 -0400',\n",
       " '01/Jul/1995:00:00:06 -0400',\n",
       " '01/Jul/1995:00:00:09 -0400',\n",
       " '01/Jul/1995:00:00:11 -0400',\n",
       " '01/Jul/1995:00:00:11 -0400']"
      ]
     },
     "metadata": {
      "application/vnd.databricks.v1+output": {
       "addedWidgets": {},
       "arguments": {},
       "data": "Out[58]: ['01/Jul/1995:00:00:01 -0400',\n '01/Jul/1995:00:00:06 -0400',\n '01/Jul/1995:00:00:09 -0400',\n '01/Jul/1995:00:00:11 -0400',\n '01/Jul/1995:00:00:11 -0400']",
       "datasetInfos": [],
       "metadata": {},
       "removedWidgets": [],
       "type": "ansi"
      }
     },
     "output_type": "display_data"
    }
   ],
   "source": [
    "sample_ts = [item['timestamp'] for item in logs_df.select('timestamp').take(5)]\n",
    "sample_ts"
   ]
  },
  {
   "cell_type": "code",
   "execution_count": null,
   "metadata": {
    "application/vnd.databricks.v1+cell": {
     "inputWidgets": {},
     "nuid": "a1ca9087-35a5-4451-a870-bb1cb5287de7",
     "showTitle": false,
     "title": ""
    },
    "colab": {},
    "colab_type": "code",
    "id": "0K5Yd1Z2XvCY",
    "outputId": "6108f5bb-bbd8-4c11-f9e4-efc491c543e0"
   },
   "outputs": [
    {
     "data": {
      "text/plain": [
       "Out[59]: ['1995-07-01 00:00:01',\n",
       " '1995-07-01 00:00:06',\n",
       " '1995-07-01 00:00:09',\n",
       " '1995-07-01 00:00:11',\n",
       " '1995-07-01 00:00:11']"
      ]
     },
     "metadata": {
      "application/vnd.databricks.v1+output": {
       "addedWidgets": {},
       "arguments": {},
       "data": "Out[59]: ['1995-07-01 00:00:01',\n '1995-07-01 00:00:06',\n '1995-07-01 00:00:09',\n '1995-07-01 00:00:11',\n '1995-07-01 00:00:11']",
       "datasetInfos": [],
       "metadata": {},
       "removedWidgets": [],
       "type": "ansi"
      }
     },
     "output_type": "display_data"
    }
   ],
   "source": [
    "[parse_clf_time(item) for item in sample_ts]"
   ]
  },
  {
   "cell_type": "code",
   "execution_count": null,
   "metadata": {
    "application/vnd.databricks.v1+cell": {
     "inputWidgets": {},
     "nuid": "5d921164-5b1b-4ef6-ae42-17418381550c",
     "showTitle": false,
     "title": ""
    },
    "colab": {},
    "colab_type": "code",
    "id": "WBbQ_QNsXvCb",
    "outputId": "b1e05731-4bff-410d-8c6f-d1637fd0f0a7"
   },
   "outputs": [
    {
     "data": {
      "text/plain": [
       "+--------------------+------+--------------------+--------+------+------------+-------------------+\n",
       "|                host|method|            endpoint|protocol|status|content_size|               time|\n",
       "+--------------------+------+--------------------+--------+------+------------+-------------------+\n",
       "|        199.72.81.55|   GET|    /history/apollo/|HTTP/1.0|   200|        6245|1995-07-01 00:00:01|\n",
       "|unicomp6.unicomp.net|   GET| /shuttle/countdown/|HTTP/1.0|   200|        3985|1995-07-01 00:00:06|\n",
       "|      199.120.110.21|   GET|/shuttle/missions...|HTTP/1.0|   200|        4085|1995-07-01 00:00:09|\n",
       "|  burger.letters.com|   GET|/shuttle/countdow...|HTTP/1.0|   304|           0|1995-07-01 00:00:11|\n",
       "|      199.120.110.21|   GET|/shuttle/missions...|HTTP/1.0|   200|        4179|1995-07-01 00:00:11|\n",
       "|  burger.letters.com|   GET|/images/NASA-logo...|HTTP/1.0|   304|           0|1995-07-01 00:00:12|\n",
       "|  burger.letters.com|   GET|/shuttle/countdow...|HTTP/1.0|   200|           0|1995-07-01 00:00:12|\n",
       "|     205.212.115.106|   GET|/shuttle/countdow...|HTTP/1.0|   200|        3985|1995-07-01 00:00:12|\n",
       "|         d104.aa.net|   GET| /shuttle/countdown/|HTTP/1.0|   200|        3985|1995-07-01 00:00:13|\n",
       "|      129.94.144.152|   GET|                   /|HTTP/1.0|   200|        7074|1995-07-01 00:00:13|\n",
       "+--------------------+------+--------------------+--------+------+------------+-------------------+\n",
       "only showing top 10 rows\n",
       "\n"
      ]
     },
     "metadata": {
      "application/vnd.databricks.v1+output": {
       "addedWidgets": {},
       "arguments": {},
       "data": "+--------------------+------+--------------------+--------+------+------------+-------------------+\n|                host|method|            endpoint|protocol|status|content_size|               time|\n+--------------------+------+--------------------+--------+------+------------+-------------------+\n|        199.72.81.55|   GET|    /history/apollo/|HTTP/1.0|   200|        6245|1995-07-01 00:00:01|\n|unicomp6.unicomp.net|   GET| /shuttle/countdown/|HTTP/1.0|   200|        3985|1995-07-01 00:00:06|\n|      199.120.110.21|   GET|/shuttle/missions...|HTTP/1.0|   200|        4085|1995-07-01 00:00:09|\n|  burger.letters.com|   GET|/shuttle/countdow...|HTTP/1.0|   304|           0|1995-07-01 00:00:11|\n|      199.120.110.21|   GET|/shuttle/missions...|HTTP/1.0|   200|        4179|1995-07-01 00:00:11|\n|  burger.letters.com|   GET|/images/NASA-logo...|HTTP/1.0|   304|           0|1995-07-01 00:00:12|\n|  burger.letters.com|   GET|/shuttle/countdow...|HTTP/1.0|   200|           0|1995-07-01 00:00:12|\n|     205.212.115.106|   GET|/shuttle/countdow...|HTTP/1.0|   200|        3985|1995-07-01 00:00:12|\n|         d104.aa.net|   GET| /shuttle/countdown/|HTTP/1.0|   200|        3985|1995-07-01 00:00:13|\n|      129.94.144.152|   GET|                   /|HTTP/1.0|   200|        7074|1995-07-01 00:00:13|\n+--------------------+------+--------------------+--------+------+------------+-------------------+\nonly showing top 10 rows\n\n",
       "datasetInfos": [],
       "metadata": {},
       "removedWidgets": [],
       "type": "ansi"
      }
     },
     "output_type": "display_data"
    }
   ],
   "source": [
    "udf_parse_time = udf(parse_clf_time)\n",
    "\n",
    "logs_df = logs_df.select('*', udf_parse_time(logs_df['timestamp']).cast('timestamp').alias('time')).drop('timestamp')\n",
    "logs_df.show(10, truncate=True)"
   ]
  },
  {
   "cell_type": "code",
   "execution_count": null,
   "metadata": {
    "application/vnd.databricks.v1+cell": {
     "inputWidgets": {},
     "nuid": "00e9dc23-5824-4f1d-993b-283f9237b7b2",
     "showTitle": false,
     "title": ""
    },
    "colab": {},
    "colab_type": "code",
    "id": "9Yy-eIDtXvCi",
    "outputId": "913a1185-f22d-4ac9-856b-d31db17eca28"
   },
   "outputs": [
    {
     "data": {
      "text/plain": [
       "root\n",
       " |-- host: string (nullable = true)\n",
       " |-- method: string (nullable = true)\n",
       " |-- endpoint: string (nullable = true)\n",
       " |-- protocol: string (nullable = true)\n",
       " |-- status: integer (nullable = true)\n",
       " |-- content_size: integer (nullable = true)\n",
       " |-- time: timestamp (nullable = true)\n",
       "\n"
      ]
     },
     "metadata": {
      "application/vnd.databricks.v1+output": {
       "addedWidgets": {},
       "arguments": {},
       "data": "root\n |-- host: string (nullable = true)\n |-- method: string (nullable = true)\n |-- endpoint: string (nullable = true)\n |-- protocol: string (nullable = true)\n |-- status: integer (nullable = true)\n |-- content_size: integer (nullable = true)\n |-- time: timestamp (nullable = true)\n\n",
       "datasetInfos": [],
       "metadata": {},
       "removedWidgets": [],
       "type": "ansi"
      }
     },
     "output_type": "display_data"
    }
   ],
   "source": [
    "logs_df.printSchema()"
   ]
  },
  {
   "cell_type": "code",
   "execution_count": null,
   "metadata": {
    "application/vnd.databricks.v1+cell": {
     "inputWidgets": {},
     "nuid": "5f78d73b-59b7-4f1f-8692-99e4bcfafbaf",
     "showTitle": false,
     "title": ""
    },
    "colab": {},
    "colab_type": "code",
    "id": "wfMB_2JvXvCk",
    "outputId": "dfb9673b-af0c-4232-d28f-674fa1662ac0"
   },
   "outputs": [
    {
     "data": {
      "text/html": [
       "<div>\n",
       "<style scoped>\n",
       "    .dataframe tbody tr th:only-of-type {\n",
       "        vertical-align: middle;\n",
       "    }\n",
       "\n",
       "    .dataframe tbody tr th {\n",
       "        vertical-align: top;\n",
       "    }\n",
       "\n",
       "    .dataframe thead th {\n",
       "        text-align: right;\n",
       "    }\n",
       "</style>\n",
       "<table border=\"1\" class=\"dataframe\">\n",
       "  <thead>\n",
       "    <tr style=\"text-align: right;\">\n",
       "      <th></th>\n",
       "      <th>host</th>\n",
       "      <th>method</th>\n",
       "      <th>endpoint</th>\n",
       "      <th>protocol</th>\n",
       "      <th>status</th>\n",
       "      <th>content_size</th>\n",
       "      <th>time</th>\n",
       "    </tr>\n",
       "  </thead>\n",
       "  <tbody>\n",
       "    <tr>\n",
       "      <th>0</th>\n",
       "      <td>199.72.81.55</td>\n",
       "      <td>GET</td>\n",
       "      <td>/history/apollo/</td>\n",
       "      <td>HTTP/1.0</td>\n",
       "      <td>200</td>\n",
       "      <td>6245</td>\n",
       "      <td>1995-07-01 00:00:01</td>\n",
       "    </tr>\n",
       "    <tr>\n",
       "      <th>1</th>\n",
       "      <td>unicomp6.unicomp.net</td>\n",
       "      <td>GET</td>\n",
       "      <td>/shuttle/countdown/</td>\n",
       "      <td>HTTP/1.0</td>\n",
       "      <td>200</td>\n",
       "      <td>3985</td>\n",
       "      <td>1995-07-01 00:00:06</td>\n",
       "    </tr>\n",
       "    <tr>\n",
       "      <th>2</th>\n",
       "      <td>199.120.110.21</td>\n",
       "      <td>GET</td>\n",
       "      <td>/shuttle/missions/sts-73/mission-sts-73.html</td>\n",
       "      <td>HTTP/1.0</td>\n",
       "      <td>200</td>\n",
       "      <td>4085</td>\n",
       "      <td>1995-07-01 00:00:09</td>\n",
       "    </tr>\n",
       "    <tr>\n",
       "      <th>3</th>\n",
       "      <td>burger.letters.com</td>\n",
       "      <td>GET</td>\n",
       "      <td>/shuttle/countdown/liftoff.html</td>\n",
       "      <td>HTTP/1.0</td>\n",
       "      <td>304</td>\n",
       "      <td>0</td>\n",
       "      <td>1995-07-01 00:00:11</td>\n",
       "    </tr>\n",
       "    <tr>\n",
       "      <th>4</th>\n",
       "      <td>199.120.110.21</td>\n",
       "      <td>GET</td>\n",
       "      <td>/shuttle/missions/sts-73/sts-73-patch-small.gif</td>\n",
       "      <td>HTTP/1.0</td>\n",
       "      <td>200</td>\n",
       "      <td>4179</td>\n",
       "      <td>1995-07-01 00:00:11</td>\n",
       "    </tr>\n",
       "  </tbody>\n",
       "</table>\n",
       "</div>"
      ]
     },
     "metadata": {
      "application/vnd.databricks.v1+output": {
       "addedWidgets": {},
       "arguments": {},
       "data": "<div>\n<style scoped>\n    .dataframe tbody tr th:only-of-type {\n        vertical-align: middle;\n    }\n\n    .dataframe tbody tr th {\n        vertical-align: top;\n    }\n\n    .dataframe thead th {\n        text-align: right;\n    }\n</style>\n<table border=\"1\" class=\"dataframe\">\n  <thead>\n    <tr style=\"text-align: right;\">\n      <th></th>\n      <th>host</th>\n      <th>method</th>\n      <th>endpoint</th>\n      <th>protocol</th>\n      <th>status</th>\n      <th>content_size</th>\n      <th>time</th>\n    </tr>\n  </thead>\n  <tbody>\n    <tr>\n      <th>0</th>\n      <td>199.72.81.55</td>\n      <td>GET</td>\n      <td>/history/apollo/</td>\n      <td>HTTP/1.0</td>\n      <td>200</td>\n      <td>6245</td>\n      <td>1995-07-01 00:00:01</td>\n    </tr>\n    <tr>\n      <th>1</th>\n      <td>unicomp6.unicomp.net</td>\n      <td>GET</td>\n      <td>/shuttle/countdown/</td>\n      <td>HTTP/1.0</td>\n      <td>200</td>\n      <td>3985</td>\n      <td>1995-07-01 00:00:06</td>\n    </tr>\n    <tr>\n      <th>2</th>\n      <td>199.120.110.21</td>\n      <td>GET</td>\n      <td>/shuttle/missions/sts-73/mission-sts-73.html</td>\n      <td>HTTP/1.0</td>\n      <td>200</td>\n      <td>4085</td>\n      <td>1995-07-01 00:00:09</td>\n    </tr>\n    <tr>\n      <th>3</th>\n      <td>burger.letters.com</td>\n      <td>GET</td>\n      <td>/shuttle/countdown/liftoff.html</td>\n      <td>HTTP/1.0</td>\n      <td>304</td>\n      <td>0</td>\n      <td>1995-07-01 00:00:11</td>\n    </tr>\n    <tr>\n      <th>4</th>\n      <td>199.120.110.21</td>\n      <td>GET</td>\n      <td>/shuttle/missions/sts-73/sts-73-patch-small.gif</td>\n      <td>HTTP/1.0</td>\n      <td>200</td>\n      <td>4179</td>\n      <td>1995-07-01 00:00:11</td>\n    </tr>\n  </tbody>\n</table>\n</div>",
       "datasetInfos": [],
       "metadata": {},
       "removedWidgets": [],
       "textData": null,
       "type": "htmlSandbox"
      }
     },
     "output_type": "display_data"
    }
   ],
   "source": [
    "logs_df.limit(5).toPandas()"
   ]
  },
  {
   "cell_type": "markdown",
   "metadata": {
    "application/vnd.databricks.v1+cell": {
     "inputWidgets": {},
     "nuid": "77634c5c-50b7-456e-81e9-483c170a03a9",
     "showTitle": false,
     "title": ""
    },
    "colab_type": "text",
    "id": "cn3ghlDsXvCp"
   },
   "source": [
    "Let's now cache `logs_df` since we will be using it extensively for our data analysis section in the next part!"
   ]
  },
  {
   "cell_type": "markdown",
   "metadata": {
    "application/vnd.databricks.v1+cell": {
     "inputWidgets": {},
     "nuid": "56299cae-409a-437a-81c6-e00d707abc61",
     "showTitle": false,
     "title": ""
    },
    "colab_type": "text",
    "id": "1WTHkvANXvCq"
   },
   "source": [
    "# Step 2 - Exploratory Data Analysis on our Web Logs\n",
    "\n",
    "Now that we have a DataFrame containing the parsed log file as a data frame, we can perform some interesting exploratory data analysis (EDA)\n",
    "\n",
    "## Example: Content Size Statistics\n",
    "\n",
    "Let's compute some statistics about the sizes of content being returned by the web server. In particular, we'd like to know what are the average, minimum, and maximum content sizes.\n",
    "\n",
    "We can compute the statistics by calling `.describe()` on the `content_size` column of `logs_df`.  The `.describe()` function returns the count, mean, stddev, min, and max of a given column."
   ]
  },
  {
   "cell_type": "code",
   "execution_count": null,
   "metadata": {
    "application/vnd.databricks.v1+cell": {
     "inputWidgets": {},
     "nuid": "6f2a7989-adc3-4b6f-a0cd-ea7d1c6013ee",
     "showTitle": false,
     "title": ""
    },
    "colab": {},
    "colab_type": "code",
    "id": "FHkVy3ZXXvCr",
    "outputId": "cd083d90-c450-4d64-9d56-c8e1f5dd1eed"
   },
   "outputs": [
    {
     "data": {
      "text/html": [
       "<div>\n",
       "<style scoped>\n",
       "    .dataframe tbody tr th:only-of-type {\n",
       "        vertical-align: middle;\n",
       "    }\n",
       "\n",
       "    .dataframe tbody tr th {\n",
       "        vertical-align: top;\n",
       "    }\n",
       "\n",
       "    .dataframe thead th {\n",
       "        text-align: right;\n",
       "    }\n",
       "</style>\n",
       "<table border=\"1\" class=\"dataframe\">\n",
       "  <thead>\n",
       "    <tr style=\"text-align: right;\">\n",
       "      <th></th>\n",
       "      <th>summary</th>\n",
       "      <th>content_size</th>\n",
       "    </tr>\n",
       "  </thead>\n",
       "  <tbody>\n",
       "    <tr>\n",
       "      <th>0</th>\n",
       "      <td>count</td>\n",
       "      <td>3461612</td>\n",
       "    </tr>\n",
       "    <tr>\n",
       "      <th>1</th>\n",
       "      <td>mean</td>\n",
       "      <td>18928.844398216785</td>\n",
       "    </tr>\n",
       "    <tr>\n",
       "      <th>2</th>\n",
       "      <td>stddev</td>\n",
       "      <td>73031.47260949228</td>\n",
       "    </tr>\n",
       "    <tr>\n",
       "      <th>3</th>\n",
       "      <td>min</td>\n",
       "      <td>0</td>\n",
       "    </tr>\n",
       "    <tr>\n",
       "      <th>4</th>\n",
       "      <td>max</td>\n",
       "      <td>6823936</td>\n",
       "    </tr>\n",
       "  </tbody>\n",
       "</table>\n",
       "</div>"
      ]
     },
     "metadata": {
      "application/vnd.databricks.v1+output": {
       "addedWidgets": {},
       "arguments": {},
       "data": "<div>\n<style scoped>\n    .dataframe tbody tr th:only-of-type {\n        vertical-align: middle;\n    }\n\n    .dataframe tbody tr th {\n        vertical-align: top;\n    }\n\n    .dataframe thead th {\n        text-align: right;\n    }\n</style>\n<table border=\"1\" class=\"dataframe\">\n  <thead>\n    <tr style=\"text-align: right;\">\n      <th></th>\n      <th>summary</th>\n      <th>content_size</th>\n    </tr>\n  </thead>\n  <tbody>\n    <tr>\n      <th>0</th>\n      <td>count</td>\n      <td>3461612</td>\n    </tr>\n    <tr>\n      <th>1</th>\n      <td>mean</td>\n      <td>18928.844398216785</td>\n    </tr>\n    <tr>\n      <th>2</th>\n      <td>stddev</td>\n      <td>73031.47260949228</td>\n    </tr>\n    <tr>\n      <th>3</th>\n      <td>min</td>\n      <td>0</td>\n    </tr>\n    <tr>\n      <th>4</th>\n      <td>max</td>\n      <td>6823936</td>\n    </tr>\n  </tbody>\n</table>\n</div>",
       "datasetInfos": [],
       "metadata": {},
       "removedWidgets": [],
       "textData": null,
       "type": "htmlSandbox"
      }
     },
     "output_type": "display_data"
    }
   ],
   "source": [
    "content_size_summary_df = logs_df.describe(['content_size'])\n",
    "content_size_summary_df.toPandas()"
   ]
  },
  {
   "cell_type": "markdown",
   "metadata": {
    "application/vnd.databricks.v1+cell": {
     "inputWidgets": {},
     "nuid": "258914a4-eea4-47a9-b1ce-2f5aa0656b23",
     "showTitle": false,
     "title": ""
    },
    "colab_type": "text",
    "id": "fY1S9FPAXvCv"
   },
   "source": [
    "Alternatively, we can use SQL to directly calculate these statistics.  You can explore many useful functions within the `pyspark.sql.functions` module in the [documentation](https://spark.apache.org/docs/latest/api/python/pyspark.sql.html#module-pyspark.sql.functions).\n",
    "\n",
    "After we apply the `.agg()` function, we call `toPandas()` to extract and convert the result into a `pandas` dataframe which has better formatting on Jupyter notebooks"
   ]
  },
  {
   "cell_type": "code",
   "execution_count": null,
   "metadata": {
    "application/vnd.databricks.v1+cell": {
     "inputWidgets": {},
     "nuid": "6018bad7-fe71-487a-9322-5f47ebccee3d",
     "showTitle": false,
     "title": ""
    },
    "colab": {},
    "colab_type": "code",
    "id": "nonAax8AXvCx",
    "outputId": "1a9a01ac-35f3-44ab-f105-5759f8f79b9a"
   },
   "outputs": [
    {
     "data": {
      "text/html": [
       "<div>\n",
       "<style scoped>\n",
       "    .dataframe tbody tr th:only-of-type {\n",
       "        vertical-align: middle;\n",
       "    }\n",
       "\n",
       "    .dataframe tbody tr th {\n",
       "        vertical-align: top;\n",
       "    }\n",
       "\n",
       "    .dataframe thead th {\n",
       "        text-align: right;\n",
       "    }\n",
       "</style>\n",
       "<table border=\"1\" class=\"dataframe\">\n",
       "  <thead>\n",
       "    <tr style=\"text-align: right;\">\n",
       "      <th></th>\n",
       "      <th>min_content_size</th>\n",
       "      <th>max_content_size</th>\n",
       "      <th>mean_content_size</th>\n",
       "      <th>std_content_size</th>\n",
       "      <th>count_content_size</th>\n",
       "    </tr>\n",
       "  </thead>\n",
       "  <tbody>\n",
       "    <tr>\n",
       "      <th>0</th>\n",
       "      <td>0</td>\n",
       "      <td>6823936</td>\n",
       "      <td>18928.844398</td>\n",
       "      <td>73031.472609</td>\n",
       "      <td>3461612</td>\n",
       "    </tr>\n",
       "  </tbody>\n",
       "</table>\n",
       "</div>"
      ]
     },
     "metadata": {
      "application/vnd.databricks.v1+output": {
       "addedWidgets": {},
       "arguments": {},
       "data": "<div>\n<style scoped>\n    .dataframe tbody tr th:only-of-type {\n        vertical-align: middle;\n    }\n\n    .dataframe tbody tr th {\n        vertical-align: top;\n    }\n\n    .dataframe thead th {\n        text-align: right;\n    }\n</style>\n<table border=\"1\" class=\"dataframe\">\n  <thead>\n    <tr style=\"text-align: right;\">\n      <th></th>\n      <th>min_content_size</th>\n      <th>max_content_size</th>\n      <th>mean_content_size</th>\n      <th>std_content_size</th>\n      <th>count_content_size</th>\n    </tr>\n  </thead>\n  <tbody>\n    <tr>\n      <th>0</th>\n      <td>0</td>\n      <td>6823936</td>\n      <td>18928.844398</td>\n      <td>73031.472609</td>\n      <td>3461612</td>\n    </tr>\n  </tbody>\n</table>\n</div>",
       "datasetInfos": [],
       "metadata": {},
       "removedWidgets": [],
       "textData": null,
       "type": "htmlSandbox"
      }
     },
     "output_type": "display_data"
    }
   ],
   "source": [
    "from pyspark.sql import functions as F\n",
    "\n",
    "(logs_df.agg(F.min(logs_df['content_size']).alias('min_content_size'),\n",
    "             F.max(logs_df['content_size']).alias('max_content_size'),\n",
    "             F.mean(logs_df['content_size']).alias('mean_content_size'),\n",
    "             F.stddev(logs_df['content_size']).alias('std_content_size'),\n",
    "             F.count(logs_df['content_size']).alias('count_content_size'))\n",
    "        .toPandas())"
   ]
  },
  {
   "cell_type": "markdown",
   "metadata": {
    "application/vnd.databricks.v1+cell": {
     "inputWidgets": {},
     "nuid": "1b7a43bc-7ec0-4f60-a86c-d1661d1e5d1f",
     "showTitle": false,
     "title": ""
    },
    "colab_type": "text",
    "id": "8hat3HPwXvC0"
   },
   "source": [
    "## Example: HTTP Status Code Analysis\n",
    "\n",
    "Next, let's look at the status code values that appear in the log. We want to know which status code values appear in the data and how many times.  \n",
    "\n",
    "We again start with `logs_df`, then group by the `status` column, apply the `.count()` aggregation function, and sort by the `status` column."
   ]
  },
  {
   "cell_type": "code",
   "execution_count": null,
   "metadata": {
    "application/vnd.databricks.v1+cell": {
     "inputWidgets": {},
     "nuid": "f2e20aa9-e3eb-4319-932f-5b221efb4958",
     "showTitle": false,
     "title": ""
    },
    "colab": {},
    "colab_type": "code",
    "collapsed": true,
    "id": "jL-vEt0FXvC1",
    "jupyter": {
     "outputs_hidden": true
    },
    "outputId": "8ee8079f-8b03-4e70-8335-cbd7b2d0b1bc"
   },
   "outputs": [],
   "source": [
    "status_freq_df = (logs_df\n",
    "                     .groupBy('status')\n",
    "                     .count()\n",
    "                     .sort('status')\n",
    "                     .cache())"
   ]
  },
  {
   "cell_type": "code",
   "execution_count": null,
   "metadata": {
    "application/vnd.databricks.v1+cell": {
     "inputWidgets": {},
     "nuid": "2eef4436-fc42-4587-8bbe-da3bce9bed33",
     "showTitle": false,
     "title": ""
    },
    "colab": {},
    "colab_type": "code",
    "id": "a0iPsCW2XvC3",
    "outputId": "64fbd3f8-cf08-4ca3-de33-32349d3d6597"
   },
   "outputs": [
    {
     "data": {
      "text/plain": [
       "Total distinct HTTP Status Codes: 8\n"
      ]
     },
     "metadata": {
      "application/vnd.databricks.v1+output": {
       "addedWidgets": {},
       "arguments": {},
       "data": "Total distinct HTTP Status Codes: 8\n",
       "datasetInfos": [],
       "metadata": {},
       "removedWidgets": [],
       "type": "ansi"
      }
     },
     "output_type": "display_data"
    }
   ],
   "source": [
    "print('Total distinct HTTP Status Codes:', status_freq_df.count())"
   ]
  },
  {
   "cell_type": "code",
   "execution_count": null,
   "metadata": {
    "application/vnd.databricks.v1+cell": {
     "inputWidgets": {},
     "nuid": "c35b65da-01f9-47cc-9239-304e9a4b60f6",
     "showTitle": false,
     "title": ""
    },
    "colab": {},
    "colab_type": "code",
    "id": "SZO7ncjdXvC6",
    "outputId": "0344aef8-367b-476b-fc2c-e6c1346d3da9"
   },
   "outputs": [
    {
     "data": {
      "text/html": [
       "<div>\n",
       "<style scoped>\n",
       "    .dataframe tbody tr th:only-of-type {\n",
       "        vertical-align: middle;\n",
       "    }\n",
       "\n",
       "    .dataframe tbody tr th {\n",
       "        vertical-align: top;\n",
       "    }\n",
       "\n",
       "    .dataframe thead th {\n",
       "        text-align: right;\n",
       "    }\n",
       "</style>\n",
       "<table border=\"1\" class=\"dataframe\">\n",
       "  <thead>\n",
       "    <tr style=\"text-align: right;\">\n",
       "      <th></th>\n",
       "      <th>status</th>\n",
       "      <th>count</th>\n",
       "    </tr>\n",
       "  </thead>\n",
       "  <tbody>\n",
       "    <tr>\n",
       "      <th>0</th>\n",
       "      <td>200</td>\n",
       "      <td>3100524</td>\n",
       "    </tr>\n",
       "    <tr>\n",
       "      <th>1</th>\n",
       "      <td>302</td>\n",
       "      <td>73070</td>\n",
       "    </tr>\n",
       "    <tr>\n",
       "      <th>2</th>\n",
       "      <td>304</td>\n",
       "      <td>266773</td>\n",
       "    </tr>\n",
       "    <tr>\n",
       "      <th>3</th>\n",
       "      <td>400</td>\n",
       "      <td>15</td>\n",
       "    </tr>\n",
       "    <tr>\n",
       "      <th>4</th>\n",
       "      <td>403</td>\n",
       "      <td>225</td>\n",
       "    </tr>\n",
       "    <tr>\n",
       "      <th>5</th>\n",
       "      <td>404</td>\n",
       "      <td>20899</td>\n",
       "    </tr>\n",
       "    <tr>\n",
       "      <th>6</th>\n",
       "      <td>500</td>\n",
       "      <td>65</td>\n",
       "    </tr>\n",
       "    <tr>\n",
       "      <th>7</th>\n",
       "      <td>501</td>\n",
       "      <td>41</td>\n",
       "    </tr>\n",
       "  </tbody>\n",
       "</table>\n",
       "</div>"
      ]
     },
     "metadata": {
      "application/vnd.databricks.v1+output": {
       "addedWidgets": {},
       "arguments": {},
       "data": "<div>\n<style scoped>\n    .dataframe tbody tr th:only-of-type {\n        vertical-align: middle;\n    }\n\n    .dataframe tbody tr th {\n        vertical-align: top;\n    }\n\n    .dataframe thead th {\n        text-align: right;\n    }\n</style>\n<table border=\"1\" class=\"dataframe\">\n  <thead>\n    <tr style=\"text-align: right;\">\n      <th></th>\n      <th>status</th>\n      <th>count</th>\n    </tr>\n  </thead>\n  <tbody>\n    <tr>\n      <th>0</th>\n      <td>200</td>\n      <td>3100524</td>\n    </tr>\n    <tr>\n      <th>1</th>\n      <td>302</td>\n      <td>73070</td>\n    </tr>\n    <tr>\n      <th>2</th>\n      <td>304</td>\n      <td>266773</td>\n    </tr>\n    <tr>\n      <th>3</th>\n      <td>400</td>\n      <td>15</td>\n    </tr>\n    <tr>\n      <th>4</th>\n      <td>403</td>\n      <td>225</td>\n    </tr>\n    <tr>\n      <th>5</th>\n      <td>404</td>\n      <td>20899</td>\n    </tr>\n    <tr>\n      <th>6</th>\n      <td>500</td>\n      <td>65</td>\n    </tr>\n    <tr>\n      <th>7</th>\n      <td>501</td>\n      <td>41</td>\n    </tr>\n  </tbody>\n</table>\n</div>",
       "datasetInfos": [],
       "metadata": {},
       "removedWidgets": [],
       "textData": null,
       "type": "htmlSandbox"
      }
     },
     "output_type": "display_data"
    }
   ],
   "source": [
    "status_freq_pd_df = status_freq_df.toPandas()\n",
    "status_freq_pd_df"
   ]
  },
  {
   "cell_type": "code",
   "execution_count": null,
   "metadata": {
    "application/vnd.databricks.v1+cell": {
     "inputWidgets": {},
     "nuid": "fe4cd4c5-e805-4b4c-841d-5675d02e4892",
     "showTitle": false,
     "title": ""
    },
    "colab": {},
    "colab_type": "code",
    "id": "KXkKQA-WXvC8"
   },
   "outputs": [
    {
     "data": {
      "text/plain": [
       "Out[71]: <AxesSubplot:xlabel='status'>"
      ]
     },
     "metadata": {
      "application/vnd.databricks.v1+output": {
       "addedWidgets": {},
       "arguments": {},
       "data": "Out[71]: <AxesSubplot:xlabel='status'>",
       "datasetInfos": [],
       "metadata": {},
       "removedWidgets": [],
       "type": "ansi"
      }
     },
     "output_type": "display_data"
    },
    {
     "data": {
      "image/png": "[encoded data removed]"
     },
     "metadata": {
      "application/vnd.databricks.v1+output": {
       "addedWidgets": {},
       "arguments": {},
       "data": "data:image/png;base64,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\n",
       "datasetInfos": [],
       "metadata": {},
       "removedWidgets": [],
       "type": "image"
      }
     },
     "output_type": "display_data"
    }
   ],
   "source": [
    "import matplotlib.pyplot as plt\n",
    "%matplotlib inline\n",
    "\n",
    "status_freq_pd_df.plot(x='status', y='count', kind='bar')"
   ]
  },
  {
   "cell_type": "code",
   "execution_count": null,
   "metadata": {
    "application/vnd.databricks.v1+cell": {
     "inputWidgets": {},
     "nuid": "9a46b696-f660-454e-a640-26ac9ad65245",
     "showTitle": false,
     "title": ""
    },
    "colab": {},
    "colab_type": "code",
    "id": "iabid8S6XvC_",
    "outputId": "31df7ac0-35f9-4f9e-f059-c4267865c9b6"
   },
   "outputs": [
    {
     "data": {
      "text/plain": [
       "+------+-------+------------------+\n",
       "|status|  count|        log(count)|\n",
       "+------+-------+------------------+\n",
       "|   200|3100524|14.947081687429097|\n",
       "|   302|  73070|11.199173164785263|\n",
       "|   304| 266773|12.494153388502301|\n",
       "|   400|     15|  2.70805020110221|\n",
       "|   403|    225|  5.41610040220442|\n",
       "|   404|  20899| 9.947456589918252|\n",
       "|   500|     65| 4.174387269895637|\n",
       "|   501|     41| 3.713572066704308|\n",
       "+------+-------+------------------+\n",
       "\n"
      ]
     },
     "metadata": {
      "application/vnd.databricks.v1+output": {
       "addedWidgets": {},
       "arguments": {},
       "data": "+------+-------+------------------+\n|status|  count|        log(count)|\n+------+-------+------------------+\n|   200|3100524|14.947081687429097|\n|   302|  73070|11.199173164785263|\n|   304| 266773|12.494153388502301|\n|   400|     15|  2.70805020110221|\n|   403|    225|  5.41610040220442|\n|   404|  20899| 9.947456589918252|\n|   500|     65| 4.174387269895637|\n|   501|     41| 3.713572066704308|\n+------+-------+------------------+\n\n",
       "datasetInfos": [],
       "metadata": {},
       "removedWidgets": [],
       "type": "ansi"
      }
     },
     "output_type": "display_data"
    }
   ],
   "source": [
    "log_freq_df = status_freq_df.withColumn('log(count)', F.log(status_freq_df['count']))\n",
    "log_freq_df.show()"
   ]
  },
  {
   "cell_type": "markdown",
   "metadata": {
    "application/vnd.databricks.v1+cell": {
     "inputWidgets": {},
     "nuid": "7ecd3be5-06d7-45c4-9354-2847fb3888c9",
     "showTitle": false,
     "title": ""
    },
    "colab_type": "text",
    "id": "CWcfTjlUXvDC"
   },
   "source": [
    "#### Q5: Your Turn: Convert the log\\_freq\\_df to a pandas DataFrame and plot a bar chart displaying counts of each HTTP Status Code"
   ]
  },
  {
   "cell_type": "code",
   "execution_count": null,
   "metadata": {
    "application/vnd.databricks.v1+cell": {
     "inputWidgets": {},
     "nuid": "1aa21463-7d59-4607-963c-047a430f6076",
     "showTitle": false,
     "title": ""
    },
    "colab": {},
    "colab_type": "code",
    "id": "RWWwF5NcXvDD"
   },
   "outputs": [
    {
     "data": {
      "text/plain": [
       "Out[73]: <AxesSubplot:xlabel='status'>"
      ]
     },
     "metadata": {
      "application/vnd.databricks.v1+output": {
       "addedWidgets": {},
       "arguments": {},
       "data": "Out[73]: <AxesSubplot:xlabel='status'>",
       "datasetInfos": [],
       "metadata": {},
       "removedWidgets": [],
       "type": "ansi"
      }
     },
     "output_type": "display_data"
    },
    {
     "data": {
      "image/png": "[encoded data removed]"
     },
     "metadata": {
      "application/vnd.databricks.v1+output": {
       "addedWidgets": {},
       "arguments": {},
       "data": "data:image/png;base64,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\n",
       "datasetInfos": [],
       "metadata": {},
       "removedWidgets": [],
       "type": "image"
      }
     },
     "output_type": "display_data"
    }
   ],
   "source": [
    "# TODO: Replace <FILL IN> with appropriate code\n",
    "log_freq_pd_df = log_freq_df.toPandas()\n",
    "log_freq_pd_df.plot(x='status', y='log(count)', kind='bar')"
   ]
  },
  {
   "cell_type": "markdown",
   "metadata": {
    "application/vnd.databricks.v1+cell": {
     "inputWidgets": {},
     "nuid": "49133f9e-9ace-490f-a834-df40e0bdee7a",
     "showTitle": false,
     "title": ""
    },
    "colab_type": "text",
    "id": "k5oXMLxSXvDH"
   },
   "source": [
    "## Your Turn: Q6: Analyzing Frequent Hosts\n",
    "\n",
    "Let's look at hosts that have accessed the server frequently. Try to get the count of total accesses by each `host` and then sort by the counts and display only the top ten most frequent hosts.\n",
    "\n",
    "__Hints:__\n",
    "\n",
    "- Your Spark DataFrame has a `host` column\n",
    "- Get the counts per `host` which would make a `count` column\n",
    "- Sort by the counts. Please check [__the documentation__](https://spark.apache.org/docs/latest/api/python/pyspark.sql.html#pyspark.sql.DataFrame.sort) to see how to sort in reverse\n",
    "- Remember only to get the top 10 rows from the aggregated dataframe and show them"
   ]
  },
  {
   "cell_type": "code",
   "execution_count": null,
   "metadata": {
    "application/vnd.databricks.v1+cell": {
     "inputWidgets": {},
     "nuid": "1aa256c6-1f1b-4260-b7f1-e5a5006f5338",
     "showTitle": false,
     "title": ""
    },
    "colab": {},
    "colab_type": "code",
    "id": "eBBayokUXvDM",
    "outputId": "83a26ad7-21c2-4b15-b527-5de9ac5b8c5c"
   },
   "outputs": [
    {
     "data": {
      "text/plain": [
       "+--------------------+-----+\n",
       "|                host|count|\n",
       "+--------------------+-----+\n",
       "|piweba3y.prodigy.com|21988|\n",
       "|piweba4y.prodigy.com|16437|\n",
       "|piweba1y.prodigy.com|12825|\n",
       "|  edams.ksc.nasa.gov|11964|\n",
       "|        163.206.89.4| 9697|\n",
       "|         news.ti.com| 8161|\n",
       "|www-d1.proxy.aol.com| 8047|\n",
       "|  alyssa.prodigy.com| 8037|\n",
       "|                    | 7660|\n",
       "| siltb10.orl.mmc.com| 7573|\n",
       "+--------------------+-----+\n",
       "only showing top 10 rows\n",
       "\n"
      ]
     },
     "metadata": {
      "application/vnd.databricks.v1+output": {
       "addedWidgets": {},
       "arguments": {},
       "data": "+--------------------+-----+\n|                host|count|\n+--------------------+-----+\n|piweba3y.prodigy.com|21988|\n|piweba4y.prodigy.com|16437|\n|piweba1y.prodigy.com|12825|\n|  edams.ksc.nasa.gov|11964|\n|        163.206.89.4| 9697|\n|         news.ti.com| 8161|\n|www-d1.proxy.aol.com| 8047|\n|  alyssa.prodigy.com| 8037|\n|                    | 7660|\n| siltb10.orl.mmc.com| 7573|\n+--------------------+-----+\nonly showing top 10 rows\n\n",
       "datasetInfos": [],
       "metadata": {},
       "removedWidgets": [],
       "type": "ansi"
      }
     },
     "output_type": "display_data"
    }
   ],
   "source": [
    "# TODO: Replace <FILL IN> with appropriate code\n",
    "\n",
    "host_sum_df =(logs_df\n",
    "                     .groupBy('host')\n",
    "                     .count()\n",
    "                     .sort('count', ascending=False)\n",
    "                     .cache())\n",
    "\n",
    "host_sum_df.show(10, truncate=True)"
   ]
  },
  {
   "cell_type": "code",
   "execution_count": null,
   "metadata": {
    "application/vnd.databricks.v1+cell": {
     "inputWidgets": {},
     "nuid": "c292f8e8-0045-4a57-bee2-b98e05ec8f92",
     "showTitle": false,
     "title": ""
    },
    "colab": {},
    "colab_type": "code",
    "id": "1dv8Ny3iXvDQ",
    "outputId": "ea532f95-2ff4-4e36-abc5-36297902d8e6"
   },
   "outputs": [
    {
     "data": {
      "text/plain": [
       "Out[76]: ''"
      ]
     },
     "metadata": {
      "application/vnd.databricks.v1+output": {
       "addedWidgets": {},
       "arguments": {},
       "data": "Out[76]: ''",
       "datasetInfos": [],
       "metadata": {},
       "removedWidgets": [],
       "type": "ansi"
      }
     },
     "output_type": "display_data"
    }
   ],
   "source": [
    "host_sum_pd_df = host_sum_df.toPandas()\n",
    "host_sum_pd_df.iloc[8]['host']"
   ]
  },
  {
   "cell_type": "markdown",
   "metadata": {
    "application/vnd.databricks.v1+cell": {
     "inputWidgets": {},
     "nuid": "e496636c-2de6-4698-bb6f-54a68b95d4eb",
     "showTitle": false,
     "title": ""
    },
    "colab_type": "text",
    "id": "qJNpJU2VXvDT"
   },
   "source": [
    "Looks like we have some empty strings as one of the top host names! This teaches us a valuable lesson to not just check for nulls but also potentially empty strings when data wrangling."
   ]
  },
  {
   "cell_type": "markdown",
   "metadata": {
    "application/vnd.databricks.v1+cell": {
     "inputWidgets": {},
     "nuid": "db1ecc2d-1ca5-494b-8f07-221c510d66a5",
     "showTitle": false,
     "title": ""
    },
    "colab_type": "text",
    "id": "Pq5jiBtIXvDU"
   },
   "source": [
    "## Your Turn: Q7: Display the Top 20 Frequent EndPoints\n",
    "\n",
    "Now, let's visualize the number of hits to endpoints (URIs) in the log. To perform this task, start with our `logs_df` and group by the `endpoint` column, aggregate by count, and sort in descending order like the previous question. Also remember to show only the top 20 most frequently accessed endpoints"
   ]
  },
  {
   "cell_type": "code",
   "execution_count": null,
   "metadata": {
    "application/vnd.databricks.v1+cell": {
     "inputWidgets": {},
     "nuid": "00057861-312a-421a-bb4c-4ae61dccd9e4",
     "showTitle": false,
     "title": ""
    },
    "colab": {},
    "colab_type": "code",
    "id": "oxZRXX-AXvDU",
    "outputId": "bae76bd6-6f67-478c-ea46-928f545cf4bc"
   },
   "outputs": [
    {
     "data": {
      "text/plain": [
       "+--------------------+------+\n",
       "|            endpoint| count|\n",
       "+--------------------+------+\n",
       "|/images/NASA-logo...|208714|\n",
       "|/images/KSC-logos...|164970|\n",
       "|/images/MOSAIC-lo...|127908|\n",
       "|/images/USA-logos...|127074|\n",
       "|/images/WORLD-log...|125925|\n",
       "|/images/ksclogo-m...|121572|\n",
       "|           /ksc.html| 83909|\n",
       "|/images/launch-lo...| 76006|\n",
       "|/history/apollo/i...| 68896|\n",
       "| /shuttle/countdown/| 64736|\n",
       "|                   /| 63171|\n",
       "|/images/ksclogosm...| 61393|\n",
       "|/shuttle/missions...| 47315|\n",
       "|/images/launchmed...| 40687|\n",
       "|  /htbin/cdt_main.pl| 39871|\n",
       "|/shuttle/missions...| 31574|\n",
       "|/shuttle/countdow...| 29865|\n",
       "|     /icons/menu.xbm| 29190|\n",
       "|/shuttle/missions...| 29118|\n",
       "|    /icons/blank.xbm| 28852|\n",
       "+--------------------+------+\n",
       "only showing top 20 rows\n",
       "\n"
      ]
     },
     "metadata": {
      "application/vnd.databricks.v1+output": {
       "addedWidgets": {},
       "arguments": {},
       "data": "+--------------------+------+\n|            endpoint| count|\n+--------------------+------+\n|/images/NASA-logo...|208714|\n|/images/KSC-logos...|164970|\n|/images/MOSAIC-lo...|127908|\n|/images/USA-logos...|127074|\n|/images/WORLD-log...|125925|\n|/images/ksclogo-m...|121572|\n|           /ksc.html| 83909|\n|/images/launch-lo...| 76006|\n|/history/apollo/i...| 68896|\n| /shuttle/countdown/| 64736|\n|                   /| 63171|\n|/images/ksclogosm...| 61393|\n|/shuttle/missions...| 47315|\n|/images/launchmed...| 40687|\n|  /htbin/cdt_main.pl| 39871|\n|/shuttle/missions...| 31574|\n|/shuttle/countdow...| 29865|\n|     /icons/menu.xbm| 29190|\n|/shuttle/missions...| 29118|\n|    /icons/blank.xbm| 28852|\n+--------------------+------+\nonly showing top 20 rows\n\n",
       "datasetInfos": [],
       "metadata": {},
       "removedWidgets": [],
       "type": "ansi"
      }
     },
     "output_type": "display_data"
    }
   ],
   "source": [
    "# TODO: Replace <FILL IN> with appropriate code\n",
    "\n",
    "paths_df = (logs_df\n",
    "                 .groupBy('endpoint')\n",
    "                 .count()\n",
    "                 .sort('count', ascending=False)\n",
    "                 .cache())\n",
    "\n",
    "paths_df.show(20, truncate=True)"
   ]
  },
  {
   "cell_type": "code",
   "execution_count": null,
   "metadata": {
    "application/vnd.databricks.v1+cell": {
     "inputWidgets": {},
     "nuid": "83cf1113-9eeb-4a21-9dc7-09665a7f352e",
     "showTitle": false,
     "title": ""
    },
    "colab": {},
    "colab_type": "code",
    "id": "DwfjJG2jXvDX",
    "outputId": "d44c9385-5a6b-4157-83bc-d4d6832cc6a6"
   },
   "outputs": [
    {
     "data": {
      "text/html": [
       "<div>\n",
       "<style scoped>\n",
       "    .dataframe tbody tr th:only-of-type {\n",
       "        vertical-align: middle;\n",
       "    }\n",
       "\n",
       "    .dataframe tbody tr th {\n",
       "        vertical-align: top;\n",
       "    }\n",
       "\n",
       "    .dataframe thead th {\n",
       "        text-align: right;\n",
       "    }\n",
       "</style>\n",
       "<table border=\"1\" class=\"dataframe\">\n",
       "  <thead>\n",
       "    <tr style=\"text-align: right;\">\n",
       "      <th></th>\n",
       "      <th>endpoint</th>\n",
       "      <th>count</th>\n",
       "    </tr>\n",
       "  </thead>\n",
       "  <tbody>\n",
       "    <tr>\n",
       "      <th>0</th>\n",
       "      <td>/images/NASA-logosmall.gif</td>\n",
       "      <td>208714</td>\n",
       "    </tr>\n",
       "    <tr>\n",
       "      <th>1</th>\n",
       "      <td>/images/KSC-logosmall.gif</td>\n",
       "      <td>164970</td>\n",
       "    </tr>\n",
       "    <tr>\n",
       "      <th>2</th>\n",
       "      <td>/images/MOSAIC-logosmall.gif</td>\n",
       "      <td>127908</td>\n",
       "    </tr>\n",
       "    <tr>\n",
       "      <th>3</th>\n",
       "      <td>/images/USA-logosmall.gif</td>\n",
       "      <td>127074</td>\n",
       "    </tr>\n",
       "    <tr>\n",
       "      <th>4</th>\n",
       "      <td>/images/WORLD-logosmall.gif</td>\n",
       "      <td>125925</td>\n",
       "    </tr>\n",
       "    <tr>\n",
       "      <th>...</th>\n",
       "      <td>...</td>\n",
       "      <td>...</td>\n",
       "    </tr>\n",
       "    <tr>\n",
       "      <th>31025</th>\n",
       "      <td>/htbin/wais.pl?raley</td>\n",
       "      <td>1</td>\n",
       "    </tr>\n",
       "    <tr>\n",
       "      <th>31026</th>\n",
       "      <td>/cgi-bin/imagemap/countdown69?84,221</td>\n",
       "      <td>1</td>\n",
       "    </tr>\n",
       "    <tr>\n",
       "      <th>31027</th>\n",
       "      <td>/cgi-bin/imagemap/fr?306,252</td>\n",
       "      <td>1</td>\n",
       "    </tr>\n",
       "    <tr>\n",
       "      <th>31028</th>\n",
       "      <td>/htbin/wais.pl?artificial</td>\n",
       "      <td>1</td>\n",
       "    </tr>\n",
       "    <tr>\n",
       "      <th>31029</th>\n",
       "      <td>/cgi-bin/imagemap/countdown69?355,275</td>\n",
       "      <td>1</td>\n",
       "    </tr>\n",
       "  </tbody>\n",
       "</table>\n",
       "<p>31030 rows × 2 columns</p>\n",
       "</div>"
      ]
     },
     "metadata": {
      "application/vnd.databricks.v1+output": {
       "addedWidgets": {},
       "arguments": {},
       "data": "<div>\n<style scoped>\n    .dataframe tbody tr th:only-of-type {\n        vertical-align: middle;\n    }\n\n    .dataframe tbody tr th {\n        vertical-align: top;\n    }\n\n    .dataframe thead th {\n        text-align: right;\n    }\n</style>\n<table border=\"1\" class=\"dataframe\">\n  <thead>\n    <tr style=\"text-align: right;\">\n      <th></th>\n      <th>endpoint</th>\n      <th>count</th>\n    </tr>\n  </thead>\n  <tbody>\n    <tr>\n      <th>0</th>\n      <td>/images/NASA-logosmall.gif</td>\n      <td>208714</td>\n    </tr>\n    <tr>\n      <th>1</th>\n      <td>/images/KSC-logosmall.gif</td>\n      <td>164970</td>\n    </tr>\n    <tr>\n      <th>2</th>\n      <td>/images/MOSAIC-logosmall.gif</td>\n      <td>127908</td>\n    </tr>\n    <tr>\n      <th>3</th>\n      <td>/images/USA-logosmall.gif</td>\n      <td>127074</td>\n    </tr>\n    <tr>\n      <th>4</th>\n      <td>/images/WORLD-logosmall.gif</td>\n      <td>125925</td>\n    </tr>\n    <tr>\n      <th>...</th>\n      <td>...</td>\n      <td>...</td>\n    </tr>\n    <tr>\n      <th>31025</th>\n      <td>/htbin/wais.pl?raley</td>\n      <td>1</td>\n    </tr>\n    <tr>\n      <th>31026</th>\n      <td>/cgi-bin/imagemap/countdown69?84,221</td>\n      <td>1</td>\n    </tr>\n    <tr>\n      <th>31027</th>\n      <td>/cgi-bin/imagemap/fr?306,252</td>\n      <td>1</td>\n    </tr>\n    <tr>\n      <th>31028</th>\n      <td>/htbin/wais.pl?artificial</td>\n      <td>1</td>\n    </tr>\n    <tr>\n      <th>31029</th>\n      <td>/cgi-bin/imagemap/countdown69?355,275</td>\n      <td>1</td>\n    </tr>\n  </tbody>\n</table>\n<p>31030 rows × 2 columns</p>\n</div>",
       "datasetInfos": [],
       "metadata": {},
       "removedWidgets": [],
       "textData": null,
       "type": "htmlSandbox"
      }
     },
     "output_type": "display_data"
    }
   ],
   "source": [
    "paths_pd_df = paths_df.toPandas()\n",
    "paths_pd_df"
   ]
  },
  {
   "cell_type": "markdown",
   "metadata": {
    "application/vnd.databricks.v1+cell": {
     "inputWidgets": {},
     "nuid": "243c13ec-534f-46d7-b56a-3ad80c08836e",
     "showTitle": false,
     "title": ""
    },
    "colab_type": "text",
    "id": "LrK4j5aIXvDb"
   },
   "source": [
    "## Your Turn: Q8: Top Ten Error Endpoints\n",
    "\n",
    "What are the top ten endpoints requested which did not have return code 200 (HTTP Status OK)? \n",
    "\n",
    "Create a sorted list containing the endpoints and the number of times that they were accessed with a non-200 return code and show the top ten.\n",
    "\n",
    "Think about the steps that you need to perform to determine which endpoints did not have a 200 return code (combination of filtering, grouping, sorting and selecting the top ten aggregated records)"
   ]
  },
  {
   "cell_type": "code",
   "execution_count": null,
   "metadata": {
    "application/vnd.databricks.v1+cell": {
     "inputWidgets": {},
     "nuid": "385324d7-a93a-4015-b30f-89dd395e1b15",
     "showTitle": false,
     "title": ""
    },
    "colab": {},
    "colab_type": "code",
    "id": "s57_3ODMXvDc",
    "outputId": "d25e0c40-eaff-459a-9fd4-40666e226d28"
   },
   "outputs": [],
   "source": [
    "# TODO: Replace <FILL IN> with appropriate code\n",
    "\n",
    "not200_df = logs_df.filter(logs_df.status!=200)\n",
    "\n",
    "error_endpoints_freq_df = (not200_df\n",
    "                 .groupBy('endpoint')\n",
    "                 .count()\n",
    "                 .sort('count', ascending=False)\n",
    "                 .cache())"
   ]
  },
  {
   "cell_type": "code",
   "execution_count": null,
   "metadata": {
    "application/vnd.databricks.v1+cell": {
     "inputWidgets": {},
     "nuid": "8fbe287d-23b9-4489-ae9e-6275610952df",
     "showTitle": false,
     "title": ""
    },
    "colab": {},
    "colab_type": "code",
    "id": "GeAUAEMBXvDh",
    "outputId": "a5bc7840-a464-47ae-f014-9e3108c2b306"
   },
   "outputs": [
    {
     "data": {
      "text/plain": [
       "+-----------------------------------------------+-----+\n",
       "|endpoint                                       |count|\n",
       "+-----------------------------------------------+-----+\n",
       "|/images/NASA-logosmall.gif                     |40082|\n",
       "|/images/KSC-logosmall.gif                      |23763|\n",
       "|/images/MOSAIC-logosmall.gif                   |15245|\n",
       "|/images/USA-logosmall.gif                      |15142|\n",
       "|/images/WORLD-logosmall.gif                    |14773|\n",
       "|/images/ksclogo-medium.gif                     |13559|\n",
       "|/images/launch-logo.gif                        |8806 |\n",
       "|/history/apollo/images/apollo-logo1.gif        |7489 |\n",
       "|/                                              |6296 |\n",
       "|/images/ksclogosmall.gif                       |5669 |\n",
       "|/shuttle/countdown/                            |5559 |\n",
       "|/shuttle/countdown/liftoff.html                |4777 |\n",
       "|/shuttle/countdown/images/countclock.gif       |4576 |\n",
       "|/ksc.html                                      |3916 |\n",
       "|/shuttle/missions/missions.html                |3344 |\n",
       "|/shuttle/countdown/images/cdtclock.gif         |3251 |\n",
       "|/images/launchmedium.gif                       |2965 |\n",
       "|/icons/blank.xbm                               |2856 |\n",
       "|/shuttle/missions/sts-69/sts-69-patch-small.gif|2828 |\n",
       "|/icons/menu.xbm                                |2763 |\n",
       "+-----------------------------------------------+-----+\n",
       "only showing top 20 rows\n",
       "\n"
      ]
     },
     "metadata": {
      "application/vnd.databricks.v1+output": {
       "addedWidgets": {},
       "arguments": {},
       "data": "+-----------------------------------------------+-----+\n|endpoint                                       |count|\n+-----------------------------------------------+-----+\n|/images/NASA-logosmall.gif                     |40082|\n|/images/KSC-logosmall.gif                      |23763|\n|/images/MOSAIC-logosmall.gif                   |15245|\n|/images/USA-logosmall.gif                      |15142|\n|/images/WORLD-logosmall.gif                    |14773|\n|/images/ksclogo-medium.gif                     |13559|\n|/images/launch-logo.gif                        |8806 |\n|/history/apollo/images/apollo-logo1.gif        |7489 |\n|/                                              |6296 |\n|/images/ksclogosmall.gif                       |5669 |\n|/shuttle/countdown/                            |5559 |\n|/shuttle/countdown/liftoff.html                |4777 |\n|/shuttle/countdown/images/countclock.gif       |4576 |\n|/ksc.html                                      |3916 |\n|/shuttle/missions/missions.html                |3344 |\n|/shuttle/countdown/images/cdtclock.gif         |3251 |\n|/images/launchmedium.gif                       |2965 |\n|/icons/blank.xbm                               |2856 |\n|/shuttle/missions/sts-69/sts-69-patch-small.gif|2828 |\n|/icons/menu.xbm                                |2763 |\n+-----------------------------------------------+-----+\nonly showing top 20 rows\n\n",
       "datasetInfos": [],
       "metadata": {},
       "removedWidgets": [],
       "type": "ansi"
      }
     },
     "output_type": "display_data"
    }
   ],
   "source": [
    "error_endpoints_freq_df.show(truncate=False)"
   ]
  },
  {
   "cell_type": "markdown",
   "metadata": {
    "application/vnd.databricks.v1+cell": {
     "inputWidgets": {},
     "nuid": "edacd75c-6ab4-45d5-b2e0-6daf02a4ee58",
     "showTitle": false,
     "title": ""
    },
    "colab_type": "text",
    "id": "ij1wJnMwXvDm"
   },
   "source": [
    "## Example: Number of Unique Daily Hosts\n",
    "\n",
    "For an advanced example, let's look at a way to determine the number of unique hosts in the entire log on a day-by-day basis. This computation will give us counts of the number of unique daily hosts. \n",
    "\n",
    "We'd like a DataFrame sorted by increasing day of the month which includes the day of the month and the associated number of unique hosts for that day. \n",
    "\n",
    "Think about the steps that you need to perform to count the number of different hosts that make requests *each* day.\n",
    "*Since the log only covers a single month, you can ignore the month.*  You may want to use the [`dayofmonth` function](https://spark.apache.org/docs/latest/api/python/pyspark.sql.html#pyspark.sql.functions.dayofmonth) in the `pyspark.sql.functions` module (which we have already imported as __`F`__.\n",
    "\n",
    "\n",
    "**`host_day_df`**\n",
    "\n",
    "A DataFrame with two columns\n",
    "\n",
    "| column | explanation          |\n",
    "| ------ | -------------------- |\n",
    "| `host` | the host name        |\n",
    "| `day`  | the day of the month |\n",
    "\n",
    "There will be one row in this DataFrame for each row in `logs_df`. Essentially, we are just transforming each row of `logs_df`. For example, for this row in `logs_df`:\n",
    "\n",
    "```\n",
    "unicomp6.unicomp.net - - [01/Aug/1995:00:35:41 -0400] \"GET /shuttle/missions/sts-73/news HTTP/1.0\" 302 -\n",
    "```\n",
    "\n",
    "your `host_day_df` should have:\n",
    "\n",
    "```\n",
    "unicomp6.unicomp.net 1\n",
    "```"
   ]
  },
  {
   "cell_type": "code",
   "execution_count": null,
   "metadata": {
    "application/vnd.databricks.v1+cell": {
     "inputWidgets": {},
     "nuid": "24521f03-3261-4849-9166-defc3a6297d5",
     "showTitle": false,
     "title": ""
    },
    "colab": {},
    "colab_type": "code",
    "id": "c0i7-gm9XvDm",
    "outputId": "ef93f5a2-e15d-4631-cbb7-e390dd0c28f0"
   },
   "outputs": [
    {
     "data": {
      "text/plain": [
       "+--------------------+---+\n",
       "|host                |day|\n",
       "+--------------------+---+\n",
       "|199.72.81.55        |1  |\n",
       "|unicomp6.unicomp.net|1  |\n",
       "|199.120.110.21      |1  |\n",
       "|burger.letters.com  |1  |\n",
       "|199.120.110.21      |1  |\n",
       "+--------------------+---+\n",
       "only showing top 5 rows\n",
       "\n"
      ]
     },
     "metadata": {
      "application/vnd.databricks.v1+output": {
       "addedWidgets": {},
       "arguments": {},
       "data": "+--------------------+---+\n|host                |day|\n+--------------------+---+\n|199.72.81.55        |1  |\n|unicomp6.unicomp.net|1  |\n|199.120.110.21      |1  |\n|burger.letters.com  |1  |\n|199.120.110.21      |1  |\n+--------------------+---+\nonly showing top 5 rows\n\n",
       "datasetInfos": [],
       "metadata": {},
       "removedWidgets": [],
       "type": "ansi"
      }
     },
     "output_type": "display_data"
    }
   ],
   "source": [
    "host_day_df = logs_df.select(logs_df.host, \n",
    "                             F.dayofmonth('time').alias('day'))\n",
    "host_day_df.show(5, truncate=False)"
   ]
  },
  {
   "cell_type": "markdown",
   "metadata": {
    "application/vnd.databricks.v1+cell": {
     "inputWidgets": {},
     "nuid": "c20c5866-c173-423d-adc3-2c184b4913fc",
     "showTitle": false,
     "title": ""
    },
    "colab_type": "text",
    "id": "HRu_5V4bXvDs"
   },
   "source": [
    "**`host_day_distinct_df`**\n",
    "\n",
    "This DataFrame has the same columns as `host_day_distinct_df`, but with duplicate (`day`, `host`) rows removed."
   ]
  },
  {
   "cell_type": "code",
   "execution_count": null,
   "metadata": {
    "application/vnd.databricks.v1+cell": {
     "inputWidgets": {},
     "nuid": "d5264191-caa5-438d-9c5c-e6a117d85545",
     "showTitle": false,
     "title": ""
    },
    "colab": {},
    "colab_type": "code",
    "id": "be9KD86vXvDt",
    "outputId": "013470c7-93ab-4c4a-945a-af4c212c85d7"
   },
   "outputs": [
    {
     "data": {
      "text/plain": [
       "+--------------------+---+\n",
       "|host                |day|\n",
       "+--------------------+---+\n",
       "|d104.aa.net         |1  |\n",
       "|199.72.81.55        |1  |\n",
       "|199.120.110.21      |1  |\n",
       "|205.212.115.106     |1  |\n",
       "|unicomp6.unicomp.net|1  |\n",
       "+--------------------+---+\n",
       "only showing top 5 rows\n",
       "\n"
      ]
     },
     "metadata": {
      "application/vnd.databricks.v1+output": {
       "addedWidgets": {},
       "arguments": {},
       "data": "+--------------------+---+\n|host                |day|\n+--------------------+---+\n|d104.aa.net         |1  |\n|199.72.81.55        |1  |\n|199.120.110.21      |1  |\n|205.212.115.106     |1  |\n|unicomp6.unicomp.net|1  |\n+--------------------+---+\nonly showing top 5 rows\n\n",
       "datasetInfos": [],
       "metadata": {},
       "removedWidgets": [],
       "type": "ansi"
      }
     },
     "output_type": "display_data"
    }
   ],
   "source": [
    "host_day_distinct_df = (host_day_df\n",
    "                          .dropDuplicates())\n",
    "host_day_distinct_df.show(5, truncate=False)"
   ]
  },
  {
   "cell_type": "markdown",
   "metadata": {
    "application/vnd.databricks.v1+cell": {
     "inputWidgets": {},
     "nuid": "fceb1fd3-3045-4786-98a8-fa033f55ed9f",
     "showTitle": false,
     "title": ""
    },
    "colab_type": "text",
    "id": "OlCEA952XvDv"
   },
   "source": [
    "**`daily_unique_hosts_df`**\n",
    "\n",
    "A DataFrame with two columns:\n",
    "\n",
    "| column  | explanation                                        |\n",
    "| ------- | -------------------------------------------------- |\n",
    "| `day`   | the day of the month                               |\n",
    "| `count` | the number of unique requesting hosts for that day |"
   ]
  },
  {
   "cell_type": "code",
   "execution_count": null,
   "metadata": {
    "application/vnd.databricks.v1+cell": {
     "inputWidgets": {},
     "nuid": "9b9c72af-ee73-4994-b121-1658e627e1b1",
     "showTitle": false,
     "title": ""
    },
    "colab": {},
    "colab_type": "code",
    "id": "TrVQJOKPXvDv",
    "outputId": "875f282f-13f6-4f9c-b4ee-a8f867f2955f"
   },
   "outputs": [
    {
     "data": {
      "text/html": [
       "<div>\n",
       "<style scoped>\n",
       "    .dataframe tbody tr th:only-of-type {\n",
       "        vertical-align: middle;\n",
       "    }\n",
       "\n",
       "    .dataframe tbody tr th {\n",
       "        vertical-align: top;\n",
       "    }\n",
       "\n",
       "    .dataframe thead th {\n",
       "        text-align: right;\n",
       "    }\n",
       "</style>\n",
       "<table border=\"1\" class=\"dataframe\">\n",
       "  <thead>\n",
       "    <tr style=\"text-align: right;\">\n",
       "      <th></th>\n",
       "      <th>0</th>\n",
       "      <th>1</th>\n",
       "      <th>2</th>\n",
       "      <th>3</th>\n",
       "      <th>4</th>\n",
       "      <th>5</th>\n",
       "      <th>6</th>\n",
       "      <th>7</th>\n",
       "      <th>8</th>\n",
       "      <th>9</th>\n",
       "      <th>...</th>\n",
       "      <th>21</th>\n",
       "      <th>22</th>\n",
       "      <th>23</th>\n",
       "      <th>24</th>\n",
       "      <th>25</th>\n",
       "      <th>26</th>\n",
       "      <th>27</th>\n",
       "      <th>28</th>\n",
       "      <th>29</th>\n",
       "      <th>30</th>\n",
       "    </tr>\n",
       "  </thead>\n",
       "  <tbody>\n",
       "    <tr>\n",
       "      <th>day</th>\n",
       "      <td>1</td>\n",
       "      <td>2</td>\n",
       "      <td>3</td>\n",
       "      <td>4</td>\n",
       "      <td>5</td>\n",
       "      <td>6</td>\n",
       "      <td>7</td>\n",
       "      <td>8</td>\n",
       "      <td>9</td>\n",
       "      <td>10</td>\n",
       "      <td>...</td>\n",
       "      <td>22</td>\n",
       "      <td>23</td>\n",
       "      <td>24</td>\n",
       "      <td>25</td>\n",
       "      <td>26</td>\n",
       "      <td>27</td>\n",
       "      <td>28</td>\n",
       "      <td>29</td>\n",
       "      <td>30</td>\n",
       "      <td>31</td>\n",
       "    </tr>\n",
       "    <tr>\n",
       "      <th>count</th>\n",
       "      <td>7609</td>\n",
       "      <td>4858</td>\n",
       "      <td>10238</td>\n",
       "      <td>9411</td>\n",
       "      <td>9640</td>\n",
       "      <td>10133</td>\n",
       "      <td>10048</td>\n",
       "      <td>7112</td>\n",
       "      <td>6699</td>\n",
       "      <td>8532</td>\n",
       "      <td>...</td>\n",
       "      <td>6828</td>\n",
       "      <td>6797</td>\n",
       "      <td>7946</td>\n",
       "      <td>8333</td>\n",
       "      <td>6741</td>\n",
       "      <td>6846</td>\n",
       "      <td>6090</td>\n",
       "      <td>4825</td>\n",
       "      <td>5265</td>\n",
       "      <td>5913</td>\n",
       "    </tr>\n",
       "  </tbody>\n",
       "</table>\n",
       "<p>2 rows × 31 columns</p>\n",
       "</div>"
      ]
     },
     "metadata": {
      "application/vnd.databricks.v1+output": {
       "addedWidgets": {},
       "arguments": {},
       "data": "<div>\n<style scoped>\n    .dataframe tbody tr th:only-of-type {\n        vertical-align: middle;\n    }\n\n    .dataframe tbody tr th {\n        vertical-align: top;\n    }\n\n    .dataframe thead th {\n        text-align: right;\n    }\n</style>\n<table border=\"1\" class=\"dataframe\">\n  <thead>\n    <tr style=\"text-align: right;\">\n      <th></th>\n      <th>0</th>\n      <th>1</th>\n      <th>2</th>\n      <th>3</th>\n      <th>4</th>\n      <th>5</th>\n      <th>6</th>\n      <th>7</th>\n      <th>8</th>\n      <th>9</th>\n      <th>...</th>\n      <th>21</th>\n      <th>22</th>\n      <th>23</th>\n      <th>24</th>\n      <th>25</th>\n      <th>26</th>\n      <th>27</th>\n      <th>28</th>\n      <th>29</th>\n      <th>30</th>\n    </tr>\n  </thead>\n  <tbody>\n    <tr>\n      <th>day</th>\n      <td>1</td>\n      <td>2</td>\n      <td>3</td>\n      <td>4</td>\n      <td>5</td>\n      <td>6</td>\n      <td>7</td>\n      <td>8</td>\n      <td>9</td>\n      <td>10</td>\n      <td>...</td>\n      <td>22</td>\n      <td>23</td>\n      <td>24</td>\n      <td>25</td>\n      <td>26</td>\n      <td>27</td>\n      <td>28</td>\n      <td>29</td>\n      <td>30</td>\n      <td>31</td>\n    </tr>\n    <tr>\n      <th>count</th>\n      <td>7609</td>\n      <td>4858</td>\n      <td>10238</td>\n      <td>9411</td>\n      <td>9640</td>\n      <td>10133</td>\n      <td>10048</td>\n      <td>7112</td>\n      <td>6699</td>\n      <td>8532</td>\n      <td>...</td>\n      <td>6828</td>\n      <td>6797</td>\n      <td>7946</td>\n      <td>8333</td>\n      <td>6741</td>\n      <td>6846</td>\n      <td>6090</td>\n      <td>4825</td>\n      <td>5265</td>\n      <td>5913</td>\n    </tr>\n  </tbody>\n</table>\n<p>2 rows × 31 columns</p>\n</div>",
       "datasetInfos": [],
       "metadata": {},
       "removedWidgets": [],
       "textData": null,
       "type": "htmlSandbox"
      }
     },
     "output_type": "display_data"
    }
   ],
   "source": [
    "daily_hosts_df = (host_day_distinct_df\n",
    "                     .groupBy('day')\n",
    "                     .count()\n",
    "                     .sort(\"day\"))\n",
    "daily_hosts_df = daily_hosts_df.toPandas()\n",
    "daily_hosts_df.T"
   ]
  },
  {
   "cell_type": "code",
   "execution_count": null,
   "metadata": {
    "application/vnd.databricks.v1+cell": {
     "inputWidgets": {},
     "nuid": "49f8b71f-7de9-49cb-9633-7bd09a97a94a",
     "showTitle": false,
     "title": ""
    },
    "colab": {},
    "colab_type": "code",
    "id": "PUdqNQHiXvDz"
   },
   "outputs": [
    {
     "data": {
      "text/plain": [
       "Out[88]: <AxesSubplot:xlabel='day'>"
      ]
     },
     "metadata": {
      "application/vnd.databricks.v1+output": {
       "addedWidgets": {},
       "arguments": {},
       "data": "Out[88]: <AxesSubplot:xlabel='day'>",
       "datasetInfos": [],
       "metadata": {},
       "removedWidgets": [],
       "type": "ansi"
      }
     },
     "output_type": "display_data"
    },
    {
     "data": {
      "image/png": "[encoded data removed]"
     },
     "metadata": {
      "application/vnd.databricks.v1+output": {
       "addedWidgets": {},
       "arguments": {},
       "data": "data:image/png;base64,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\n",
       "datasetInfos": [],
       "metadata": {},
       "removedWidgets": [],
       "type": "image"
      }
     },
     "output_type": "display_data"
    }
   ],
   "source": [
    "daily_hosts_df.plot(x='day', y='count', kind='line')"
   ]
  },
  {
   "cell_type": "markdown",
   "metadata": {
    "application/vnd.databricks.v1+cell": {
     "inputWidgets": {},
     "nuid": "420d4a7f-7167-49a0-83e7-b6311bbea935",
     "showTitle": false,
     "title": ""
    },
    "colab_type": "text",
    "id": "O5M-HoWHXvD1"
   },
   "source": [
    "## Your Turn: Q9: Counting 404 Response Codes\n",
    "\n",
    "Create a DataFrame containing only log records with a 404 status code (Not Found). \n",
    "\n",
    "Make sure you `cache()` the `not_found_df` dataframe as we will use it in the rest of the exercises here.\n",
    "\n",
    "__How many 404 records are in the log?__"
   ]
  },
  {
   "cell_type": "code",
   "execution_count": null,
   "metadata": {
    "application/vnd.databricks.v1+cell": {
     "inputWidgets": {},
     "nuid": "d0483041-ea4a-4686-bb1f-ebd4fc0741d9",
     "showTitle": false,
     "title": ""
    },
    "colab": {},
    "colab_type": "code",
    "id": "XovkxrduXvD2",
    "outputId": "662c54ce-9fd3-4d97-dbf5-30a1a77b90f9"
   },
   "outputs": [
    {
     "data": {
      "text/plain": [
       "Total 404 responses: 20899\n"
      ]
     },
     "metadata": {
      "application/vnd.databricks.v1+output": {
       "addedWidgets": {},
       "arguments": {},
       "data": "Total 404 responses: 20899\n",
       "datasetInfos": [],
       "metadata": {},
       "removedWidgets": [],
       "type": "ansi"
      }
     },
     "output_type": "display_data"
    }
   ],
   "source": [
    "# TODO: Replace <FILL IN> with appropriate code\n",
    "\n",
    "not_found_df = logs_df.filter(logs_df.status==404).cache()\n",
    "print(('Total 404 responses: {}').format(not_found_df.count()))"
   ]
  },
  {
   "cell_type": "markdown",
   "metadata": {
    "application/vnd.databricks.v1+cell": {
     "inputWidgets": {},
     "nuid": "f52f3880-1c1b-4077-ab1a-26bd7b5ac44d",
     "showTitle": false,
     "title": ""
    },
    "colab_type": "text",
    "id": "wdwYDLCnXvD5"
   },
   "source": [
    "## Your Turn: Q10: Listing the Top Twenty 404 Response Code Endpoints\n",
    "\n",
    "Using the DataFrame containing only log records with a 404 response code that you cached in Q9, print out a list of the top twenty endpoints that generate the most 404 errors.\n",
    "\n",
    "*Remember, top endpoints should be in sorted order*"
   ]
  },
  {
   "cell_type": "code",
   "execution_count": null,
   "metadata": {
    "application/vnd.databricks.v1+cell": {
     "inputWidgets": {},
     "nuid": "3b4c8bd8-4064-4c9a-bb64-94d5a41e3467",
     "showTitle": false,
     "title": ""
    },
    "colab": {},
    "colab_type": "code",
    "id": "Gv3egQAEXvD5",
    "outputId": "6725f87c-1cd4-4387-f61f-9c7cd58f1f93"
   },
   "outputs": [
    {
     "data": {
      "text/plain": [
       "+-----------------------------------------------------------------+-----+\n",
       "|endpoint                                                         |count|\n",
       "+-----------------------------------------------------------------+-----+\n",
       "|/pub/winvn/readme.txt                                            |2004 |\n",
       "|/pub/winvn/release.txt                                           |1732 |\n",
       "|/shuttle/missions/STS-69/mission-STS-69.html                     |683  |\n",
       "|/shuttle/missions/sts-68/ksc-upclose.gif                         |428  |\n",
       "|/history/apollo/a-001/a-001-patch-small.gif                      |384  |\n",
       "|/history/apollo/sa-1/sa-1-patch-small.gif                        |383  |\n",
       "|/://spacelink.msfc.nasa.gov                                      |381  |\n",
       "|/images/crawlerway-logo.gif                                      |374  |\n",
       "|/elv/DELTA/uncons.htm                                            |372  |\n",
       "|/history/apollo/pad-abort-test-1/pad-abort-test-1-patch-small.gif|359  |\n",
       "|/images/nasa-logo.gif                                            |319  |\n",
       "|/shuttle/resources/orbiters/atlantis.gif                         |314  |\n",
       "|/history/apollo/apollo-13.html                                   |304  |\n",
       "|/shuttle/resources/orbiters/discovery.gif                        |263  |\n",
       "|/shuttle/missions/sts-71/images/KSC-95EC-0916.txt                |190  |\n",
       "|/shuttle/resources/orbiters/challenger.gif                       |170  |\n",
       "|/shuttle/missions/technology/sts-newsref/stsref-toc.html         |158  |\n",
       "|/history/apollo/images/little-joe.jpg                            |150  |\n",
       "|/images/lf-logo.gif                                              |143  |\n",
       "|/history/apollo/publications/sp-350/sp-350.txt~                  |140  |\n",
       "+-----------------------------------------------------------------+-----+\n",
       "only showing top 20 rows\n",
       "\n"
      ]
     },
     "metadata": {
      "application/vnd.databricks.v1+output": {
       "addedWidgets": {},
       "arguments": {},
       "data": "+-----------------------------------------------------------------+-----+\n|endpoint                                                         |count|\n+-----------------------------------------------------------------+-----+\n|/pub/winvn/readme.txt                                            |2004 |\n|/pub/winvn/release.txt                                           |1732 |\n|/shuttle/missions/STS-69/mission-STS-69.html                     |683  |\n|/shuttle/missions/sts-68/ksc-upclose.gif                         |428  |\n|/history/apollo/a-001/a-001-patch-small.gif                      |384  |\n|/history/apollo/sa-1/sa-1-patch-small.gif                        |383  |\n|/://spacelink.msfc.nasa.gov                                      |381  |\n|/images/crawlerway-logo.gif                                      |374  |\n|/elv/DELTA/uncons.htm                                            |372  |\n|/history/apollo/pad-abort-test-1/pad-abort-test-1-patch-small.gif|359  |\n|/images/nasa-logo.gif                                            |319  |\n|/shuttle/resources/orbiters/atlantis.gif                         |314  |\n|/history/apollo/apollo-13.html                                   |304  |\n|/shuttle/resources/orbiters/discovery.gif                        |263  |\n|/shuttle/missions/sts-71/images/KSC-95EC-0916.txt                |190  |\n|/shuttle/resources/orbiters/challenger.gif                       |170  |\n|/shuttle/missions/technology/sts-newsref/stsref-toc.html         |158  |\n|/history/apollo/images/little-joe.jpg                            |150  |\n|/images/lf-logo.gif                                              |143  |\n|/history/apollo/publications/sp-350/sp-350.txt~                  |140  |\n+-----------------------------------------------------------------+-----+\nonly showing top 20 rows\n\n",
       "datasetInfos": [],
       "metadata": {},
       "removedWidgets": [],
       "type": "ansi"
      }
     },
     "output_type": "display_data"
    }
   ],
   "source": [
    "# TODO: Replace <FILL IN> with appropriate code\n",
    "\n",
    "hosts_404_count_df = (not_found_df\n",
    "                 .groupBy('endpoint')\n",
    "                 .count()\n",
    "                 .sort('count', ascending=False)\n",
    "                 .cache())\n",
    "\n",
    "hosts_404_count_df.show(truncate=False)"
   ]
  },
  {
   "cell_type": "markdown",
   "metadata": {
    "application/vnd.databricks.v1+cell": {
     "inputWidgets": {},
     "nuid": "a0dad733-3a7d-44ed-88fa-69d46866b607",
     "showTitle": false,
     "title": ""
    },
    "colab_type": "text",
    "id": "UpQl8xaPXvD8"
   },
   "source": [
    "## Your Turn: Q11: Visualizing 404 Errors per Day\n",
    "\n",
    "Let's explore the 404 records temporally now. Similar to the example showing the number of unique daily hosts, break down the 404 requests by day and get the daily counts sorted by day in `errors_by_date_sorted_df`.\n",
    "\n",
    "- Display the results as a pandas dataframe \n",
    "- Also visualize the same dataframe then as a line chart"
   ]
  },
  {
   "cell_type": "code",
   "execution_count": null,
   "metadata": {
    "application/vnd.databricks.v1+cell": {
     "inputWidgets": {},
     "nuid": "0879c7ba-ae27-4904-bdfc-3cfd2d2699da",
     "showTitle": false,
     "title": ""
    },
    "colab": {},
    "colab_type": "code",
    "id": "69N8tHpzXvD9",
    "outputId": "1746aabb-b068-43c0-bbe6-580c3fce7639"
   },
   "outputs": [
    {
     "data": {
      "text/html": [
       "<div>\n",
       "<style scoped>\n",
       "    .dataframe tbody tr th:only-of-type {\n",
       "        vertical-align: middle;\n",
       "    }\n",
       "\n",
       "    .dataframe tbody tr th {\n",
       "        vertical-align: top;\n",
       "    }\n",
       "\n",
       "    .dataframe thead th {\n",
       "        text-align: right;\n",
       "    }\n",
       "</style>\n",
       "<table border=\"1\" class=\"dataframe\">\n",
       "  <thead>\n",
       "    <tr style=\"text-align: right;\">\n",
       "      <th></th>\n",
       "      <th>0</th>\n",
       "      <th>1</th>\n",
       "      <th>2</th>\n",
       "      <th>3</th>\n",
       "      <th>4</th>\n",
       "      <th>5</th>\n",
       "      <th>6</th>\n",
       "      <th>7</th>\n",
       "      <th>8</th>\n",
       "      <th>9</th>\n",
       "      <th>...</th>\n",
       "      <th>21</th>\n",
       "      <th>22</th>\n",
       "      <th>23</th>\n",
       "      <th>24</th>\n",
       "      <th>25</th>\n",
       "      <th>26</th>\n",
       "      <th>27</th>\n",
       "      <th>28</th>\n",
       "      <th>29</th>\n",
       "      <th>30</th>\n",
       "    </tr>\n",
       "  </thead>\n",
       "  <tbody>\n",
       "    <tr>\n",
       "      <th>day</th>\n",
       "      <td>1</td>\n",
       "      <td>2</td>\n",
       "      <td>3</td>\n",
       "      <td>4</td>\n",
       "      <td>5</td>\n",
       "      <td>6</td>\n",
       "      <td>7</td>\n",
       "      <td>8</td>\n",
       "      <td>9</td>\n",
       "      <td>10</td>\n",
       "      <td>...</td>\n",
       "      <td>22</td>\n",
       "      <td>23</td>\n",
       "      <td>24</td>\n",
       "      <td>25</td>\n",
       "      <td>26</td>\n",
       "      <td>27</td>\n",
       "      <td>28</td>\n",
       "      <td>29</td>\n",
       "      <td>30</td>\n",
       "      <td>31</td>\n",
       "    </tr>\n",
       "    <tr>\n",
       "      <th>count</th>\n",
       "      <td>98710</td>\n",
       "      <td>60265</td>\n",
       "      <td>130972</td>\n",
       "      <td>130009</td>\n",
       "      <td>126468</td>\n",
       "      <td>133380</td>\n",
       "      <td>144595</td>\n",
       "      <td>99024</td>\n",
       "      <td>95730</td>\n",
       "      <td>134108</td>\n",
       "      <td>...</td>\n",
       "      <td>93029</td>\n",
       "      <td>97296</td>\n",
       "      <td>116811</td>\n",
       "      <td>120020</td>\n",
       "      <td>90457</td>\n",
       "      <td>94503</td>\n",
       "      <td>82617</td>\n",
       "      <td>67988</td>\n",
       "      <td>80641</td>\n",
       "      <td>90125</td>\n",
       "    </tr>\n",
       "  </tbody>\n",
       "</table>\n",
       "<p>2 rows × 31 columns</p>\n",
       "</div>"
      ]
     },
     "metadata": {
      "application/vnd.databricks.v1+output": {
       "addedWidgets": {},
       "arguments": {},
       "data": "<div>\n<style scoped>\n    .dataframe tbody tr th:only-of-type {\n        vertical-align: middle;\n    }\n\n    .dataframe tbody tr th {\n        vertical-align: top;\n    }\n\n    .dataframe thead th {\n        text-align: right;\n    }\n</style>\n<table border=\"1\" class=\"dataframe\">\n  <thead>\n    <tr style=\"text-align: right;\">\n      <th></th>\n      <th>0</th>\n      <th>1</th>\n      <th>2</th>\n      <th>3</th>\n      <th>4</th>\n      <th>5</th>\n      <th>6</th>\n      <th>7</th>\n      <th>8</th>\n      <th>9</th>\n      <th>...</th>\n      <th>21</th>\n      <th>22</th>\n      <th>23</th>\n      <th>24</th>\n      <th>25</th>\n      <th>26</th>\n      <th>27</th>\n      <th>28</th>\n      <th>29</th>\n      <th>30</th>\n    </tr>\n  </thead>\n  <tbody>\n    <tr>\n      <th>day</th>\n      <td>1</td>\n      <td>2</td>\n      <td>3</td>\n      <td>4</td>\n      <td>5</td>\n      <td>6</td>\n      <td>7</td>\n      <td>8</td>\n      <td>9</td>\n      <td>10</td>\n      <td>...</td>\n      <td>22</td>\n      <td>23</td>\n      <td>24</td>\n      <td>25</td>\n      <td>26</td>\n      <td>27</td>\n      <td>28</td>\n      <td>29</td>\n      <td>30</td>\n      <td>31</td>\n    </tr>\n    <tr>\n      <th>count</th>\n      <td>98710</td>\n      <td>60265</td>\n      <td>130972</td>\n      <td>130009</td>\n      <td>126468</td>\n      <td>133380</td>\n      <td>144595</td>\n      <td>99024</td>\n      <td>95730</td>\n      <td>134108</td>\n      <td>...</td>\n      <td>93029</td>\n      <td>97296</td>\n      <td>116811</td>\n      <td>120020</td>\n      <td>90457</td>\n      <td>94503</td>\n      <td>82617</td>\n      <td>67988</td>\n      <td>80641</td>\n      <td>90125</td>\n    </tr>\n  </tbody>\n</table>\n<p>2 rows × 31 columns</p>\n</div>",
       "datasetInfos": [],
       "metadata": {},
       "removedWidgets": [],
       "textData": null,
       "type": "htmlSandbox"
      }
     },
     "output_type": "display_data"
    }
   ],
   "source": [
    "# TODO: Replace <FILL IN> with appropriate code\n",
    "\n",
    "logs_df = logs_df.select(logs_df.host, F.dayofmonth('time').alias('day'))\n",
    "errors_by_date_sorted_df = (logs_df\n",
    "                     .groupBy('day')\n",
    "                     .count()\n",
    "                     .sort('day')\n",
    "                     .cache())\n",
    "\n",
    "errors_by_date_sorted_df = errors_by_date_sorted_df.toPandas()\n",
    "errors_by_date_sorted_df.T"
   ]
  },
  {
   "cell_type": "code",
   "execution_count": null,
   "metadata": {
    "application/vnd.databricks.v1+cell": {
     "inputWidgets": {},
     "nuid": "19f8a3cd-3c42-43c2-854e-b1ce8b247e05",
     "showTitle": false,
     "title": ""
    },
    "colab": {},
    "colab_type": "code",
    "id": "y-pFX8dJXvD_"
   },
   "outputs": [
    {
     "data": {
      "text/plain": [
       "Out[92]: <AxesSubplot:xlabel='day'>"
      ]
     },
     "metadata": {
      "application/vnd.databricks.v1+output": {
       "addedWidgets": {},
       "arguments": {},
       "data": "Out[92]: <AxesSubplot:xlabel='day'>",
       "datasetInfos": [],
       "metadata": {},
       "removedWidgets": [],
       "type": "ansi"
      }
     },
     "output_type": "display_data"
    },
    {
     "data": {
      "image/png": "[encoded data removed]"
     },
     "metadata": {
      "application/vnd.databricks.v1+output": {
       "addedWidgets": {},
       "arguments": {},
       "data": "data:image/png;base64,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\n",
       "datasetInfos": [],
       "metadata": {},
       "removedWidgets": [],
       "type": "image"
      }
     },
     "output_type": "display_data"
    }
   ],
   "source": [
    "errors_by_date_sorted_df.plot(x='day', y='count', kind='line')"
   ]
  },
  {
   "cell_type": "markdown",
   "metadata": {
    "application/vnd.databricks.v1+cell": {
     "inputWidgets": {},
     "nuid": "0d09e063-33e2-4a2c-b01e-8991dfc805dc",
     "showTitle": false,
     "title": ""
    },
    "colab_type": "text",
    "id": "lRY2RYHeXvED"
   },
   "source": [
    "## Your Turn: Q12: Visualizing Hourly 404 Errors\n",
    "\n",
    "Using the DataFrame `not_found_df` you cached in the Q10, group and sort by hour of the day in increasing order, to create a DataFrame containing the total number of 404 responses for HTTP requests for each hour of the day (midnight starts at 0). \n",
    "\n",
    "- Remember to check out the [__hour__](https://spark.apache.org/docs/latest/api/python/pyspark.sql.html#pyspark.sql.functions.hour) function and use it (we have already imported __`pyspark.sql.functions`__ as __`F`__ earlier\n",
    "- Output should be a bar graph displaying the total number of 404 errors per hour"
   ]
  },
  {
   "cell_type": "code",
   "execution_count": null,
   "metadata": {
    "application/vnd.databricks.v1+cell": {
     "inputWidgets": {},
     "nuid": "4fc190b2-bea3-469e-b022-456c80675e7e",
     "showTitle": false,
     "title": ""
    },
    "colab": {},
    "colab_type": "code",
    "id": "T7Y0Dbz3XvEF",
    "outputId": "873d829e-6b6d-4dc1-b894-0796ef91aec1"
   },
   "outputs": [
    {
     "data": {
      "text/html": [
       "<div>\n",
       "<style scoped>\n",
       "    .dataframe tbody tr th:only-of-type {\n",
       "        vertical-align: middle;\n",
       "    }\n",
       "\n",
       "    .dataframe tbody tr th {\n",
       "        vertical-align: top;\n",
       "    }\n",
       "\n",
       "    .dataframe thead th {\n",
       "        text-align: right;\n",
       "    }\n",
       "</style>\n",
       "<table border=\"1\" class=\"dataframe\">\n",
       "  <thead>\n",
       "    <tr style=\"text-align: right;\">\n",
       "      <th></th>\n",
       "      <th>0</th>\n",
       "      <th>1</th>\n",
       "      <th>2</th>\n",
       "      <th>3</th>\n",
       "      <th>4</th>\n",
       "      <th>5</th>\n",
       "      <th>6</th>\n",
       "      <th>7</th>\n",
       "      <th>8</th>\n",
       "      <th>9</th>\n",
       "      <th>...</th>\n",
       "      <th>14</th>\n",
       "      <th>15</th>\n",
       "      <th>16</th>\n",
       "      <th>17</th>\n",
       "      <th>18</th>\n",
       "      <th>19</th>\n",
       "      <th>20</th>\n",
       "      <th>21</th>\n",
       "      <th>22</th>\n",
       "      <th>23</th>\n",
       "    </tr>\n",
       "  </thead>\n",
       "  <tbody>\n",
       "    <tr>\n",
       "      <th>hour</th>\n",
       "      <td>0</td>\n",
       "      <td>1</td>\n",
       "      <td>2</td>\n",
       "      <td>3</td>\n",
       "      <td>4</td>\n",
       "      <td>5</td>\n",
       "      <td>6</td>\n",
       "      <td>7</td>\n",
       "      <td>8</td>\n",
       "      <td>9</td>\n",
       "      <td>...</td>\n",
       "      <td>14</td>\n",
       "      <td>15</td>\n",
       "      <td>16</td>\n",
       "      <td>17</td>\n",
       "      <td>18</td>\n",
       "      <td>19</td>\n",
       "      <td>20</td>\n",
       "      <td>21</td>\n",
       "      <td>22</td>\n",
       "      <td>23</td>\n",
       "    </tr>\n",
       "    <tr>\n",
       "      <th>count</th>\n",
       "      <td>774</td>\n",
       "      <td>648</td>\n",
       "      <td>868</td>\n",
       "      <td>603</td>\n",
       "      <td>351</td>\n",
       "      <td>307</td>\n",
       "      <td>269</td>\n",
       "      <td>458</td>\n",
       "      <td>705</td>\n",
       "      <td>840</td>\n",
       "      <td>...</td>\n",
       "      <td>1274</td>\n",
       "      <td>1382</td>\n",
       "      <td>1181</td>\n",
       "      <td>1203</td>\n",
       "      <td>930</td>\n",
       "      <td>852</td>\n",
       "      <td>815</td>\n",
       "      <td>879</td>\n",
       "      <td>915</td>\n",
       "      <td>939</td>\n",
       "    </tr>\n",
       "  </tbody>\n",
       "</table>\n",
       "<p>2 rows × 24 columns</p>\n",
       "</div>"
      ]
     },
     "metadata": {
      "application/vnd.databricks.v1+output": {
       "addedWidgets": {},
       "arguments": {},
       "data": "<div>\n<style scoped>\n    .dataframe tbody tr th:only-of-type {\n        vertical-align: middle;\n    }\n\n    .dataframe tbody tr th {\n        vertical-align: top;\n    }\n\n    .dataframe thead th {\n        text-align: right;\n    }\n</style>\n<table border=\"1\" class=\"dataframe\">\n  <thead>\n    <tr style=\"text-align: right;\">\n      <th></th>\n      <th>0</th>\n      <th>1</th>\n      <th>2</th>\n      <th>3</th>\n      <th>4</th>\n      <th>5</th>\n      <th>6</th>\n      <th>7</th>\n      <th>8</th>\n      <th>9</th>\n      <th>...</th>\n      <th>14</th>\n      <th>15</th>\n      <th>16</th>\n      <th>17</th>\n      <th>18</th>\n      <th>19</th>\n      <th>20</th>\n      <th>21</th>\n      <th>22</th>\n      <th>23</th>\n    </tr>\n  </thead>\n  <tbody>\n    <tr>\n      <th>hour</th>\n      <td>0</td>\n      <td>1</td>\n      <td>2</td>\n      <td>3</td>\n      <td>4</td>\n      <td>5</td>\n      <td>6</td>\n      <td>7</td>\n      <td>8</td>\n      <td>9</td>\n      <td>...</td>\n      <td>14</td>\n      <td>15</td>\n      <td>16</td>\n      <td>17</td>\n      <td>18</td>\n      <td>19</td>\n      <td>20</td>\n      <td>21</td>\n      <td>22</td>\n      <td>23</td>\n    </tr>\n    <tr>\n      <th>count</th>\n      <td>774</td>\n      <td>648</td>\n      <td>868</td>\n      <td>603</td>\n      <td>351</td>\n      <td>307</td>\n      <td>269</td>\n      <td>458</td>\n      <td>705</td>\n      <td>840</td>\n      <td>...</td>\n      <td>1274</td>\n      <td>1382</td>\n      <td>1181</td>\n      <td>1203</td>\n      <td>930</td>\n      <td>852</td>\n      <td>815</td>\n      <td>879</td>\n      <td>915</td>\n      <td>939</td>\n    </tr>\n  </tbody>\n</table>\n<p>2 rows × 24 columns</p>\n</div>",
       "datasetInfos": [],
       "metadata": {},
       "removedWidgets": [],
       "textData": null,
       "type": "htmlSandbox"
      }
     },
     "output_type": "display_data"
    }
   ],
   "source": [
    "# TODO: Replace <FILL IN> with appropriate code\n",
    "\n",
    "test_not_found_df = not_found_df.select(not_found_df.status, F.hour('time').alias('hour'))\n",
    "hourly_avg_errors_sorted_df = (test_not_found_df\n",
    "                     .groupBy('hour')\n",
    "                     .count()\n",
    "                     .sort('hour')\n",
    "                     .cache())\n",
    "hourly_avg_errors_sorted_df = hourly_avg_errors_sorted_df.toPandas()\n",
    "hourly_avg_errors_sorted_df.T"
   ]
  },
  {
   "cell_type": "code",
   "execution_count": null,
   "metadata": {
    "application/vnd.databricks.v1+cell": {
     "inputWidgets": {},
     "nuid": "e225261e-aec8-4d79-bca7-011ed34d52c6",
     "showTitle": false,
     "title": ""
    },
    "colab": {},
    "colab_type": "code",
    "id": "R1vsAPs1XvEJ"
   },
   "outputs": [
    {
     "data": {
      "text/plain": [
       "Out[94]: <AxesSubplot:xlabel='hour'>"
      ]
     },
     "metadata": {
      "application/vnd.databricks.v1+output": {
       "addedWidgets": {},
       "arguments": {},
       "data": "Out[94]: <AxesSubplot:xlabel='hour'>",
       "datasetInfos": [],
       "metadata": {},
       "removedWidgets": [],
       "type": "ansi"
      }
     },
     "output_type": "display_data"
    },
    {
     "data": {
      "image/png": "[encoded data removed]"
     },
     "metadata": {
      "application/vnd.databricks.v1+output": {
       "addedWidgets": {},
       "arguments": {},
       "data": "data:image/png;base64,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\n",
       "datasetInfos": [],
       "metadata": {},
       "removedWidgets": [],
       "type": "image"
      }
     },
     "output_type": "display_data"
    }
   ],
   "source": [
    "hourly_avg_errors_sorted_df.plot(x='hour', y='count', kind='line')"
   ]
  },
  {
   "cell_type": "markdown",
   "metadata": {
    "application/vnd.databricks.v1+cell": {
     "inputWidgets": {},
     "nuid": "4f68f020-b943-4b93-8b76-a2a17cb18da0",
     "showTitle": false,
     "title": ""
    },
    "colab_type": "text",
    "id": "GYWAsa8mY425"
   },
   "source": [
    "# Load Data"
   ]
  },
  {
   "cell_type": "markdown",
   "metadata": {
    "application/vnd.databricks.v1+cell": {
     "inputWidgets": {},
     "nuid": "4a4adf94-5a74-40bc-93aa-554f624a1d25",
     "showTitle": false,
     "title": ""
    },
    "colab_type": "text",
    "id": "woEUWlYCY9h0"
   },
   "source": [
    "Up till now, you have completed data extraction, data transformation, and some exploratory data analysis. In the end of this project, we will complete the last step of ETL process: data loading, so the data after  your processing, wrangling, cleaning, can be used by either yourself or other colleagues later. Since we have gone through a few iteration of data processing and data wrangling, it is a good idea to make sure which one is the current dataframe you want to store and load."
   ]
  },
  {
   "cell_type": "markdown",
   "metadata": {
    "application/vnd.databricks.v1+cell": {
     "inputWidgets": {},
     "nuid": "5f20dc41-5c5a-4d0b-b9eb-e905d3d0bc53",
     "showTitle": false,
     "title": ""
    },
    "colab_type": "text",
    "id": "gde50KFwZCyR"
   },
   "source": [
    "## Your Turn: Q13: Check data integrity before loading"
   ]
  },
  {
   "cell_type": "code",
   "execution_count": null,
   "metadata": {
    "application/vnd.databricks.v1+cell": {
     "inputWidgets": {},
     "nuid": "0145c61f-1001-45a1-ab66-a958f7266eb0",
     "showTitle": false,
     "title": ""
    },
    "colab": {},
    "colab_type": "code",
    "id": "Jp9HtJDZZDgm",
    "outputId": "d94fda2f-0e91-401a-eb33-dfa58e5b8f0d"
   },
   "outputs": [
    {
     "data": {
      "text/plain": [
       "3461613\n",
       "['value']\n"
      ]
     },
     "metadata": {
      "application/vnd.databricks.v1+output": {
       "addedWidgets": {},
       "arguments": {},
       "data": "3461613\n['value']\n",
       "datasetInfos": [],
       "metadata": {},
       "removedWidgets": [],
       "type": "ansi"
      }
     },
     "output_type": "display_data"
    }
   ],
   "source": [
    "# TODO: Review the data frame you will like to store and load. Replace <FILL IN> with appropriate code\n",
    "\n",
    "# print(<FILL IN>.count())\n",
    "# print(<FILL IN>.columns)\n",
    "print(base_df.count())\n",
    "print(base_df.columns)"
   ]
  },
  {
   "cell_type": "markdown",
   "metadata": {
    "application/vnd.databricks.v1+cell": {
     "inputWidgets": {},
     "nuid": "0729d935-2e07-49ea-9b30-e98f2aeeb032",
     "showTitle": false,
     "title": ""
    },
    "colab_type": "text",
    "id": "6KT_ajIJZFsi"
   },
   "source": [
    "To save your dataframe in CSV file format, you call simply replace the name of the dataframe and assign file name in the following:"
   ]
  },
  {
   "cell_type": "markdown",
   "metadata": {
    "application/vnd.databricks.v1+cell": {
     "inputWidgets": {},
     "nuid": "b94a3a86-18b5-4c78-9c35-9195d6937e69",
     "showTitle": false,
     "title": ""
    },
    "colab_type": "text",
    "id": "GuiBAZEqZJT1"
   },
   "source": [
    "## Your Turn: Q14: Save your data as a CSV file"
   ]
  },
  {
   "cell_type": "code",
   "execution_count": null,
   "metadata": {
    "application/vnd.databricks.v1+cell": {
     "inputWidgets": {},
     "nuid": "0b0bae17-c25d-4f80-8c6e-479f99232546",
     "showTitle": false,
     "title": ""
    },
    "colab": {},
    "colab_type": "code",
    "id": "DHLpKGA7ZP8P"
   },
   "outputs": [],
   "source": [
    "# TODO: Review the data frame you will like to store and load. Replace <FILL IN> with appropriate code\n",
    "\n",
    "base_df.write.save('base_data.csv', format = 'csv')"
   ]
  },
  {
   "cell_type": "code",
   "execution_count": null,
   "metadata": {
    "application/vnd.databricks.v1+cell": {
     "inputWidgets": {},
     "nuid": "2161ea66-93e6-4d28-966a-fb80d820a63a",
     "showTitle": false,
     "title": ""
    },
    "colab": {},
    "colab_type": "code",
    "id": "EJN6Xy76ZTkW"
   },
   "outputs": [
    {
     "data": {
      "text/plain": [
       "Out[103]: ['\"199.72.81.55 - - [01/Jul/1995:00:00:01 -0400] \\\\\"GET /history/apollo/ HTTP/1.0\\\\\" 200 6245\"',\n",
       " '\"unicomp6.unicomp.net - - [01/Jul/1995:00:00:06 -0400] \\\\\"GET /shuttle/countdown/ HTTP/1.0\\\\\" 200 3985\"',\n",
       " '\"199.120.110.21 - - [01/Jul/1995:00:00:09 -0400] \\\\\"GET /shuttle/missions/sts-73/mission-sts-73.html HTTP/1.0\\\\\" 200 4085\"',\n",
       " '\"burger.letters.com - - [01/Jul/1995:00:00:11 -0400] \\\\\"GET /shuttle/countdown/liftoff.html HTTP/1.0\\\\\" 304 0\"',\n",
       " '\"199.120.110.21 - - [01/Jul/1995:00:00:11 -0400] \\\\\"GET /shuttle/missions/sts-73/sts-73-patch-small.gif HTTP/1.0\\\\\" 200 4179\"']"
      ]
     },
     "metadata": {
      "application/vnd.databricks.v1+output": {
       "addedWidgets": {},
       "arguments": {},
       "data": "Out[103]: ['\"199.72.81.55 - - [01/Jul/1995:00:00:01 -0400] \\\\\"GET /history/apollo/ HTTP/1.0\\\\\" 200 6245\"',\n '\"unicomp6.unicomp.net - - [01/Jul/1995:00:00:06 -0400] \\\\\"GET /shuttle/countdown/ HTTP/1.0\\\\\" 200 3985\"',\n '\"199.120.110.21 - - [01/Jul/1995:00:00:09 -0400] \\\\\"GET /shuttle/missions/sts-73/mission-sts-73.html HTTP/1.0\\\\\" 200 4085\"',\n '\"burger.letters.com - - [01/Jul/1995:00:00:11 -0400] \\\\\"GET /shuttle/countdown/liftoff.html HTTP/1.0\\\\\" 304 0\"',\n '\"199.120.110.21 - - [01/Jul/1995:00:00:11 -0400] \\\\\"GET /shuttle/missions/sts-73/sts-73-patch-small.gif HTTP/1.0\\\\\" 200 4179\"']",
       "datasetInfos": [],
       "metadata": {},
       "removedWidgets": [],
       "type": "ansi"
      }
     },
     "output_type": "display_data"
    }
   ],
   "source": [
    "# TODO: Check to see if you have stored and loaded the CSV file successfully by checking the first 5 rows. Replace <FILL IN> with appropriate code\n",
    "from pyspark.context import SparkContext\n",
    "from pyspark.sql.context import SQLContext\n",
    "from pyspark.sql.session import SparkSession\n",
    "    \n",
    "# sc2 = SparkContext()\n",
    "sqlContext2 = SQLContext(sc)\n",
    "spark_session = SparkSession(sc)\n",
    "    \n",
    "spark_session\\\n",
    "\t.sparkContext\\\n",
    "\t.textFile('base_data.csv')\\\n",
    "\t.take(5)"
   ]
  },
  {
   "cell_type": "markdown",
   "metadata": {
    "application/vnd.databricks.v1+cell": {
     "inputWidgets": {},
     "nuid": "dd653b80-dade-4f4b-a41e-31de8e672456",
     "showTitle": false,
     "title": ""
    },
    "colab_type": "text",
    "id": "nkz9rKU3ZV7S"
   },
   "source": [
    "Similarly, you can also store and load your dataframe as a JSON file by completing the following:"
   ]
  },
  {
   "cell_type": "markdown",
   "metadata": {
    "application/vnd.databricks.v1+cell": {
     "inputWidgets": {},
     "nuid": "6c3ed6db-e3d4-4551-8c6c-bed8dcbe99c8",
     "showTitle": false,
     "title": ""
    },
    "colab_type": "text",
    "id": "l6N5oSjgZaiX"
   },
   "source": [
    "## Your Turn: Q15: Save your data as a JSON file"
   ]
  },
  {
   "cell_type": "code",
   "execution_count": null,
   "metadata": {
    "application/vnd.databricks.v1+cell": {
     "inputWidgets": {},
     "nuid": "f2ce17f2-bd88-43e9-b505-eefbb4ed99c4",
     "showTitle": false,
     "title": ""
    },
    "colab": {},
    "colab_type": "code",
    "id": "nPp5cHZeZZCQ"
   },
   "outputs": [],
   "source": [
    "# TODO: Review the data frame you will like to store and load. Replace <FILL IN> with appropriate code\n",
    "\n",
    "base_df.write.save('base_data.json', format = 'json')"
   ]
  },
  {
   "cell_type": "code",
   "execution_count": null,
   "metadata": {
    "application/vnd.databricks.v1+cell": {
     "inputWidgets": {},
     "nuid": "6b372d2c-403e-4398-acbc-94b2f70ee041",
     "showTitle": false,
     "title": ""
    },
    "colab": {},
    "colab_type": "code",
    "id": "56w3oyaOZgiE"
   },
   "outputs": [
    {
     "data": {
      "text/plain": [
       "Out[106]: ['{\"value\":\"199.72.81.55 - - [01/Jul/1995:00:00:01 -0400] \\\\\"GET /history/apollo/ HTTP/1.0\\\\\" 200 6245\"}',\n",
       " '{\"value\":\"unicomp6.unicomp.net - - [01/Jul/1995:00:00:06 -0400] \\\\\"GET /shuttle/countdown/ HTTP/1.0\\\\\" 200 3985\"}',\n",
       " '{\"value\":\"199.120.110.21 - - [01/Jul/1995:00:00:09 -0400] \\\\\"GET /shuttle/missions/sts-73/mission-sts-73.html HTTP/1.0\\\\\" 200 4085\"}',\n",
       " '{\"value\":\"burger.letters.com - - [01/Jul/1995:00:00:11 -0400] \\\\\"GET /shuttle/countdown/liftoff.html HTTP/1.0\\\\\" 304 0\"}',\n",
       " '{\"value\":\"199.120.110.21 - - [01/Jul/1995:00:00:11 -0400] \\\\\"GET /shuttle/missions/sts-73/sts-73-patch-small.gif HTTP/1.0\\\\\" 200 4179\"}']"
      ]
     },
     "metadata": {
      "application/vnd.databricks.v1+output": {
       "addedWidgets": {},
       "arguments": {},
       "data": "Out[106]: ['{\"value\":\"199.72.81.55 - - [01/Jul/1995:00:00:01 -0400] \\\\\"GET /history/apollo/ HTTP/1.0\\\\\" 200 6245\"}',\n '{\"value\":\"unicomp6.unicomp.net - - [01/Jul/1995:00:00:06 -0400] \\\\\"GET /shuttle/countdown/ HTTP/1.0\\\\\" 200 3985\"}',\n '{\"value\":\"199.120.110.21 - - [01/Jul/1995:00:00:09 -0400] \\\\\"GET /shuttle/missions/sts-73/mission-sts-73.html HTTP/1.0\\\\\" 200 4085\"}',\n '{\"value\":\"burger.letters.com - - [01/Jul/1995:00:00:11 -0400] \\\\\"GET /shuttle/countdown/liftoff.html HTTP/1.0\\\\\" 304 0\"}',\n '{\"value\":\"199.120.110.21 - - [01/Jul/1995:00:00:11 -0400] \\\\\"GET /shuttle/missions/sts-73/sts-73-patch-small.gif HTTP/1.0\\\\\" 200 4179\"}']",
       "datasetInfos": [],
       "metadata": {},
       "removedWidgets": [],
       "type": "ansi"
      }
     },
     "output_type": "display_data"
    }
   ],
   "source": [
    "# TODO: Similarly, check the first 5 rows in the JSON file. Replace <FILL IN> with appropriate code\n",
    "\n",
    "spark_session\\\n",
    "\t.sparkContext\\\n",
    "\t.textFile('base_data.json')\\\n",
    "\t.take(5)"
   ]
  },
  {
   "cell_type": "markdown",
   "metadata": {
    "application/vnd.databricks.v1+cell": {
     "inputWidgets": {},
     "nuid": "e5c803ef-77b4-4dd2-948a-6b8ee9cbf0bc",
     "showTitle": false,
     "title": ""
    },
    "colab_type": "text",
    "id": "P9zYYUIcZjUU"
   },
   "source": [
    "There is a lot more you can do about data storing and loading in terms of data formats and settings. Check out more about these options [__here__](https://spark.apache.org/docs/latest/sql-data-sources-load-save-functions.html)."
   ]
  },
  {
   "cell_type": "markdown",
   "metadata": {
    "application/vnd.databricks.v1+cell": {
     "inputWidgets": {},
     "nuid": "e6790433-068e-47a1-84fe-c92ae01998d3",
     "showTitle": false,
     "title": ""
    },
    "colab_type": "text",
    "id": "lLXpioWzZlug"
   },
   "source": [
    "### Congratulations! You have finished the mini-project for this unit!"
   ]
  }
 ],
 "metadata": {
  "application/vnd.databricks.v1+notebook": {
   "dashboards": [],
   "language": "python",
   "notebookMetadata": {
    "pythonIndentUnit": 4
   },
   "notebookName": "Mini_Project_Data_Wrangling_at_Scale_with_Spark",
   "notebookOrigID": 1290814614229077,
   "widgets": {}
  },
  "colab": {
   "name": "Mini_Project_Data_Wrangling_at_Scale_with_Spark_checkpoint.ipynb",
   "provenance": []
  },
  "kernelspec": {
   "display_name": "Python 3",
   "language": "python",
   "name": "python3"
  },
  "language_info": {
   "codemirror_mode": {
    "name": "ipython",
    "version": 3
   },
   "file_extension": ".py",
   "mimetype": "text/x-python",
   "name": "python",
   "nbconvert_exporter": "python",
   "pygments_lexer": "ipython3",
   "version": "3.7.10"
  },
  "name": "Mini_Project_Data_Wrangling_at_Scale_with_Spark_Solutions_checkpoint",
  "notebookId": 3935650049725854
 },
 "nbformat": 4,
 "nbformat_minor": 4
}
